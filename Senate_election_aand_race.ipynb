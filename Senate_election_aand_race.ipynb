{
 "cells": [
  {
   "cell_type": "markdown",
   "metadata": {},
   "source": [
    "<span style=\"color:#013769; font-size:18px; font-weight:bold;\">Is race/gender diversity correlated with voting for <span style=\"color:#0015BC\">Democratic</span>\n",
    "/\n",
    "<span style=\"color:#FF0000\">Republican</span> parties in Senate Election or not?</span><br>\n",
    "\n",
    "<span style=\"color:mediumpurple; font-weight:bold; font-size:17px;\">Background and Motivation</span>\n",
    "\n",
    "<span style=\"color:#747678; font-size:14px;\">Although many states/counties are considered safe for political parties, some others are not reliable at all. Such that, previously claimed Democratic-held seats turn to be be Republican and vice versa. The race between two parties in a state/county is sometimes too close that follows a runoff. Moreover, some states and counties gradually lean towards another party. This gradual change which leads to flipping of a state/county blue or red, is affected by numerous measurable and immeasurable factors, one of which could be immigration rates. Based on Migration Policy Institute (MPI) report, as of 2018, 44.7 million immigrants live in USA, many of whom will become citizens and eligible to vote within a few years. <br>\n",
    "Also, there's a common sense between many immigrants that the states with more immigrants and mixed raced communities are more leaning towards a particular group (Democrats) like California and New York. <br> My goal is evaluating the accuracy of this common sense.<br>\n",
    "While a few hundreds of votes can flip a county or even an state, it worths studying whether increase in size of this significant groups (immigrants and/or increase in race diversity) is correlated with a county/states leaning towards a particular party or not since candidates of different parties mostly have some known and ofter strict immigration policies. In this project I will study the effect of immigration rate and increase in racial groups which alters demographic population on change in inclination to vote for different parties in counties and states. </span>"
   ]
  },
  {
   "cell_type": "markdown",
   "metadata": {},
   "source": [
    "<span style=\"color:mediumpurple; font-weight:bold; font-size:17px;\">Datasets I used:</span>\n",
    "\n",
    "<span style=\"color:lightsalmon; font-weight:bold; font-size:15px;\">Population and Housing Unit Estimates Datasets</span>: https://www.census.gov/programs-surveys/popest/data/data-sets.html<br>\n",
    "\n",
    "<span style=\"color:lightsalmon; font-weight:bold; font-size:15px;\">U.S. Senate votes 1976–2018\n",
    "Version 4.0</span>: \n",
    "https://dataverse.harvard.edu/dataset.xhtml?persistentId=doi:10.7910/DVN/PEJ5QU<br>"
   ]
  },
  {
   "cell_type": "markdown",
   "metadata": {},
   "source": [
    "<span style=\"color:mediumpurple; font-weight:bold; font-size:17px;\">Sources:</span><br>\n",
    "\n",
    "<span style=\"color:crimson; font-weight:bold; font-size:15px;\">1.</span>\n",
    "<span style=\"color:lightsalmon; font-weight:bold; font-size:15px;\">U.S. Immigrant Population by State and County\n",
    "</span> : https://www.migrationpolicy.org/programs/data-hub/charts/us-immigrant-population-state-and-county<br>"
   ]
  },
  {
   "cell_type": "markdown",
   "metadata": {},
   "source": [
    "<div style=\"background-color:crimson; color: lightsalmon; font-weight:bold; font-size:15px;\">U.S. Senate votes 1976–2018</div>"
   ]
  },
  {
   "cell_type": "markdown",
   "metadata": {},
   "source": [
    "<div style=\"background-color:#FFCD00;\"><span style=\"color:#182B49;\">Importing Libraries</span></div>"
   ]
  },
  {
   "cell_type": "code",
   "execution_count": 1,
   "metadata": {},
   "outputs": [],
   "source": [
    "import pandas as pd\n",
    "import numpy as np\n",
    "import matplotlib.pyplot as plt"
   ]
  },
  {
   "cell_type": "markdown",
   "metadata": {},
   "source": [
    "<div style=\"background-color:#FFCD00;\"><span style=\"color:#182B49;\">Loading Datasets</span></div>"
   ]
  },
  {
   "cell_type": "code",
   "execution_count": 2,
   "metadata": {},
   "outputs": [
    {
     "data": {
      "text/plain": [
       "(3421, 18)"
      ]
     },
     "execution_count": 2,
     "metadata": {},
     "output_type": "execute_result"
    }
   ],
   "source": [
    "#U.S. Senate votes 1976–2018\n",
    "senate_1976_2018 = pd.read_csv(\"1976-2018-senate.csv\", encoding = 'unicode_escape')\n",
    "senate_1976_2018.shape"
   ]
  },
  {
   "cell_type": "markdown",
   "metadata": {},
   "source": [
    "<div style=\"background-color:#FFCD00;\"><span style=\"color:#182B49;\">Exploring the dataset content</span></div>"
   ]
  },
  {
   "cell_type": "markdown",
   "metadata": {},
   "source": [
    "<span style=\"color:#747678; font-size:14px;\">U.S. Senate votes 1976–2018 contains 3421 rows and 18 columns</span>"
   ]
  },
  {
   "cell_type": "code",
   "execution_count": 3,
   "metadata": {},
   "outputs": [
    {
     "data": {
      "text/plain": [
       "array(['year', 'state', 'state_po', 'state_fips', 'state_cen', 'state_ic',\n",
       "       'office', 'district', 'stage', 'special', 'candidate', 'party',\n",
       "       'writein', 'mode', 'candidatevotes', 'totalvotes', 'unofficial',\n",
       "       'version'], dtype=object)"
      ]
     },
     "execution_count": 3,
     "metadata": {},
     "output_type": "execute_result"
    }
   ],
   "source": [
    "#columns\n",
    "np.array(senate_1976_2018.columns)"
   ]
  },
  {
   "cell_type": "markdown",
   "metadata": {},
   "source": [
    "<span style=\"color:#747678; font-size:14px;\">Columns are <strong>'year', 'state', 'state_po', 'state_fips', 'state_cen', 'state_ic',  'office', 'district', 'stage', 'special', 'candidate', 'party', 'writein', 'mode', 'candidatevotes', 'totalvotes', 'unofficial', 'version'</strong>, many of which are not useful for us, so we'll drop some of them in the following</span>"
   ]
  },
  {
   "cell_type": "markdown",
   "metadata": {},
   "source": [
    "<span style=\"color:#747678; font-size:14px;\">Depicting the first 5 rows of this dataset with <strong>head</strong> method.<br></span>"
   ]
  },
  {
   "cell_type": "code",
   "execution_count": 5,
   "metadata": {},
   "outputs": [
    {
     "data": {
      "text/html": [
       "<div>\n",
       "<style scoped>\n",
       "    .dataframe tbody tr th:only-of-type {\n",
       "        vertical-align: middle;\n",
       "    }\n",
       "\n",
       "    .dataframe tbody tr th {\n",
       "        vertical-align: top;\n",
       "    }\n",
       "\n",
       "    .dataframe thead th {\n",
       "        text-align: right;\n",
       "    }\n",
       "</style>\n",
       "<table border=\"1\" class=\"dataframe\">\n",
       "  <thead>\n",
       "    <tr style=\"text-align: right;\">\n",
       "      <th></th>\n",
       "      <th>year</th>\n",
       "      <th>state</th>\n",
       "      <th>state_po</th>\n",
       "      <th>state_fips</th>\n",
       "      <th>state_cen</th>\n",
       "      <th>state_ic</th>\n",
       "      <th>office</th>\n",
       "      <th>district</th>\n",
       "      <th>stage</th>\n",
       "      <th>special</th>\n",
       "      <th>candidate</th>\n",
       "      <th>party</th>\n",
       "      <th>writein</th>\n",
       "      <th>mode</th>\n",
       "      <th>candidatevotes</th>\n",
       "      <th>totalvotes</th>\n",
       "      <th>unofficial</th>\n",
       "      <th>version</th>\n",
       "    </tr>\n",
       "  </thead>\n",
       "  <tbody>\n",
       "    <tr>\n",
       "      <th>0</th>\n",
       "      <td>1976</td>\n",
       "      <td>Arizona</td>\n",
       "      <td>AZ</td>\n",
       "      <td>4</td>\n",
       "      <td>86</td>\n",
       "      <td>61</td>\n",
       "      <td>US Senate</td>\n",
       "      <td>statewide</td>\n",
       "      <td>gen</td>\n",
       "      <td>False</td>\n",
       "      <td>Sam Steiger</td>\n",
       "      <td>republican</td>\n",
       "      <td>False</td>\n",
       "      <td>total</td>\n",
       "      <td>321236</td>\n",
       "      <td>741210</td>\n",
       "      <td>False</td>\n",
       "      <td>20171011.0</td>\n",
       "    </tr>\n",
       "    <tr>\n",
       "      <th>1</th>\n",
       "      <td>1976</td>\n",
       "      <td>Arizona</td>\n",
       "      <td>AZ</td>\n",
       "      <td>4</td>\n",
       "      <td>86</td>\n",
       "      <td>61</td>\n",
       "      <td>US Senate</td>\n",
       "      <td>statewide</td>\n",
       "      <td>gen</td>\n",
       "      <td>False</td>\n",
       "      <td>Wm. Mathews Feighan</td>\n",
       "      <td>independent</td>\n",
       "      <td>False</td>\n",
       "      <td>total</td>\n",
       "      <td>1565</td>\n",
       "      <td>741210</td>\n",
       "      <td>False</td>\n",
       "      <td>20171011.0</td>\n",
       "    </tr>\n",
       "    <tr>\n",
       "      <th>2</th>\n",
       "      <td>1976</td>\n",
       "      <td>Arizona</td>\n",
       "      <td>AZ</td>\n",
       "      <td>4</td>\n",
       "      <td>86</td>\n",
       "      <td>61</td>\n",
       "      <td>US Senate</td>\n",
       "      <td>statewide</td>\n",
       "      <td>gen</td>\n",
       "      <td>False</td>\n",
       "      <td>Dennis DeConcini</td>\n",
       "      <td>democrat</td>\n",
       "      <td>False</td>\n",
       "      <td>total</td>\n",
       "      <td>400334</td>\n",
       "      <td>741210</td>\n",
       "      <td>False</td>\n",
       "      <td>20171011.0</td>\n",
       "    </tr>\n",
       "    <tr>\n",
       "      <th>3</th>\n",
       "      <td>1976</td>\n",
       "      <td>Arizona</td>\n",
       "      <td>AZ</td>\n",
       "      <td>4</td>\n",
       "      <td>86</td>\n",
       "      <td>61</td>\n",
       "      <td>US Senate</td>\n",
       "      <td>statewide</td>\n",
       "      <td>gen</td>\n",
       "      <td>False</td>\n",
       "      <td>Allan Norwitz</td>\n",
       "      <td>libertarian</td>\n",
       "      <td>False</td>\n",
       "      <td>total</td>\n",
       "      <td>7310</td>\n",
       "      <td>741210</td>\n",
       "      <td>False</td>\n",
       "      <td>20171011.0</td>\n",
       "    </tr>\n",
       "    <tr>\n",
       "      <th>4</th>\n",
       "      <td>1976</td>\n",
       "      <td>Arizona</td>\n",
       "      <td>AZ</td>\n",
       "      <td>4</td>\n",
       "      <td>86</td>\n",
       "      <td>61</td>\n",
       "      <td>US Senate</td>\n",
       "      <td>statewide</td>\n",
       "      <td>gen</td>\n",
       "      <td>False</td>\n",
       "      <td>Bob Field</td>\n",
       "      <td>independent</td>\n",
       "      <td>False</td>\n",
       "      <td>total</td>\n",
       "      <td>10765</td>\n",
       "      <td>741210</td>\n",
       "      <td>False</td>\n",
       "      <td>20171011.0</td>\n",
       "    </tr>\n",
       "  </tbody>\n",
       "</table>\n",
       "</div>"
      ],
      "text/plain": [
       "   year    state state_po  state_fips  state_cen  state_ic     office  \\\n",
       "0  1976  Arizona       AZ           4         86        61  US Senate   \n",
       "1  1976  Arizona       AZ           4         86        61  US Senate   \n",
       "2  1976  Arizona       AZ           4         86        61  US Senate   \n",
       "3  1976  Arizona       AZ           4         86        61  US Senate   \n",
       "4  1976  Arizona       AZ           4         86        61  US Senate   \n",
       "\n",
       "    district stage  special            candidate        party  writein   mode  \\\n",
       "0  statewide   gen    False          Sam Steiger   republican    False  total   \n",
       "1  statewide   gen    False  Wm. Mathews Feighan  independent    False  total   \n",
       "2  statewide   gen    False     Dennis DeConcini     democrat    False  total   \n",
       "3  statewide   gen    False        Allan Norwitz  libertarian    False  total   \n",
       "4  statewide   gen    False            Bob Field  independent    False  total   \n",
       "\n",
       "   candidatevotes  totalvotes  unofficial     version  \n",
       "0          321236      741210       False  20171011.0  \n",
       "1            1565      741210       False  20171011.0  \n",
       "2          400334      741210       False  20171011.0  \n",
       "3            7310      741210       False  20171011.0  \n",
       "4           10765      741210       False  20171011.0  "
      ]
     },
     "execution_count": 5,
     "metadata": {},
     "output_type": "execute_result"
    }
   ],
   "source": [
    "senate_1976_2018.head()"
   ]
  },
  {
   "cell_type": "markdown",
   "metadata": {},
   "source": [
    "<div style=\"background-color:#FFCD00;\"><span style=\"color:#182B49;\">Checking for null cells in the dataset </span></div>"
   ]
  },
  {
   "cell_type": "markdown",
   "metadata": {},
   "source": [
    "<span style=\"color:#747678; font-size:14px;\">Though in many cases one can substitute null cells within a dataset with the most common (frequent) value, mean, mode, etc of the corresponding column, here as we are dealing with the actual votes, if the number of null values are small and hence negligible, we won't substitute these null values and will delete the corresponding rows of the null elements.</span>"
   ]
  },
  {
   "cell_type": "code",
   "execution_count": 6,
   "metadata": {},
   "outputs": [
    {
     "data": {
      "text/plain": [
       "party        563\n",
       "candidate    410\n",
       "version        1\n",
       "dtype: int64"
      ]
     },
     "execution_count": 6,
     "metadata": {},
     "output_type": "execute_result"
    }
   ],
   "source": [
    "#columns which contain null values and the number of null elements\n",
    "null_counts = senate_1976_2018.isnull().sum()\n",
    "null_counts[null_counts > 0].sort_values(ascending=False) \n",
    "#future: ratio of different groups affects the result orr not: #main"
   ]
  },
  {
   "cell_type": "code",
   "execution_count": 7,
   "metadata": {},
   "outputs": [
    {
     "data": {
      "text/plain": [
       "0.16"
      ]
     },
     "execution_count": 7,
     "metadata": {},
     "output_type": "execute_result"
    }
   ],
   "source": [
    "party_null_percentage = 563/len(senate_1976_2018) #percentage of null values in party\n",
    "round(party_null_percentage, 2) "
   ]
  },
  {
   "cell_type": "markdown",
   "metadata": {},
   "source": [
    "<span style=\"color:#747678; font-size:14px;\">In <strong>Party</strong> column, 16 percent of rows contain null value. Since this is not a neglegible number and with a high probablity the people without party are those not included in main parties (otherwise their political party would be recorded), we preserve the rows with null <strong>Party</strong>. We just put None instead of null.<br>\n",
    "    About <strong>Candidate</strong> column which contains candidates' names, it is not of importance for us, so we just ignore it and keep the corresponding columns and put \"not recorded\" instead of null. Also, I guess for most of the candidates without name, party is also not preserved. I'll check it in the following.<br>\n",
    "Also, <strong>version</strong> column is not of interest for us as will be seen in the future. This column will be entirely omited as is not relevant to our study.</span>"
   ]
  },
  {
   "cell_type": "code",
   "execution_count": 8,
   "metadata": {},
   "outputs": [
    {
     "name": "stdout",
     "output_type": "stream",
     "text": [
      "There are 0 common elements in party_nulls and candidate_nulls.\n"
     ]
    }
   ],
   "source": [
    "#checking whether rows with null values in party are the ones which doesn't also contain candidate names or not. \n",
    "party_nulls = list(senate_1976_2018['party'].isnull()) #list of null/not null elements of column \"party\" as True/False\n",
    "candidate_nulls = list(senate_1976_2018['candidate'].isnull()) #list of null/not null elements of column \"candidate\" as True/False\n",
    "\n",
    "#checking the common elements of the two above lists\n",
    "common = 0\n",
    "for i in range(len(party_nulls)):\n",
    "    if party_nulls[i] == True and candidate_nulls==True:\n",
    "        common+=1\n",
    "print(\"There are {} common elements in party_nulls and candidate_nulls.\".format(common))"
   ]
  },
  {
   "cell_type": "markdown",
   "metadata": {},
   "source": [
    "<span style=\"color:#747678; font-size:14px;\">Based on above cell, our guess is not true as there's no relation between a candidate's name not being recorded and their party not being recorded.</span>"
   ]
  },
  {
   "cell_type": "markdown",
   "metadata": {},
   "source": [
    "<span style=\"color:#747678; font-size:14px;\">Substituting \"not recorded\" with \"null\" in null cells of party and candidate columns. I want to depict it as not recorded because the number of votes for each of the not recorded parties might be high and not negligible.</span>"
   ]
  },
  {
   "cell_type": "code",
   "execution_count": 9,
   "metadata": {},
   "outputs": [],
   "source": [
    "senate_1976_2018.party.replace(np.NaN, 'not recorded', inplace=True) #substituting \"null\" with \"not recorded\"\n",
    "senate_1976_2018.candidate.replace(np.NaN, 'not recorded', inplace=True) #substituting \"null\" with \"not recorded\"\n",
    "senate_1976_2018.version.replace(np.NaN, 'not recorded', inplace=True) #substituting \"null\" with \"not recorded\""
   ]
  },
  {
   "cell_type": "code",
   "execution_count": 10,
   "metadata": {},
   "outputs": [
    {
     "data": {
      "text/plain": [
       "Series([], dtype: int64)"
      ]
     },
     "execution_count": 10,
     "metadata": {},
     "output_type": "execute_result"
    }
   ],
   "source": [
    "#checking number of nulls / whether the above line worked or not (substituted nulls with string \"not recorded\")\n",
    "null_counts = senate_1976_2018.isnull().sum()\n",
    "null_counts[null_counts > 0].sort_values(ascending=False) "
   ]
  },
  {
   "cell_type": "markdown",
   "metadata": {},
   "source": [
    "<span style=\"color:#747678; font-size:14px;\">Null cells are substituted with \"not recorded\"</span>"
   ]
  },
  {
   "cell_type": "markdown",
   "metadata": {},
   "source": [
    "<div style=\"background-color:#FFCD00;\"><span style=\"color:#182B49;\">Exploring dataset columns</span></div>"
   ]
  },
  {
   "cell_type": "markdown",
   "metadata": {},
   "source": [
    "<span style=\"color:#747678; font-size:14px;\">Checking either of the columns, unique item in it and whether it is useful for us or not<br></span>"
   ]
  },
  {
   "cell_type": "code",
   "execution_count": 11,
   "metadata": {},
   "outputs": [
    {
     "data": {
      "text/plain": [
       "array(['0        2.0171e+07\\n1        2.0171e+07\\n2        2.0171e+07\\n3        2.0171e+07\\n4        2.0171e+07\\n           ...     \\n3416    2.01901e+07\\n3417    2.01901e+07\\n3418    2.01901e+07\\n3419    2.01901e+07\\n3420    2.01901e+07\\nName: version, Length: 3421, dtype: object'],\n",
       "      dtype='<U262')"
      ]
     },
     "execution_count": 11,
     "metadata": {},
     "output_type": "execute_result"
    }
   ],
   "source": [
    "#version column \n",
    "#it is of no value for our research so we will drop it\n",
    "np.unique(str(senate_1976_2018['version'])) #unique elements in this column"
   ]
  },
  {
   "cell_type": "code",
   "execution_count": 12,
   "metadata": {},
   "outputs": [
    {
     "name": "stdout",
     "output_type": "stream",
     "text": [
      "Official:  3418\n",
      "Unofficial:  3\n"
     ]
    }
   ],
   "source": [
    "#officially and unofficially reported votes\n",
    "print(\"Official: \", list(senate_1976_2018['unofficial']).count(False))\n",
    "print(\"Unofficial: \", list(senate_1976_2018['unofficial']).count(True))"
   ]
  },
  {
   "cell_type": "code",
   "execution_count": 13,
   "metadata": {},
   "outputs": [
    {
     "name": "stdout",
     "output_type": "stream",
     "text": [
      "50\n"
     ]
    },
    {
     "data": {
      "text/plain": [
       "array(['Alabama', 'Alaska', 'Arizona', 'Arkansas', 'California',\n",
       "       'Colorado', 'Connecticut', 'Delaware', 'Florida', 'Georgia',\n",
       "       'Hawaii', 'Idaho', 'Illinois', 'Indiana', 'Iowa', 'Kansas',\n",
       "       'Kentucky', 'Louisiana', 'Maine', 'Maryland', 'Massachusetts',\n",
       "       'Michigan', 'Minnesota', 'Mississippi', 'Missouri', 'Montana',\n",
       "       'Nebraska', 'Nevada', 'New Hampshire', 'New Jersey', 'New Mexico',\n",
       "       'New York', 'North Carolina', 'North Dakota', 'Ohio', 'Oklahoma',\n",
       "       'Oregon', 'Pennsylvania', 'Rhode Island', 'South Carolina',\n",
       "       'South Dakota', 'Tennessee', 'Texas', 'Utah', 'Vermont',\n",
       "       'Virginia', 'Washington', 'West Virginia', 'Wisconsin', 'Wyoming'],\n",
       "      dtype=object)"
      ]
     },
     "execution_count": 13,
     "metadata": {},
     "output_type": "execute_result"
    }
   ],
   "source": [
    "print(len(list(np.unique(senate_1976_2018['state']) )))#unique elements in column \"state\"\n",
    "np.unique(senate_1976_2018['state'])"
   ]
  },
  {
   "cell_type": "code",
   "execution_count": 14,
   "metadata": {},
   "outputs": [
    {
     "data": {
      "text/plain": [
       "(1976, 2018)"
      ]
     },
     "execution_count": 14,
     "metadata": {},
     "output_type": "execute_result"
    }
   ],
   "source": [
    "np.min(np.unique(senate_1976_2018['year'])), np.max(np.unique(senate_1976_2018['year']))"
   ]
  },
  {
   "cell_type": "code",
   "execution_count": 15,
   "metadata": {},
   "outputs": [
    {
     "data": {
      "text/plain": [
       "array(['statewide'], dtype=object)"
      ]
     },
     "execution_count": 15,
     "metadata": {},
     "output_type": "execute_result"
    }
   ],
   "source": [
    "np.unique(senate_1976_2018['district']) #unique elements in this column"
   ]
  },
  {
   "cell_type": "code",
   "execution_count": 16,
   "metadata": {},
   "outputs": [
    {
     "data": {
      "text/plain": [
       "array(['gen', 'pre'], dtype=object)"
      ]
     },
     "execution_count": 16,
     "metadata": {},
     "output_type": "execute_result"
    }
   ],
   "source": [
    "np.unique(senate_1976_2018['stage']) #unique elements in this column"
   ]
  },
  {
   "cell_type": "code",
   "execution_count": 17,
   "metadata": {},
   "outputs": [
    {
     "data": {
      "text/plain": [
       "Index(['year', 'state', 'state_po', 'state_fips', 'state_cen', 'state_ic',\n",
       "       'office', 'district', 'stage', 'special', 'candidate', 'party',\n",
       "       'writein', 'mode', 'candidatevotes', 'totalvotes', 'unofficial',\n",
       "       'version'],\n",
       "      dtype='object')"
      ]
     },
     "execution_count": 17,
     "metadata": {},
     "output_type": "execute_result"
    }
   ],
   "source": [
    "#columns\n",
    "senate_1976_2018.columns"
   ]
  },
  {
   "cell_type": "code",
   "execution_count": 18,
   "metadata": {},
   "outputs": [
    {
     "data": {
      "text/plain": [
       "array(['US Senate'], dtype=object)"
      ]
     },
     "execution_count": 18,
     "metadata": {},
     "output_type": "execute_result"
    }
   ],
   "source": [
    "np.unique(senate_1976_2018['office']) #unique elements in this column"
   ]
  },
  {
   "cell_type": "code",
   "execution_count": 19,
   "metadata": {},
   "outputs": [
    {
     "data": {
      "text/plain": [
       "array([ 1,  2,  3,  4,  5,  6, 11, 12, 13, 14, 21, 22, 23, 24, 25, 31, 32,\n",
       "       33, 34, 35, 36, 37, 40, 41, 42, 43, 44, 45, 46, 47, 48, 49, 51, 52,\n",
       "       53, 54, 56, 61, 62, 63, 64, 65, 66, 67, 68, 71, 72, 73, 81, 82])"
      ]
     },
     "execution_count": 19,
     "metadata": {},
     "output_type": "execute_result"
    }
   ],
   "source": [
    "np.unique(senate_1976_2018['state_ic']) #unique elements in this column"
   ]
  },
  {
   "cell_type": "code",
   "execution_count": 20,
   "metadata": {},
   "outputs": [
    {
     "data": {
      "text/plain": [
       "array([11, 12, 13, 14, 15, 16, 21, 22, 23, 31, 32, 33, 34, 35, 41, 42, 43,\n",
       "       44, 45, 46, 47, 51, 52, 54, 55, 56, 57, 58, 59, 61, 62, 63, 64, 71,\n",
       "       72, 73, 74, 81, 82, 83, 84, 85, 86, 87, 88, 91, 92, 93, 94, 95])"
      ]
     },
     "execution_count": 20,
     "metadata": {},
     "output_type": "execute_result"
    }
   ],
   "source": [
    "np.unique(senate_1976_2018['state_cen']) #unique elements in this column"
   ]
  },
  {
   "cell_type": "code",
   "execution_count": 21,
   "metadata": {},
   "outputs": [
    {
     "data": {
      "text/plain": [
       "array([ 1,  2,  4,  5,  6,  8,  9, 10, 12, 13, 15, 16, 17, 18, 19, 20, 21,\n",
       "       22, 23, 24, 25, 26, 27, 28, 29, 30, 31, 32, 33, 34, 35, 36, 37, 38,\n",
       "       39, 40, 41, 42, 44, 45, 46, 47, 48, 49, 50, 51, 53, 54, 55, 56])"
      ]
     },
     "execution_count": 21,
     "metadata": {},
     "output_type": "execute_result"
    }
   ],
   "source": [
    "np.unique(senate_1976_2018['state_fips']) #unique elements in this column"
   ]
  },
  {
   "cell_type": "code",
   "execution_count": 22,
   "metadata": {},
   "outputs": [
    {
     "data": {
      "text/plain": [
       "array(['statewide'], dtype=object)"
      ]
     },
     "execution_count": 22,
     "metadata": {},
     "output_type": "execute_result"
    }
   ],
   "source": [
    "np.unique(senate_1976_2018['district']) #unique elements in this column"
   ]
  },
  {
   "cell_type": "code",
   "execution_count": 23,
   "metadata": {},
   "outputs": [
    {
     "data": {
      "text/plain": [
       "array([False,  True])"
      ]
     },
     "execution_count": 23,
     "metadata": {},
     "output_type": "execute_result"
    }
   ],
   "source": [
    "np.unique(senate_1976_2018['special']) #unique elements in this column"
   ]
  },
  {
   "cell_type": "code",
   "execution_count": 24,
   "metadata": {},
   "outputs": [
    {
     "data": {
      "text/plain": [
       "array(['\"Charlie\" Melancon', '\"Jay\" Patel', '\"Jim\" Donelon', ..., 'other',\n",
       "       'other candidates', 'scatter'], dtype=object)"
      ]
     },
     "execution_count": 24,
     "metadata": {},
     "output_type": "execute_result"
    }
   ],
   "source": [
    "np.unique(senate_1976_2018['candidate']) #unique elements in this column"
   ]
  },
  {
   "cell_type": "code",
   "execution_count": 25,
   "metadata": {},
   "outputs": [
    {
     "data": {
      "text/plain": [
       "array(['Independent for Liberty', 'a connecticut party',\n",
       "       'alaska libertarian', 'alaskan independence', 'america first',\n",
       "       'american', 'american constitution', 'american constitution party',\n",
       "       'american independent', 'american shopping party',\n",
       "       'anti-bushist candidate', 'anti-prohibition',\n",
       "       'bob quast for term limits', 'boss for senate', 'builders',\n",
       "       'by petition', 'chsritian pro-life', 'citizens', 'citizens first',\n",
       "       'common sense', 'communist', 'concerned citizens',\n",
       "       'concerns of people', 'connecticut for lieberman', 'conservative',\n",
       "       'constitution', 'constitution party of florida',\n",
       "       'constitution party of wisconsin', 'constitutional',\n",
       "       'constitutionalist', 'consumer', 'contempt of court',\n",
       "       'country party', 'd-r party', 'damn drug dealers', 'democrat',\n",
       "       'democrat (not identified on ballot)', 'democratic socialist',\n",
       "       'democratic-farmer-labor', 'democratic-nonpartisan league',\n",
       "       'democratic-npl', 'desert greens', 'economic growth',\n",
       "       'for the people', 'free libertarian', 'freedom for larouche',\n",
       "       'god we trust', 'god, family, and country', 'grassroots',\n",
       "       'grassroots party', 'green', 'human rights', 'i.d.e.a.',\n",
       "       'illinois solidarity', 'independence', 'independence fusion',\n",
       "       'independent', 'independent american', 'independent for Maine',\n",
       "       'independent green', 'independent party of delaware',\n",
       "       'independent progressive line', 'independent reform',\n",
       "       'jersey strong independents', 'justice', 'keep america first',\n",
       "       'la raza unida', 'labor', 'labor and farm', 'larouche was right',\n",
       "       'legal marijuana now', 'legalize marijuana (g.r.i.p.)', 'liberal',\n",
       "       'libertarian', 'liberty union', 'make it simple', 'marijuana',\n",
       "       'marijuana reform', 'minnesota green',\n",
       "       'minnesota open progressives', 'mountain', 'mountain party',\n",
       "       'national democratic party of alabama', 'national statesman',\n",
       "       'natural law', 'nebraska party', 'new alliance', 'new day nj',\n",
       "       'new independent party iowa', 'new union', 'no party',\n",
       "       'no party affiliation', 'no slogan', 'nominated by petition',\n",
       "       'nonaffiliated', 'none', 'nonpartisan', 'not identified',\n",
       "       'not recorded', 'other', 'pacific', 'pacific green', 'patriot',\n",
       "       'peace and freedom', 'peace and prosperity',\n",
       "       'people before profits', \"perot's independents\", 'personal choice',\n",
       "       'petition', \"poor people's campaign\", 'poor peopleÇ\\x90s campaign',\n",
       "       'populist', 'progressive', 'progressive issues', 'prohibition',\n",
       "       'prolife fiscal conservative', 'property rights',\n",
       "       'public interest independent', 'reform', 'reform nation',\n",
       "       'rent is 2 damn high', 'repeal tf807 (hr4277-79)', 'republican',\n",
       "       'republican (not identified on ballot)', 'resource',\n",
       "       'responsibility fairness integrity', 'right to life', 'socialist',\n",
       "       'socialist equality', 'socialist labor', 'socialist party usa',\n",
       "       'socialist workers', 'solidarity', 'statesman', 'tax revolt',\n",
       "       'taxpayers', 'tea party of nevada', 'term limits', 'third party',\n",
       "       'timesizing not downsizing', 'tisch independent citizens',\n",
       "       'totally independent candidate', 'u.s. labor', 'u.s. pacifist',\n",
       "       'u.s. taxpayers', 'unaffiliated', 'unaffiliated american',\n",
       "       'unaffiliated-american', 'unenrolled', 'united citizens',\n",
       "       'united states marijuana', 'united states party',\n",
       "       'unity party of colorado', 'us taxpayers', 'vermont grassroots',\n",
       "       'vermont green', 'veterans party of america', 'votekiss',\n",
       "       'wisconsin green', \"women's equality\", 'workers',\n",
       "       'workers against concessions', 'workers league', 'workers world',\n",
       "       'working families'], dtype=object)"
      ]
     },
     "execution_count": 25,
     "metadata": {},
     "output_type": "execute_result"
    }
   ],
   "source": [
    "#unique parties\n",
    "np.unique(senate_1976_2018['party']) #unique elements in this column"
   ]
  },
  {
   "cell_type": "code",
   "execution_count": 26,
   "metadata": {},
   "outputs": [
    {
     "data": {
      "text/plain": [
       "array([False,  True])"
      ]
     },
     "execution_count": 26,
     "metadata": {},
     "output_type": "execute_result"
    }
   ],
   "source": [
    "np.unique(senate_1976_2018['writein']) #unique elements in this column"
   ]
  },
  {
   "cell_type": "code",
   "execution_count": 27,
   "metadata": {},
   "outputs": [
    {
     "data": {
      "text/plain": [
       "array(['total'], dtype=object)"
      ]
     },
     "execution_count": 27,
     "metadata": {},
     "output_type": "execute_result"
    }
   ],
   "source": [
    "np.unique(senate_1976_2018['mode']) #unique elements in this column"
   ]
  },
  {
   "cell_type": "code",
   "execution_count": 28,
   "metadata": {},
   "outputs": [
    {
     "data": {
      "text/plain": [
       "array([      1,       2,       3, ..., 6955728, 7542753, 7864624])"
      ]
     },
     "execution_count": 28,
     "metadata": {},
     "output_type": "execute_result"
    }
   ],
   "source": [
    "np.unique(senate_1976_2018['candidatevotes']) #unique elements in this column"
   ]
  },
  {
   "cell_type": "code",
   "execution_count": 29,
   "metadata": {},
   "outputs": [
    {
     "data": {
      "text/plain": [
       "array([     1, 101973, 122741, 133364, 155368, 156762, 157632, 162072,\n",
       "       167191, 168002])"
      ]
     },
     "execution_count": 29,
     "metadata": {},
     "output_type": "execute_result"
    }
   ],
   "source": [
    "np.unique(senate_1976_2018['totalvotes'])[:10] #unique elements in this column (first ten)"
   ]
  },
  {
   "cell_type": "code",
   "execution_count": 30,
   "metadata": {},
   "outputs": [
    {
     "data": {
      "text/plain": [
       "array([     1, 101973, 122741, 133364, 155368, 156762, 157632, 162072,\n",
       "       167191, 168002])"
      ]
     },
     "execution_count": 30,
     "metadata": {},
     "output_type": "execute_result"
    }
   ],
   "source": [
    "np.unique(senate_1976_2018['totalvotes'])[:10] #unique elements in this column (first ten)"
   ]
  },
  {
   "cell_type": "markdown",
   "metadata": {},
   "source": [
    "<div style=\"background-color:#FFCD00;\"><span style=\"color:#182B49;\">Distribution of number of votes for each candidate within years based on their party</span></div>"
   ]
  },
  {
   "cell_type": "code",
   "execution_count": 31,
   "metadata": {},
   "outputs": [
    {
     "data": {
      "text/html": [
       "<div>\n",
       "<style scoped>\n",
       "    .dataframe tbody tr th:only-of-type {\n",
       "        vertical-align: middle;\n",
       "    }\n",
       "\n",
       "    .dataframe tbody tr th {\n",
       "        vertical-align: top;\n",
       "    }\n",
       "\n",
       "    .dataframe thead th {\n",
       "        text-align: right;\n",
       "    }\n",
       "</style>\n",
       "<table border=\"1\" class=\"dataframe\">\n",
       "  <thead>\n",
       "    <tr style=\"text-align: right;\">\n",
       "      <th></th>\n",
       "      <th>year</th>\n",
       "      <th>state</th>\n",
       "      <th>state_po</th>\n",
       "      <th>state_fips</th>\n",
       "      <th>state_cen</th>\n",
       "      <th>state_ic</th>\n",
       "      <th>office</th>\n",
       "      <th>district</th>\n",
       "      <th>stage</th>\n",
       "      <th>special</th>\n",
       "      <th>candidate</th>\n",
       "      <th>party</th>\n",
       "      <th>writein</th>\n",
       "      <th>mode</th>\n",
       "      <th>candidatevotes</th>\n",
       "      <th>totalvotes</th>\n",
       "      <th>unofficial</th>\n",
       "      <th>version</th>\n",
       "    </tr>\n",
       "  </thead>\n",
       "  <tbody>\n",
       "    <tr>\n",
       "      <th>0</th>\n",
       "      <td>1976</td>\n",
       "      <td>Arizona</td>\n",
       "      <td>AZ</td>\n",
       "      <td>4</td>\n",
       "      <td>86</td>\n",
       "      <td>61</td>\n",
       "      <td>US Senate</td>\n",
       "      <td>statewide</td>\n",
       "      <td>gen</td>\n",
       "      <td>False</td>\n",
       "      <td>Sam Steiger</td>\n",
       "      <td>republican</td>\n",
       "      <td>False</td>\n",
       "      <td>total</td>\n",
       "      <td>321236</td>\n",
       "      <td>741210</td>\n",
       "      <td>False</td>\n",
       "      <td>2.0171e+07</td>\n",
       "    </tr>\n",
       "    <tr>\n",
       "      <th>1</th>\n",
       "      <td>1976</td>\n",
       "      <td>Arizona</td>\n",
       "      <td>AZ</td>\n",
       "      <td>4</td>\n",
       "      <td>86</td>\n",
       "      <td>61</td>\n",
       "      <td>US Senate</td>\n",
       "      <td>statewide</td>\n",
       "      <td>gen</td>\n",
       "      <td>False</td>\n",
       "      <td>Wm. Mathews Feighan</td>\n",
       "      <td>independent</td>\n",
       "      <td>False</td>\n",
       "      <td>total</td>\n",
       "      <td>1565</td>\n",
       "      <td>741210</td>\n",
       "      <td>False</td>\n",
       "      <td>2.0171e+07</td>\n",
       "    </tr>\n",
       "    <tr>\n",
       "      <th>2</th>\n",
       "      <td>1976</td>\n",
       "      <td>Arizona</td>\n",
       "      <td>AZ</td>\n",
       "      <td>4</td>\n",
       "      <td>86</td>\n",
       "      <td>61</td>\n",
       "      <td>US Senate</td>\n",
       "      <td>statewide</td>\n",
       "      <td>gen</td>\n",
       "      <td>False</td>\n",
       "      <td>Dennis DeConcini</td>\n",
       "      <td>democrat</td>\n",
       "      <td>False</td>\n",
       "      <td>total</td>\n",
       "      <td>400334</td>\n",
       "      <td>741210</td>\n",
       "      <td>False</td>\n",
       "      <td>2.0171e+07</td>\n",
       "    </tr>\n",
       "    <tr>\n",
       "      <th>3</th>\n",
       "      <td>1976</td>\n",
       "      <td>Arizona</td>\n",
       "      <td>AZ</td>\n",
       "      <td>4</td>\n",
       "      <td>86</td>\n",
       "      <td>61</td>\n",
       "      <td>US Senate</td>\n",
       "      <td>statewide</td>\n",
       "      <td>gen</td>\n",
       "      <td>False</td>\n",
       "      <td>Allan Norwitz</td>\n",
       "      <td>libertarian</td>\n",
       "      <td>False</td>\n",
       "      <td>total</td>\n",
       "      <td>7310</td>\n",
       "      <td>741210</td>\n",
       "      <td>False</td>\n",
       "      <td>2.0171e+07</td>\n",
       "    </tr>\n",
       "    <tr>\n",
       "      <th>4</th>\n",
       "      <td>1976</td>\n",
       "      <td>Arizona</td>\n",
       "      <td>AZ</td>\n",
       "      <td>4</td>\n",
       "      <td>86</td>\n",
       "      <td>61</td>\n",
       "      <td>US Senate</td>\n",
       "      <td>statewide</td>\n",
       "      <td>gen</td>\n",
       "      <td>False</td>\n",
       "      <td>Bob Field</td>\n",
       "      <td>independent</td>\n",
       "      <td>False</td>\n",
       "      <td>total</td>\n",
       "      <td>10765</td>\n",
       "      <td>741210</td>\n",
       "      <td>False</td>\n",
       "      <td>2.0171e+07</td>\n",
       "    </tr>\n",
       "  </tbody>\n",
       "</table>\n",
       "</div>"
      ],
      "text/plain": [
       "   year    state state_po  state_fips  state_cen  state_ic     office  \\\n",
       "0  1976  Arizona       AZ           4         86        61  US Senate   \n",
       "1  1976  Arizona       AZ           4         86        61  US Senate   \n",
       "2  1976  Arizona       AZ           4         86        61  US Senate   \n",
       "3  1976  Arizona       AZ           4         86        61  US Senate   \n",
       "4  1976  Arizona       AZ           4         86        61  US Senate   \n",
       "\n",
       "    district stage  special            candidate        party  writein   mode  \\\n",
       "0  statewide   gen    False          Sam Steiger   republican    False  total   \n",
       "1  statewide   gen    False  Wm. Mathews Feighan  independent    False  total   \n",
       "2  statewide   gen    False     Dennis DeConcini     democrat    False  total   \n",
       "3  statewide   gen    False        Allan Norwitz  libertarian    False  total   \n",
       "4  statewide   gen    False            Bob Field  independent    False  total   \n",
       "\n",
       "   candidatevotes  totalvotes  unofficial     version  \n",
       "0          321236      741210       False  2.0171e+07  \n",
       "1            1565      741210       False  2.0171e+07  \n",
       "2          400334      741210       False  2.0171e+07  \n",
       "3            7310      741210       False  2.0171e+07  \n",
       "4           10765      741210       False  2.0171e+07  "
      ]
     },
     "execution_count": 31,
     "metadata": {},
     "output_type": "execute_result"
    }
   ],
   "source": [
    "senate_1976_2018.head()"
   ]
  },
  {
   "cell_type": "code",
   "execution_count": 32,
   "metadata": {},
   "outputs": [],
   "source": [
    "dem = senate_1976_2018[senate_1976_2018['party']=='democrat']['candidatevotes']\n",
    "y_dem = senate_1976_2018[senate_1976_2018['party']=='democrat']['year']\n",
    "rep = senate_1976_2018[senate_1976_2018['party']=='republican']['candidatevotes']\n",
    "y_rep = senate_1976_2018[senate_1976_2018['party']=='republican']['year']"
   ]
  },
  {
   "cell_type": "code",
   "execution_count": 33,
   "metadata": {},
   "outputs": [
    {
     "data": {
      "image/png": "[encoded data removed]",
      "text/plain": [
       "<Figure size 576x288 with 1 Axes>"
      ]
     },
     "metadata": {
      "needs_background": "light"
     },
     "output_type": "display_data"
    }
   ],
   "source": [
    "candidates_votes = senate_1976_2018['candidatevotes']\n",
    "\n",
    "fig=plt.figure(figsize=(8, 4))\n",
    "plt.xlabel(\"Year\", fontsize=10)\n",
    "plt.ylabel(\"Number of votes\", fontsize=10)\n",
    "#plt.xlim(min(Cal_annual['year']), max(Cal_annual['year']), 2)\n",
    "#plt.xticks(np.arange(1976, 2020, step=2))\n",
    "#plt.xticks(rotation=70)\n",
    "plt.title(\"Number of votes of each Democrat/ Republican candidate (1976-2018)\", fontsize=10)\n",
    "plt.scatter(y_dem, dem, marker=\"o\", color=\"#0015BC\", label=\"Democrat\", s=2)\n",
    "plt.scatter(y_rep, rep, marker=\"o\", color=\"#FF0000\", label=\"Republican\", s=2)\n",
    "plt.show() "
   ]
  },
  {
   "cell_type": "markdown",
   "metadata": {},
   "source": [
    "<span style=\"color:#747678; font-size:14px;\">It seems that outliers (high values) usually happen for Democraats.</span>"
   ]
  },
  {
   "cell_type": "markdown",
   "metadata": {},
   "source": [
    "<div style=\"background-color:#FFCD00;\"><span style=\"color:#182B49;\">Distribution of number of votes for each candidate within years (bar chart)</span></div>"
   ]
  },
  {
   "cell_type": "markdown",
   "metadata": {},
   "source": [
    "<div style=\"color:#747678; font-weight:bold; font-size:15px;\">Columns of importance for us are the followings:</div>\n",
    "    <span style=\"color:lightsalmon; font-weight:bold; font-size:14px;\">year</span> (1976, 2018)\n",
    "<br>\n",
    "    <span style=\"color:lightsalmon; font-weight:bold; font-size:14px;\">state</span> 50 states of United States<br>\n",
    "    <span style=\"color:lightsalmon; font-weight:bold; font-size:14px;\">state_po </span>Abbreviation<br>\n",
    "    <span style=\"color:lightsalmon; font-weight:bold; font-size:14px;\">candidate</span> Candidates' name<br>\n",
    "    <span style=\"color:lightsalmon; font-weight:bold; font-size:14px;\">party</span> Political party (Republican, Democrat, Independent, Communist!, Social workers, ...)<br>\n",
    "    <span style=\"color:lightsalmon; font-weight:bold; font-size:14px;\">canditatevotes</span> Number of Votes for each candidate<br>\n",
    "    <span style=\"color:lightsalmon; font-weight:bold; font-size:14px;\">totalvotes </span> To preserve the ratio of elected candidate's votes<br><br>\n",
    "<span style=\"color:#747678; font-size:14px;\">Hence, we just preserve these columns and drop other columns.</span><br>"
   ]
  },
  {
   "cell_type": "code",
   "execution_count": 34,
   "metadata": {},
   "outputs": [
    {
     "data": {
      "text/html": [
       "<div>\n",
       "<style scoped>\n",
       "    .dataframe tbody tr th:only-of-type {\n",
       "        vertical-align: middle;\n",
       "    }\n",
       "\n",
       "    .dataframe tbody tr th {\n",
       "        vertical-align: top;\n",
       "    }\n",
       "\n",
       "    .dataframe thead th {\n",
       "        text-align: right;\n",
       "    }\n",
       "</style>\n",
       "<table border=\"1\" class=\"dataframe\">\n",
       "  <thead>\n",
       "    <tr style=\"text-align: right;\">\n",
       "      <th></th>\n",
       "      <th>year</th>\n",
       "      <th>state</th>\n",
       "      <th>state_po</th>\n",
       "      <th>candidate</th>\n",
       "      <th>party</th>\n",
       "      <th>candidatevotes</th>\n",
       "      <th>totalvotes</th>\n",
       "    </tr>\n",
       "  </thead>\n",
       "  <tbody>\n",
       "    <tr>\n",
       "      <th>0</th>\n",
       "      <td>1976</td>\n",
       "      <td>Arizona</td>\n",
       "      <td>AZ</td>\n",
       "      <td>Sam Steiger</td>\n",
       "      <td>republican</td>\n",
       "      <td>321236</td>\n",
       "      <td>741210</td>\n",
       "    </tr>\n",
       "    <tr>\n",
       "      <th>1</th>\n",
       "      <td>1976</td>\n",
       "      <td>Arizona</td>\n",
       "      <td>AZ</td>\n",
       "      <td>Wm. Mathews Feighan</td>\n",
       "      <td>independent</td>\n",
       "      <td>1565</td>\n",
       "      <td>741210</td>\n",
       "    </tr>\n",
       "    <tr>\n",
       "      <th>2</th>\n",
       "      <td>1976</td>\n",
       "      <td>Arizona</td>\n",
       "      <td>AZ</td>\n",
       "      <td>Dennis DeConcini</td>\n",
       "      <td>democrat</td>\n",
       "      <td>400334</td>\n",
       "      <td>741210</td>\n",
       "    </tr>\n",
       "    <tr>\n",
       "      <th>3</th>\n",
       "      <td>1976</td>\n",
       "      <td>Arizona</td>\n",
       "      <td>AZ</td>\n",
       "      <td>Allan Norwitz</td>\n",
       "      <td>libertarian</td>\n",
       "      <td>7310</td>\n",
       "      <td>741210</td>\n",
       "    </tr>\n",
       "    <tr>\n",
       "      <th>4</th>\n",
       "      <td>1976</td>\n",
       "      <td>Arizona</td>\n",
       "      <td>AZ</td>\n",
       "      <td>Bob Field</td>\n",
       "      <td>independent</td>\n",
       "      <td>10765</td>\n",
       "      <td>741210</td>\n",
       "    </tr>\n",
       "    <tr>\n",
       "      <th>...</th>\n",
       "      <td>...</td>\n",
       "      <td>...</td>\n",
       "      <td>...</td>\n",
       "      <td>...</td>\n",
       "      <td>...</td>\n",
       "      <td>...</td>\n",
       "      <td>...</td>\n",
       "    </tr>\n",
       "    <tr>\n",
       "      <th>3416</th>\n",
       "      <td>2018</td>\n",
       "      <td>Wisconsin</td>\n",
       "      <td>WI</td>\n",
       "      <td>not recorded</td>\n",
       "      <td>not recorded</td>\n",
       "      <td>42</td>\n",
       "      <td>2657841</td>\n",
       "    </tr>\n",
       "    <tr>\n",
       "      <th>3417</th>\n",
       "      <td>2018</td>\n",
       "      <td>Wyoming</td>\n",
       "      <td>WY</td>\n",
       "      <td>John Barrasso</td>\n",
       "      <td>republican</td>\n",
       "      <td>136210</td>\n",
       "      <td>203420</td>\n",
       "    </tr>\n",
       "    <tr>\n",
       "      <th>3418</th>\n",
       "      <td>2018</td>\n",
       "      <td>Wyoming</td>\n",
       "      <td>WY</td>\n",
       "      <td>Gary Trauner</td>\n",
       "      <td>democrat</td>\n",
       "      <td>61227</td>\n",
       "      <td>203420</td>\n",
       "    </tr>\n",
       "    <tr>\n",
       "      <th>3419</th>\n",
       "      <td>2018</td>\n",
       "      <td>Wyoming</td>\n",
       "      <td>WY</td>\n",
       "      <td>Joseph Porambo</td>\n",
       "      <td>libertarian</td>\n",
       "      <td>5658</td>\n",
       "      <td>203420</td>\n",
       "    </tr>\n",
       "    <tr>\n",
       "      <th>3420</th>\n",
       "      <td>2018</td>\n",
       "      <td>Wyoming</td>\n",
       "      <td>WY</td>\n",
       "      <td>not recorded</td>\n",
       "      <td>not recorded</td>\n",
       "      <td>325</td>\n",
       "      <td>203420</td>\n",
       "    </tr>\n",
       "  </tbody>\n",
       "</table>\n",
       "<p>3421 rows × 7 columns</p>\n",
       "</div>"
      ],
      "text/plain": [
       "      year      state state_po            candidate         party  \\\n",
       "0     1976    Arizona       AZ          Sam Steiger    republican   \n",
       "1     1976    Arizona       AZ  Wm. Mathews Feighan   independent   \n",
       "2     1976    Arizona       AZ     Dennis DeConcini      democrat   \n",
       "3     1976    Arizona       AZ        Allan Norwitz   libertarian   \n",
       "4     1976    Arizona       AZ            Bob Field   independent   \n",
       "...    ...        ...      ...                  ...           ...   \n",
       "3416  2018  Wisconsin       WI         not recorded  not recorded   \n",
       "3417  2018    Wyoming       WY        John Barrasso    republican   \n",
       "3418  2018    Wyoming       WY         Gary Trauner      democrat   \n",
       "3419  2018    Wyoming       WY       Joseph Porambo   libertarian   \n",
       "3420  2018    Wyoming       WY         not recorded  not recorded   \n",
       "\n",
       "      candidatevotes  totalvotes  \n",
       "0             321236      741210  \n",
       "1               1565      741210  \n",
       "2             400334      741210  \n",
       "3               7310      741210  \n",
       "4              10765      741210  \n",
       "...              ...         ...  \n",
       "3416              42     2657841  \n",
       "3417          136210      203420  \n",
       "3418           61227      203420  \n",
       "3419            5658      203420  \n",
       "3420             325      203420  \n",
       "\n",
       "[3421 rows x 7 columns]"
      ]
     },
     "execution_count": 34,
     "metadata": {},
     "output_type": "execute_result"
    }
   ],
   "source": [
    "senate_1976_2018 = senate_1976_2018[['year', 'state', 'state_po', 'candidate', 'party', 'candidatevotes', 'totalvotes']]\n",
    "senate_1976_2018"
   ]
  },
  {
   "cell_type": "markdown",
   "metadata": {},
   "source": [
    "<span style=\"color:#747678; font-size:14px;\">This dataset contains 3421 rows and 7 columns, in the following I'll depict some informative plots more specifically changes between years.</span><br>"
   ]
  },
  {
   "cell_type": "markdown",
   "metadata": {},
   "source": [
    "<div style=\"background-color:#FFCD00;\"><span style=\"color:#182B49;\">Exploring California votes within years</span></div>"
   ]
  },
  {
   "cell_type": "code",
   "execution_count": 35,
   "metadata": {},
   "outputs": [
    {
     "data": {
      "text/html": [
       "<div>\n",
       "<style scoped>\n",
       "    .dataframe tbody tr th:only-of-type {\n",
       "        vertical-align: middle;\n",
       "    }\n",
       "\n",
       "    .dataframe tbody tr th {\n",
       "        vertical-align: top;\n",
       "    }\n",
       "\n",
       "    .dataframe thead th {\n",
       "        text-align: right;\n",
       "    }\n",
       "</style>\n",
       "<table border=\"1\" class=\"dataframe\">\n",
       "  <thead>\n",
       "    <tr style=\"text-align: right;\">\n",
       "      <th></th>\n",
       "      <th>year</th>\n",
       "      <th>state</th>\n",
       "      <th>state_po</th>\n",
       "      <th>candidate</th>\n",
       "      <th>party</th>\n",
       "      <th>candidatevotes</th>\n",
       "      <th>totalvotes</th>\n",
       "    </tr>\n",
       "  </thead>\n",
       "  <tbody>\n",
       "    <tr>\n",
       "      <th>2677</th>\n",
       "      <td>2012</td>\n",
       "      <td>California</td>\n",
       "      <td>CA</td>\n",
       "      <td>Elizabeth Emken</td>\n",
       "      <td>republican</td>\n",
       "      <td>4713887</td>\n",
       "      <td>12578511</td>\n",
       "    </tr>\n",
       "    <tr>\n",
       "      <th>3073</th>\n",
       "      <td>2016</td>\n",
       "      <td>California</td>\n",
       "      <td>CA</td>\n",
       "      <td>Loretta Sanchez</td>\n",
       "      <td>democrat</td>\n",
       "      <td>4701417</td>\n",
       "      <td>12244170</td>\n",
       "    </tr>\n",
       "    <tr>\n",
       "      <th>3074</th>\n",
       "      <td>2016</td>\n",
       "      <td>California</td>\n",
       "      <td>CA</td>\n",
       "      <td>Kamala D. Harris</td>\n",
       "      <td>democrat</td>\n",
       "      <td>7542753</td>\n",
       "      <td>12244170</td>\n",
       "    </tr>\n",
       "    <tr>\n",
       "      <th>3273</th>\n",
       "      <td>2018</td>\n",
       "      <td>California</td>\n",
       "      <td>CA</td>\n",
       "      <td>Dianne Feinstein</td>\n",
       "      <td>democrat</td>\n",
       "      <td>6019422</td>\n",
       "      <td>11113364</td>\n",
       "    </tr>\n",
       "    <tr>\n",
       "      <th>3274</th>\n",
       "      <td>2018</td>\n",
       "      <td>California</td>\n",
       "      <td>CA</td>\n",
       "      <td>Kevin De Leon</td>\n",
       "      <td>democrat</td>\n",
       "      <td>5093942</td>\n",
       "      <td>11113364</td>\n",
       "    </tr>\n",
       "  </tbody>\n",
       "</table>\n",
       "</div>"
      ],
      "text/plain": [
       "      year       state state_po         candidate       party  candidatevotes  \\\n",
       "2677  2012  California       CA   Elizabeth Emken  republican         4713887   \n",
       "3073  2016  California       CA   Loretta Sanchez    democrat         4701417   \n",
       "3074  2016  California       CA  Kamala D. Harris    democrat         7542753   \n",
       "3273  2018  California       CA  Dianne Feinstein    democrat         6019422   \n",
       "3274  2018  California       CA     Kevin De Leon    democrat         5093942   \n",
       "\n",
       "      totalvotes  \n",
       "2677    12578511  \n",
       "3073    12244170  \n",
       "3074    12244170  \n",
       "3273    11113364  \n",
       "3274    11113364  "
      ]
     },
     "execution_count": 35,
     "metadata": {},
     "output_type": "execute_result"
    }
   ],
   "source": [
    "California = senate_1976_2018[senate_1976_2018['state'] == 'California'] #filtering rows of califonia \n",
    "California.tail() #last 5 elements of California"
   ]
  },
  {
   "cell_type": "code",
   "execution_count": 36,
   "metadata": {},
   "outputs": [
    {
     "name": "stdout",
     "output_type": "stream",
     "text": [
      "There are 88 records for California.\n"
     ]
    }
   ],
   "source": [
    "print(\"There are {} records for California.\".format(len(California)))"
   ]
  },
  {
   "cell_type": "markdown",
   "metadata": {},
   "source": [
    "<div style=\"background-color:#FFCD00;\"><span style=\"color:#182B49;\">Filtering California based on year</span></div>"
   ]
  },
  {
   "cell_type": "code",
   "execution_count": 37,
   "metadata": {},
   "outputs": [
    {
     "data": {
      "text/html": [
       "<div>\n",
       "<style scoped>\n",
       "    .dataframe tbody tr th:only-of-type {\n",
       "        vertical-align: middle;\n",
       "    }\n",
       "\n",
       "    .dataframe tbody tr th {\n",
       "        vertical-align: top;\n",
       "    }\n",
       "\n",
       "    .dataframe thead th {\n",
       "        text-align: right;\n",
       "    }\n",
       "</style>\n",
       "<table border=\"1\" class=\"dataframe\">\n",
       "  <thead>\n",
       "    <tr style=\"text-align: right;\">\n",
       "      <th></th>\n",
       "      <th>year</th>\n",
       "      <th>candidatevotes</th>\n",
       "      <th>totalvotes</th>\n",
       "    </tr>\n",
       "  </thead>\n",
       "  <tbody>\n",
       "    <tr>\n",
       "      <th>0</th>\n",
       "      <td>1976</td>\n",
       "      <td>7470586</td>\n",
       "      <td>37352930</td>\n",
       "    </tr>\n",
       "    <tr>\n",
       "      <th>1</th>\n",
       "      <td>1980</td>\n",
       "      <td>8324012</td>\n",
       "      <td>41620060</td>\n",
       "    </tr>\n",
       "    <tr>\n",
       "      <th>2</th>\n",
       "      <td>1982</td>\n",
       "      <td>7805450</td>\n",
       "      <td>39027250</td>\n",
       "    </tr>\n",
       "    <tr>\n",
       "      <th>3</th>\n",
       "      <td>1986</td>\n",
       "      <td>7398462</td>\n",
       "      <td>36992310</td>\n",
       "    </tr>\n",
       "    <tr>\n",
       "      <th>4</th>\n",
       "      <td>1988</td>\n",
       "      <td>9743598</td>\n",
       "      <td>58461588</td>\n",
       "    </tr>\n",
       "    <tr>\n",
       "      <th>5</th>\n",
       "      <td>1992</td>\n",
       "      <td>21582446</td>\n",
       "      <td>129494676</td>\n",
       "    </tr>\n",
       "    <tr>\n",
       "      <th>6</th>\n",
       "      <td>1994</td>\n",
       "      <td>8514089</td>\n",
       "      <td>59598623</td>\n",
       "    </tr>\n",
       "    <tr>\n",
       "      <th>7</th>\n",
       "      <td>1998</td>\n",
       "      <td>8311905</td>\n",
       "      <td>58183335</td>\n",
       "    </tr>\n",
       "    <tr>\n",
       "      <th>8</th>\n",
       "      <td>2000</td>\n",
       "      <td>10623608</td>\n",
       "      <td>74365256</td>\n",
       "    </tr>\n",
       "    <tr>\n",
       "      <th>9</th>\n",
       "      <td>2004</td>\n",
       "      <td>12053295</td>\n",
       "      <td>72319770</td>\n",
       "    </tr>\n",
       "    <tr>\n",
       "      <th>10</th>\n",
       "      <td>2006</td>\n",
       "      <td>8541476</td>\n",
       "      <td>59790332</td>\n",
       "    </tr>\n",
       "    <tr>\n",
       "      <th>11</th>\n",
       "      <td>2010</td>\n",
       "      <td>10000160</td>\n",
       "      <td>100001600</td>\n",
       "    </tr>\n",
       "    <tr>\n",
       "      <th>12</th>\n",
       "      <td>2012</td>\n",
       "      <td>12578511</td>\n",
       "      <td>25157022</td>\n",
       "    </tr>\n",
       "    <tr>\n",
       "      <th>13</th>\n",
       "      <td>2016</td>\n",
       "      <td>12244170</td>\n",
       "      <td>24488340</td>\n",
       "    </tr>\n",
       "    <tr>\n",
       "      <th>14</th>\n",
       "      <td>2018</td>\n",
       "      <td>11113364</td>\n",
       "      <td>22226728</td>\n",
       "    </tr>\n",
       "  </tbody>\n",
       "</table>\n",
       "</div>"
      ],
      "text/plain": [
       "    year  candidatevotes  totalvotes\n",
       "0   1976         7470586    37352930\n",
       "1   1980         8324012    41620060\n",
       "2   1982         7805450    39027250\n",
       "3   1986         7398462    36992310\n",
       "4   1988         9743598    58461588\n",
       "5   1992        21582446   129494676\n",
       "6   1994         8514089    59598623\n",
       "7   1998         8311905    58183335\n",
       "8   2000        10623608    74365256\n",
       "9   2004        12053295    72319770\n",
       "10  2006         8541476    59790332\n",
       "11  2010        10000160   100001600\n",
       "12  2012        12578511    25157022\n",
       "13  2016        12244170    24488340\n",
       "14  2018        11113364    22226728"
      ]
     },
     "execution_count": 37,
     "metadata": {},
     "output_type": "execute_result"
    }
   ],
   "source": [
    "Cal_annual = California.groupby(['year']).sum().reset_index()\n",
    "Cal_annual"
   ]
  },
  {
   "cell_type": "markdown",
   "metadata": {},
   "source": [
    "<div style=\"background-color:#FFCD00;\"><span style=\"color:#182B49;\">California votes (total and elected candidates (1976-2018))</span></div>"
   ]
  },
  {
   "cell_type": "markdown",
   "metadata": {},
   "source": [
    "<span style=\"color:#747678; font-size:14px;\">Plotting number of votes and the ratio of the votes of elected candidate to total votes from 1976 to 2018</span><br>"
   ]
  },
  {
   "cell_type": "code",
   "execution_count": 38,
   "metadata": {},
   "outputs": [
    {
     "data": {
      "image/png": "[encoded data removed]",
      "text/plain": [
       "<Figure size 432x216 with 1 Axes>"
      ]
     },
     "metadata": {
      "needs_background": "light"
     },
     "output_type": "display_data"
    }
   ],
   "source": [
    "fig=plt.figure(figsize=(6, 3)) #future: women or men\n",
    "plt.xlabel(\"Year\", fontsize=8)\n",
    "plt.ylabel(\"Votes\", fontsize=8)\n",
    "#plt.xlim(min(Cal_annual['year']), max(Cal_annual['year']), 2)\n",
    "plt.xticks(np.arange(1976, 2020, step=2))\n",
    "plt.xticks(rotation=70)\n",
    "plt.title(\"California votes (total and elected candidates (1976-2018))\", fontsize=10)\n",
    "plt.scatter(list(Cal_annual['year']), list(Cal_annual['totalvotes']), marker=\"o\", color=\"blueviolet\")\n",
    "plt.scatter(list(Cal_annual['year']), list(Cal_annual['candidatevotes']), marker=\"o\", color=\"gold\")\n",
    "plt.plot(list(Cal_annual['year']), list(Cal_annual['totalvotes']), marker=\"o\", color=\"blueviolet\")\n",
    "plt.plot(list(Cal_annual['year']), list(Cal_annual['candidatevotes']), marker=\"o\", color=\"gold\")\n",
    "plt.show() "
   ]
  },
  {
   "cell_type": "markdown",
   "metadata": {},
   "source": [
    "<span style=\"color:#747678; font-size:14px;\">Y axis unit is $1e8$</span><br>"
   ]
  },
  {
   "cell_type": "markdown",
   "metadata": {},
   "source": [
    "<div style=\"background-color:#FFCD00;\"><span style=\"color:#182B49;\">Senate elected candidate's votes ratio inCalifornia (1976-2018))</span></div>"
   ]
  },
  {
   "cell_type": "code",
   "execution_count": 39,
   "metadata": {},
   "outputs": [
    {
     "name": "stderr",
     "output_type": "stream",
     "text": [
      "<ipython-input-39-c4d26bea2a88>:12: MatplotlibDeprecationWarning: Adding an axes using the same arguments as a previous axes currently reuses the earlier instance.  In a future version, a new instance will always be created and returned.  Meanwhile, this warning can be suppressed, and the future behavior ensured, by passing a unique label to each axes instance.\n",
      "  ax = fig.add_subplot(111)\n"
     ]
    },
    {
     "data": {
      "image/png": "[encoded data removed]",
      "text/plain": [
       "<Figure size 576x288 with 1 Axes>"
      ]
     },
     "metadata": {
      "needs_background": "light"
     },
     "output_type": "display_data"
    }
   ],
   "source": [
    "import numpy\n",
    "from matplotlib import pyplot\n",
    "\n",
    "ratio = [round(Cal_annual['candidatevotes'][i]/Cal_annual['totalvotes'][i], 2) for i in range(len(Cal_annual['candidatevotes']))] #elected candidate's vote ratio\n",
    "fig=pyplot.figure(figsize=(8, 4))\n",
    "plt.xticks(np.arange(0, 1, step=0.1))\n",
    "plt.xlabel(\"Year\", fontsize=12)\n",
    "plt.ylabel(\"vote ratio\", fontsize=12)\n",
    "plt.title(\"Senate Elected candidate's vote ratio(1976-2018)) in California\", fontsize=14)\n",
    "plt.scatter(list(Cal_annual['year']), ratio, marker=\"o\", color=\"blueviolet\")\n",
    "#plt.plot(list(Cal_annual['year']), ratio, color=\"crimson\")\n",
    "ax = fig.add_subplot(111)\n",
    "ax.set_ylim(0,1)\n",
    "plt.xticks(np.arange(1976, 2020, step=2))\n",
    "plt.xticks(rotation=70)\n",
    "pyplot.plot(list(Cal_annual['year']), ratio)\n",
    "for i,j in zip(list(Cal_annual['year']), ratio):\n",
    "    ax.annotate(str(j),xy=(i,j+0.03), fontsize=8)\n",
    "\n",
    "pyplot.show()"
   ]
  },
  {
   "cell_type": "markdown",
   "metadata": {},
   "source": [
    "<div style=\"background-color:#FFCD00;\"><span style=\"color:#182B49;\">US Parties candidate's votes piechart (2018)</span></div>"
   ]
  },
  {
   "cell_type": "code",
   "execution_count": 40,
   "metadata": {},
   "outputs": [],
   "source": [
    "#preserving records of year 2006\n",
    "senate_2018 = senate_1976_2018[senate_1976_2018['year'] == 2006]\n",
    "#senate_2018"
   ]
  },
  {
   "cell_type": "code",
   "execution_count": 41,
   "metadata": {},
   "outputs": [],
   "source": [
    "#grouping the above cell's data based on party (sum over states)\n",
    "senate_2018 = senate_2018.groupby(['party'])[['party', 'candidatevotes', 'totalvotes']].sum().reset_index()\n",
    "#senate_2018"
   ]
  },
  {
   "cell_type": "markdown",
   "metadata": {},
   "source": [
    "<div style=\"background-color:#FFCD00;\"><span style=\"color:#182B49;\">Senate parties vote ratio (1976-2018)</span></div>"
   ]
  },
  {
   "cell_type": "code",
   "execution_count": 246,
   "metadata": {},
   "outputs": [],
   "source": [
    "#storing democratic parties daata\n",
    "democratic = senate_1976_2018[senate_1976_2018['party'] == 'democrat'] \n",
    "democratic.head() #first 5 elements of California \n",
    "#len(democratic) 748\n",
    "\n",
    "#storing democratic parties daata\n",
    "republican = senate_1976_2018[senate_1976_2018['party'] == 'republican'] \n",
    "#republican.head() #first 5 elements of California \n",
    "#len(republican) 756"
   ]
  },
  {
   "cell_type": "code",
   "execution_count": 247,
   "metadata": {},
   "outputs": [],
   "source": [
    "#grouping the above by year\n",
    "democratic_1976_2018 = democratic.groupby(['year']).sum().reset_index()\n",
    "republican_1976_2018 = republican.groupby(['year']).sum().reset_index()\n",
    "#democratic_1976_2018"
   ]
  },
  {
   "cell_type": "code",
   "execution_count": 286,
   "metadata": {},
   "outputs": [],
   "source": [
    "democratic_2018 = democratic[democratic['year']==2018]\n",
    "#democratic_2018['candidatevotes']\n",
    "republican_2018 = republican[republican['year']==2018]\n",
    "#republican_2018['candidatevotes']"
   ]
  },
  {
   "cell_type": "code",
   "execution_count": 253,
   "metadata": {},
   "outputs": [],
   "source": [
    "dem_2018 = democratic_1976_2018[democratic_1976_2018['year']==2018]\n",
    "rep_2018 = republican_1976_2018[republican_1976_2018['year']==2018]"
   ]
  },
  {
   "cell_type": "code",
   "execution_count": 254,
   "metadata": {},
   "outputs": [
    {
     "data": {
      "text/html": [
       "<div>\n",
       "<style scoped>\n",
       "    .dataframe tbody tr th:only-of-type {\n",
       "        vertical-align: middle;\n",
       "    }\n",
       "\n",
       "    .dataframe tbody tr th {\n",
       "        vertical-align: top;\n",
       "    }\n",
       "\n",
       "    .dataframe thead th {\n",
       "        text-align: right;\n",
       "    }\n",
       "</style>\n",
       "<table border=\"1\" class=\"dataframe\">\n",
       "  <thead>\n",
       "    <tr style=\"text-align: right;\">\n",
       "      <th></th>\n",
       "      <th>year</th>\n",
       "      <th>candidatevotes</th>\n",
       "      <th>totalvotes</th>\n",
       "    </tr>\n",
       "  </thead>\n",
       "  <tbody>\n",
       "    <tr>\n",
       "      <th>21</th>\n",
       "      <td>2018</td>\n",
       "      <td>5646026</td>\n",
       "      <td>218293773</td>\n",
       "    </tr>\n",
       "  </tbody>\n",
       "</table>\n",
       "</div>"
      ],
      "text/plain": [
       "    year  candidatevotes  totalvotes\n",
       "21  2018         5646026   218293773"
      ]
     },
     "execution_count": 254,
     "metadata": {},
     "output_type": "execute_result"
    }
   ],
   "source": [
    "other = senate_1976_2018[senate_1976_2018['party'] != 'republican']\n",
    "other = other[other['party'] != 'democrat']\n",
    "other = other.groupby(['year']).sum().reset_index()\n",
    "other_2018 = other[other['year']==2018]\n",
    "other_2018"
   ]
  },
  {
   "cell_type": "code",
   "execution_count": 255,
   "metadata": {},
   "outputs": [
    {
     "data": {
      "text/html": [
       "<div>\n",
       "<style scoped>\n",
       "    .dataframe tbody tr th:only-of-type {\n",
       "        vertical-align: middle;\n",
       "    }\n",
       "\n",
       "    .dataframe tbody tr th {\n",
       "        vertical-align: top;\n",
       "    }\n",
       "\n",
       "    .dataframe thead th {\n",
       "        text-align: right;\n",
       "    }\n",
       "</style>\n",
       "<table border=\"1\" class=\"dataframe\">\n",
       "  <thead>\n",
       "    <tr style=\"text-align: right;\">\n",
       "      <th></th>\n",
       "      <th>year</th>\n",
       "      <th>candidatevotes</th>\n",
       "      <th>totalvotes</th>\n",
       "    </tr>\n",
       "  </thead>\n",
       "  <tbody>\n",
       "    <tr>\n",
       "      <th>21</th>\n",
       "      <td>2018</td>\n",
       "      <td>34721533</td>\n",
       "      <td>85409551</td>\n",
       "    </tr>\n",
       "  </tbody>\n",
       "</table>\n",
       "</div>"
      ],
      "text/plain": [
       "    year  candidatevotes  totalvotes\n",
       "21  2018        34721533    85409551"
      ]
     },
     "execution_count": 255,
     "metadata": {},
     "output_type": "execute_result"
    }
   ],
   "source": [
    "rep_2018"
   ]
  },
  {
   "cell_type": "code",
   "execution_count": 256,
   "metadata": {},
   "outputs": [
    {
     "data": {
      "text/html": [
       "<div>\n",
       "<style scoped>\n",
       "    .dataframe tbody tr th:only-of-type {\n",
       "        vertical-align: middle;\n",
       "    }\n",
       "\n",
       "    .dataframe tbody tr th {\n",
       "        vertical-align: top;\n",
       "    }\n",
       "\n",
       "    .dataframe thead th {\n",
       "        text-align: right;\n",
       "    }\n",
       "</style>\n",
       "<table border=\"1\" class=\"dataframe\">\n",
       "  <thead>\n",
       "    <tr style=\"text-align: right;\">\n",
       "      <th></th>\n",
       "      <th>year</th>\n",
       "      <th>candidatevotes</th>\n",
       "      <th>totalvotes</th>\n",
       "    </tr>\n",
       "  </thead>\n",
       "  <tbody>\n",
       "    <tr>\n",
       "      <th>21</th>\n",
       "      <td>2018</td>\n",
       "      <td>49127318</td>\n",
       "      <td>96669047</td>\n",
       "    </tr>\n",
       "  </tbody>\n",
       "</table>\n",
       "</div>"
      ],
      "text/plain": [
       "    year  candidatevotes  totalvotes\n",
       "21  2018        49127318    96669047"
      ]
     },
     "execution_count": 256,
     "metadata": {},
     "output_type": "execute_result"
    }
   ],
   "source": [
    "dem_2018"
   ]
  },
  {
   "cell_type": "code",
   "execution_count": null,
   "metadata": {},
   "outputs": [],
   "source": []
  },
  {
   "cell_type": "code",
   "execution_count": 268,
   "metadata": {},
   "outputs": [
    {
     "data": {
      "image/png": "[encoded data removed]",
      "text/plain": [
       "<Figure size 432x288 with 1 Axes>"
      ]
     },
     "metadata": {},
     "output_type": "display_data"
    }
   ],
   "source": [
    "import matplotlib.pyplot as plt\n",
    "labels =  ['Other parties', 'Republican', 'Democrat']\n",
    "sizes = [5646026, 34721533, 49127318]\n",
    "#colors\n",
    "colors = ['gold', '#FF0000', '#0015BC']\n",
    " \n",
    "fig1, ax1 = plt.subplots()\n",
    "ax1.pie(sizes, colors = colors, labels=labels, autopct='%1.1f%%', startangle=90)\n",
    "#draw circle\n",
    "centre_circle = plt.Circle((0,0),0.70,fc='white')\n",
    "#fig = plt.figure(figsize=(10, 10))\n",
    "fig = plt.gcf()\n",
    "fig.gca().add_artist(centre_circle)\n",
    "# Equal aspect ratio ensures that pie is drawn as a circle\n",
    "ax1.axis('equal')  \n",
    "plt.title(\"Senate parties vote ratios in 2018\")\n",
    "plt.tight_layout()\n",
    "plt.show()"
   ]
  },
  {
   "cell_type": "code",
   "execution_count": 44,
   "metadata": {},
   "outputs": [
    {
     "name": "stderr",
     "output_type": "stream",
     "text": [
      "<ipython-input-44-a5620520a343>:22: MatplotlibDeprecationWarning: Adding an axes using the same arguments as a previous axes currently reuses the earlier instance.  In a future version, a new instance will always be created and returned.  Meanwhile, this warning can be suppressed, and the future behavior ensured, by passing a unique label to each axes instance.\n",
      "  ax = fig.add_subplot(111)\n"
     ]
    },
    {
     "data": {
      "image/png": "[encoded data removed]",
      "text/plain": [
       "<Figure size 720x432 with 1 Axes>"
      ]
     },
     "metadata": {
      "needs_background": "light"
     },
     "output_type": "display_data"
    }
   ],
   "source": [
    "import numpy\n",
    "from matplotlib import pyplot\n",
    "from operator import add\n",
    "\n",
    "ratio_dem = [round(democratic_1976_2018['candidatevotes'][i]/democratic_1976_2018['totalvotes'][i], 2) for i in range(len(democratic_1976_2018['candidatevotes']))] #elected candidate's vote ratio\n",
    "ratio_rep = [round(republican_1976_2018['candidatevotes'][i]/republican_1976_2018['totalvotes'][i], 2) for i in range(len(republican_1976_2018['candidatevotes']))] #elected candidate's vote ratio\n",
    "sum_rep_dem = list( map(add, ratio_dem, ratio_rep) ) #sum over all democratic and republican votes\n",
    "sum_rep_dem = [round(i, 2) for i in sum_rep_dem] #round digits after 0\n",
    "other_parties = [1-i for i in sum_rep_dem] #except for democratic and republican\n",
    "other_parties = [round(i, 2) for i in other_parties] #round digits after 0\n",
    "\n",
    "fig=pyplot.figure(figsize=(10, 6))\n",
    "plt.xticks(np.arange(0, 1, step=0.1))\n",
    "plt.xlabel(\"Year\", fontsize=12)\n",
    "plt.ylabel(\"vote ratio\", fontsize=12)\n",
    "plt.title(\"Senate parties vote ratio (1976-2018)\", fontsize=14)\n",
    "plt.scatter(list(democratic_1976_2018['year']), ratio_dem, marker=\"o\", color=\"#0015BC\")\n",
    "plt.scatter(list(republican_1976_2018['year']), ratio_rep,  marker=\"o\", color=\"crimson\")\n",
    "plt.scatter(list(republican_1976_2018['year']), sum_rep_dem,  marker=\"o\", color=\"gold\")\n",
    "plt.scatter(list(republican_1976_2018['year']), other_parties,  marker=\"o\", color=\"#3CB371\")\n",
    "\n",
    "ax = fig.add_subplot(111)\n",
    "ax.set_ylim(-0.1,1.1)\n",
    "plt.xticks(np.arange(1976, 2020, step=2))\n",
    "plt.xticks(rotation=70)\n",
    "pyplot.plot(list(democratic_1976_2018['year']), ratio_dem, color=\"#0015BC\", label=\"democrat\")\n",
    "pyplot.plot(list(republican_1976_2018['year']), ratio_rep, color=\"#FF0000\", label=\"republican\")\n",
    "pyplot.plot(list(republican_1976_2018['year']), sum_rep_dem, color=\"gold\", label=\"democratic+republican\")\n",
    "pyplot.plot(list(republican_1976_2018['year']), other_parties, color=\"#3CB371\",  label=\"other parties\")\n",
    "\n",
    "plt.legend(loc=(1.04,0.8))\n",
    "\n",
    "#annotate the ratios above plot\n",
    "for i,j in zip(list(democratic_1976_2018['year']), ratio_dem):\n",
    "    ax.annotate(str(j),xy=(i,j+0.01), fontsize=7)\n",
    "for i,j in zip(list(republican_1976_2018['year']), ratio_rep):\n",
    "    ax.annotate(str(j),xy=(i,j+0.01), fontsize=7)\n",
    "for i,j in zip(list(republican_1976_2018['year']), sum_rep_dem):\n",
    "    ax.annotate(str(j),xy=(i,j+0.01), fontsize=7)\n",
    "for i,j in zip(list(republican_1976_2018['year']), other_parties):\n",
    "    ax.annotate(str(j),xy=(i,j+0.01), fontsize=7)\n",
    "pyplot.show() #add label"
   ]
  },
  {
   "cell_type": "markdown",
   "metadata": {},
   "source": [
    "<span style=\"color:#747678; font-size:14px;\">Votes of all parties</span><br>"
   ]
  },
  {
   "cell_type": "code",
   "execution_count": 45,
   "metadata": {},
   "outputs": [
    {
     "name": "stdout",
     "output_type": "stream",
     "text": [
      "165  different parties have participated in US Senate election from 1976 to 2018.\n"
     ]
    }
   ],
   "source": [
    "parties = list(np.unique(senate_1976_2018['party']))\n",
    "print(len(parties), \" different parties have participated in US Senate election from 1976 to 2018.\")"
   ]
  },
  {
   "cell_type": "markdown",
   "metadata": {},
   "source": [
    "<span style=\"color:#747678; font-size:14px;\">We cannot definitely plot all of these 165 parties, so we'll merge the ones with fewer votes.</span><br>"
   ]
  },
  {
   "cell_type": "code",
   "execution_count": 46,
   "metadata": {},
   "outputs": [
    {
     "data": {
      "text/plain": [
       "1386293078"
      ]
     },
     "execution_count": 46,
     "metadata": {},
     "output_type": "execute_result"
    }
   ],
   "source": [
    "total_votes_1976_2018 = sum(senate_1976_2018['candidatevotes'])\n",
    "total_votes_1976_2018"
   ]
  },
  {
   "cell_type": "code",
   "execution_count": 47,
   "metadata": {},
   "outputs": [],
   "source": [
    "parties_votes = {}\n",
    "for party in parties:\n",
    "    p = senate_1976_2018[senate_1976_2018['party'] == str(party)]\n",
    "    parties_votes[str(party)] = round(sum(list(p.groupby(['year']).sum().reset_index()['candidatevotes']))/total_votes_1976_2018, 6)"
   ]
  },
  {
   "cell_type": "code",
   "execution_count": 48,
   "metadata": {},
   "outputs": [
    {
     "data": {
      "text/plain": [
       "True"
      ]
     },
     "execution_count": 48,
     "metadata": {},
     "output_type": "execute_result"
    }
   ],
   "source": [
    "'democrat' in parties_votes.keys()"
   ]
  },
  {
   "cell_type": "code",
   "execution_count": 49,
   "metadata": {},
   "outputs": [],
   "source": [
    "#removing democrat and republican from the above dictionary\n",
    "del parties_votes['democrat']\n",
    "del parties_votes['republican']"
   ]
  },
  {
   "cell_type": "markdown",
   "metadata": {},
   "source": [
    "<span style=\"color:#747678; font-size:14px;\">Ratio over non-republican/democratic groups.</span><br>"
   ]
  },
  {
   "cell_type": "code",
   "execution_count": 50,
   "metadata": {},
   "outputs": [
    {
     "name": "stdout",
     "output_type": "stream",
     "text": [
      "total ratio of non-republican/non-democratic parties : {} 0.04835800000000003\n"
     ]
    }
   ],
   "source": [
    "print(\"total ratio of non-republican/non-democratic parties : {}\", sum(list(parties_votes.values())))"
   ]
  },
  {
   "cell_type": "code",
   "execution_count": 51,
   "metadata": {},
   "outputs": [],
   "source": [
    "for k, v in parties_votes.items():\n",
    "    parties_votes[k] = v/0.04835800000000003"
   ]
  },
  {
   "cell_type": "code",
   "execution_count": 52,
   "metadata": {},
   "outputs": [
    {
     "data": {
      "text/plain": [
       "False"
      ]
     },
     "execution_count": 52,
     "metadata": {},
     "output_type": "execute_result"
    }
   ],
   "source": [
    "'democrat' in parties_votes.keys()"
   ]
  },
  {
   "cell_type": "markdown",
   "metadata": {},
   "source": [
    "<div style=\"background-color:#FFCD00;\"><span style=\"color:#182B49;\">Parties votes except democratic and republican</span></div>"
   ]
  },
  {
   "cell_type": "code",
   "execution_count": 53,
   "metadata": {},
   "outputs": [],
   "source": [
    "#generating random colors\n",
    "import matplotlib.pyplot as plt\n",
    "import random\n",
    "\n",
    "number_of_colors = len(parties_votes)\n",
    "\n",
    "random_colors = [\"#\"+''.join([random.choice('0123456789ABCDEF') for j in range(6)])\n",
    "             for i in range(number_of_colors)]"
   ]
  },
  {
   "cell_type": "code",
   "execution_count": 54,
   "metadata": {},
   "outputs": [
    {
     "name": "stderr",
     "output_type": "stream",
     "text": [
      "/Users/fatemeh/opt/anaconda3/lib/python3.8/site-packages/matplotlib/backends/backend_agg.py:214: RuntimeWarning: Glyph 144 missing from current font.\n",
      "  font.set_text(s, 0.0, flags=flags)\n",
      "<ipython-input-54-45c0025ac31d>:9: UserWarning: Tight layout not applied. The bottom and top margins cannot be made large enough to accommodate all axes decorations. \n",
      "  plt.tight_layout()\n",
      "/Users/fatemeh/opt/anaconda3/lib/python3.8/site-packages/matplotlib/backends/backend_agg.py:183: RuntimeWarning: Glyph 144 missing from current font.\n",
      "  font.set_text(s, 0, flags=flags)\n"
     ]
    },
    {
     "data": {
      "image/png": "[encoded data removed]",
      "text/plain": [
       "<Figure size 432x288 with 1 Axes>"
      ]
     },
     "metadata": {},
     "output_type": "display_data"
    }
   ],
   "source": [
    "import matplotlib.pyplot as plt\n",
    "plt.rcParams['font.size'] = 7\n",
    "labels = list(parties_votes.keys())\n",
    "sizes = list(parties_votes.values())\n",
    "colors = random_colors\n",
    "patches, texts = plt.pie(sizes, colors=colors, startangle=90)\n",
    "plt.legend(patches, labels, loc=(0.8,0.2))\n",
    "plt.axis('equal')\n",
    "plt.tight_layout()\n",
    "plt.show()"
   ]
  },
  {
   "cell_type": "code",
   "execution_count": null,
   "metadata": {},
   "outputs": [],
   "source": [
    "import matplotlib.pyplot as plt\n",
    "plt.rcParams['font.size'] = 7\n",
    "labels = list(parties_votes.keys())\n",
    "sizes = list(parties_votes.values())\n",
    "colors = random_colors\n",
    "patches, texts = plt.pie(sizes, colors=colors, startangle=90)\n",
    "plt.legend(patches, labels, loc=(0.8,0.2))\n",
    "plt.axis('equal')\n",
    "plt.tight_layout()\n",
    "plt.show()"
   ]
  },
  {
   "cell_type": "code",
   "execution_count": 55,
   "metadata": {},
   "outputs": [
    {
     "data": {
      "image/png": "[encoded data removed]",
      "text/plain": [
       "<Figure size 432x288 with 1 Axes>"
      ]
     },
     "metadata": {},
     "output_type": "display_data"
    }
   ],
   "source": [
    "import matplotlib.pyplot as plt\n",
    "\n",
    "\n",
    "plt.rcParams['font.size'] = 10\n",
    "# Pie chart\n",
    "labels = list(parties_votes.keys())\n",
    "sizes = list(parties_votes.values())\n",
    "#colors\n",
    "colors = random_colors\n",
    "#explsion\n",
    "explode = [0.1 for i in parties_votes]\n",
    " \n",
    "    \n",
    "#patches, texts = plt.pie(sizes, colors=colors, startangle=90)\n",
    "#plt.legend(patches, labels, loc=\"best\")   \n",
    "    \n",
    "    \n",
    "    \n",
    "plt.pie(sizes, colors = colors, labels=labels, autopct='%1.1f%%', startangle=90, pctdistance=0.86, explode = explode, radius=2, labeldistance=1.1)\n",
    "#plt.plot(flag_x, flag_y, marker='o', markersize=40, color=\"#FF0000\")\n",
    "#plt.plot(flag_x, flag_y, marker='o', markersize=20, color=\"#0015BC\")\n",
    "#plt.title(\"non-democrat / non-republican parties vote ratios (1976-2018)\", fontsize=14) #future\n",
    "#draw circle\n",
    "centre_circle = plt.Circle((0,0.0),0.7,fc='white')\n",
    "#fig=pyplot.figure(figsize=(10, 10))\n",
    "fig = plt.gcf()\n",
    "fig.gca().add_artist(centre_circle)\n",
    "# Equal aspect ratio ensures that pie is drawn as a circle\n",
    "ax.axis('equal')  \n",
    "plt.show()\n",
    "#future: https://medium.com/@kvnamipara/a-better-visualisation-of-pie-charts-by-matplotlib-935b7667d77f"
   ]
  },
  {
   "cell_type": "code",
   "execution_count": 56,
   "metadata": {},
   "outputs": [],
   "source": [
    "#future: plot bar\n",
    "#future: add data of 2020"
   ]
  },
  {
   "cell_type": "markdown",
   "metadata": {},
   "source": [
    "<span style=\"color:#747678; font-size:14px;\">Because the above chart is messy, we just preserve the ones above 10% which are libertarian, democratic-farmer-labor and independent</span><br>"
   ]
  },
  {
   "cell_type": "code",
   "execution_count": 57,
   "metadata": {},
   "outputs": [],
   "source": [
    "#storing  parties data\n",
    "democratic = senate_1976_2018[senate_1976_2018['party'] == 'democrat'] \n",
    "republican = senate_1976_2018[senate_1976_2018['party'] == 'republican'] \n",
    "libertatian = senate_1976_2018[senate_1976_2018['party'] == 'libertatian'] \n",
    "democratic_farmer_labor = senate_1976_2018[senate_1976_2018['party'] == 'democratic-farmer-labor'] \n",
    "independent = senate_1976_2018[senate_1976_2018['party'] == 'independent'] \n",
    "\n",
    "#grouping the above by year\n",
    "democratic_1976_2018 = democratic.groupby(['year']).sum().reset_index()\n",
    "republican_1976_2018 = republican.groupby(['year']).sum().reset_index()\n",
    "libertatian_1976_2018 = libertatian.groupby(['year']).sum().reset_index()\n",
    "democratic_farmer_labor_1976_2018 = democratic_farmer_labor.groupby(['year']).sum().reset_index()\n",
    "independent_1976_2018 = independent.groupby(['year']).sum().reset_index()\n",
    "\n",
    "#ratios\n",
    "ratio_dem = [round(democratic_1976_2018['candidatevotes'][i]/democratic_1976_2018['totalvotes'][i], 2) for i in range(len(democratic_1976_2018['candidatevotes']))] #elected candidate's vote ratio\n",
    "ratio_rep = [round(republican_1976_2018['candidatevotes'][i]/republican_1976_2018['totalvotes'][i], 2) for i in range(len(republican_1976_2018['candidatevotes']))] #elected candidate's vote ratio\n",
    "ratio_libertatian = [round(libertatian_1976_2018['candidatevotes'][i]/libertatian_1976_2018['totalvotes'][i], 2) for i in range(len(libertatian_1976_2018['candidatevotes']))] #elected candidate's vote ratio\n",
    "ratio_democratic_farmer_labor = [round(democratic_farmer_labor_1976_2018['candidatevotes'][i]/democratic_farmer_labor_1976_2018['totalvotes'][i], 2) for i in range(len(democratic_farmer_labor_1976_2018['candidatevotes']))] #elected candidate's vote ratio\n",
    "ratio_independent = [round(independent_1976_2018['candidatevotes'][i]/independent_1976_2018['totalvotes'][i], 2) for i in range(len(independent_1976_2018['candidatevotes']))] #elected candidate's vote ratio\n",
    "\n",
    "\n",
    "sum_1 = list( map(add, ratio_dem, ratio_rep) ) #sum over all democratic and republican votes\n",
    "sum_1= [round(i, 2) for i in sum_1] #round digits after 0\n",
    "sum_2= list( map(add, ratio_libertatian, ratio_democratic_farmer_labor) )\n",
    "sum_2= [round(i, 2) for i in sum_2] #round digits after 0\n",
    "sum_3= list( map(add, sum_1, sum_1) )\n",
    "sum_3= [round(i, 2) for i in sum_3] #round digits after 0\n",
    "sum_majority =  list( map(add, sum_3, ratio_independent))\n",
    "\n",
    "other_parties = [1-i for i in sum_majority] #except for democratic and republican\n",
    "other_parties = [round(i, 2) for i in sum_majority] #round digits after 0"
   ]
  },
  {
   "cell_type": "code",
   "execution_count": 721,
   "metadata": {},
   "outputs": [
    {
     "data": {
      "image/png": "[encoded data removed]",
      "text/plain": [
       "<Figure size 432x288 with 1 Axes>"
      ]
     },
     "metadata": {},
     "output_type": "display_data"
    }
   ],
   "source": [
    "import matplotlib.pyplot as plt\n",
    "labels = list(parties_votes.keys())\n",
    "sizes = list(parties_votes.values())\n",
    "#colors\n",
    "colors = random_colors\n",
    " \n",
    "fig1, ax1 = plt.subplots()\n",
    "ax1.pie(sizes, colors = colors, labels=labels, autopct='%1.1f%%', startangle=90)\n",
    "#draw circle\n",
    "centre_circle = plt.Circle((0,0),0.70,fc='white')\n",
    "#fig = plt.figure(figsize=(10, 10))\n",
    "fig = plt.gcf()\n",
    "fig.gca().add_artist(centre_circle)\n",
    "# Equal aspect ratio ensures that pie is drawn as a circle\n",
    "ax1.axis('equal')  \n",
    "plt.tight_layout()\n",
    "plt.show()"
   ]
  },
  {
   "cell_type": "code",
   "execution_count": 271,
   "metadata": {},
   "outputs": [],
   "source": [
    "import plotly.graph_objects as go\n",
    "\n",
    "import pandas as pd\n",
    "df = pd.read_csv('https://raw.githubusercontent.com/plotly/datasets/master/2011_us_ag_exports.csv')"
   ]
  },
  {
   "cell_type": "code",
   "execution_count": 272,
   "metadata": {},
   "outputs": [],
   "source": [
    "df = df[df['state']!='District of Columbia']"
   ]
  },
  {
   "cell_type": "code",
   "execution_count": 295,
   "metadata": {},
   "outputs": [],
   "source": [
    "democratic_2018 = democratic[democratic['year']==2018]\n",
    "d = democratic_2018[['state', 'candidatevotes']]\n",
    "republican_2018 = republican[republican['year']==2018]\n",
    "r = republican_2018[['state', 'candidatevotes']]"
   ]
  },
  {
   "cell_type": "code",
   "execution_count": 301,
   "metadata": {},
   "outputs": [
    {
     "data": {
      "text/html": [
       "<div>\n",
       "<style scoped>\n",
       "    .dataframe tbody tr th:only-of-type {\n",
       "        vertical-align: middle;\n",
       "    }\n",
       "\n",
       "    .dataframe tbody tr th {\n",
       "        vertical-align: top;\n",
       "    }\n",
       "\n",
       "    .dataframe thead th {\n",
       "        text-align: right;\n",
       "    }\n",
       "</style>\n",
       "<table border=\"1\" class=\"dataframe\">\n",
       "  <thead>\n",
       "    <tr style=\"text-align: right;\">\n",
       "      <th></th>\n",
       "      <th>state</th>\n",
       "      <th>candidatevotes_x</th>\n",
       "      <th>code</th>\n",
       "      <th>category</th>\n",
       "      <th>total exports</th>\n",
       "      <th>beef</th>\n",
       "      <th>pork</th>\n",
       "      <th>poultry</th>\n",
       "      <th>dairy</th>\n",
       "      <th>fruits fresh</th>\n",
       "      <th>fruits proc</th>\n",
       "      <th>total fruits</th>\n",
       "      <th>veggies fresh</th>\n",
       "      <th>veggies proc</th>\n",
       "      <th>total veggies</th>\n",
       "      <th>corn</th>\n",
       "      <th>wheat</th>\n",
       "      <th>cotton</th>\n",
       "      <th>candidatevotes_y</th>\n",
       "    </tr>\n",
       "  </thead>\n",
       "  <tbody>\n",
       "    <tr>\n",
       "      <th>0</th>\n",
       "      <td>Arizona</td>\n",
       "      <td>1135200</td>\n",
       "      <td>AZ</td>\n",
       "      <td>state</td>\n",
       "      <td>1463.17</td>\n",
       "      <td>71.3</td>\n",
       "      <td>17.9</td>\n",
       "      <td>0.0</td>\n",
       "      <td>105.48</td>\n",
       "      <td>19.3</td>\n",
       "      <td>41.0</td>\n",
       "      <td>60.27</td>\n",
       "      <td>147.5</td>\n",
       "      <td>239.4</td>\n",
       "      <td>386.91</td>\n",
       "      <td>7.3</td>\n",
       "      <td>48.7</td>\n",
       "      <td>423.95</td>\n",
       "      <td>1191100</td>\n",
       "    </tr>\n",
       "    <tr>\n",
       "      <th>1</th>\n",
       "      <td>Connecticut</td>\n",
       "      <td>545717</td>\n",
       "      <td>CT</td>\n",
       "      <td>state</td>\n",
       "      <td>259.62</td>\n",
       "      <td>1.1</td>\n",
       "      <td>0.1</td>\n",
       "      <td>6.9</td>\n",
       "      <td>9.49</td>\n",
       "      <td>4.2</td>\n",
       "      <td>8.9</td>\n",
       "      <td>13.10</td>\n",
       "      <td>4.3</td>\n",
       "      <td>6.9</td>\n",
       "      <td>11.16</td>\n",
       "      <td>0.0</td>\n",
       "      <td>0.0</td>\n",
       "      <td>0.00</td>\n",
       "      <td>787685</td>\n",
       "    </tr>\n",
       "    <tr>\n",
       "      <th>2</th>\n",
       "      <td>Delaware</td>\n",
       "      <td>137127</td>\n",
       "      <td>DE</td>\n",
       "      <td>state</td>\n",
       "      <td>282.19</td>\n",
       "      <td>0.4</td>\n",
       "      <td>0.6</td>\n",
       "      <td>114.7</td>\n",
       "      <td>2.30</td>\n",
       "      <td>0.5</td>\n",
       "      <td>1.0</td>\n",
       "      <td>1.53</td>\n",
       "      <td>7.6</td>\n",
       "      <td>12.4</td>\n",
       "      <td>20.03</td>\n",
       "      <td>26.9</td>\n",
       "      <td>22.9</td>\n",
       "      <td>0.00</td>\n",
       "      <td>217385</td>\n",
       "    </tr>\n",
       "    <tr>\n",
       "      <th>3</th>\n",
       "      <td>Florida</td>\n",
       "      <td>4099505</td>\n",
       "      <td>FL</td>\n",
       "      <td>state</td>\n",
       "      <td>3764.09</td>\n",
       "      <td>42.6</td>\n",
       "      <td>0.9</td>\n",
       "      <td>56.9</td>\n",
       "      <td>66.31</td>\n",
       "      <td>438.2</td>\n",
       "      <td>933.1</td>\n",
       "      <td>1371.36</td>\n",
       "      <td>171.9</td>\n",
       "      <td>279.0</td>\n",
       "      <td>450.86</td>\n",
       "      <td>3.5</td>\n",
       "      <td>1.8</td>\n",
       "      <td>78.24</td>\n",
       "      <td>4089472</td>\n",
       "    </tr>\n",
       "    <tr>\n",
       "      <th>4</th>\n",
       "      <td>Hawaii</td>\n",
       "      <td>112035</td>\n",
       "      <td>HI</td>\n",
       "      <td>state</td>\n",
       "      <td>401.84</td>\n",
       "      <td>4.0</td>\n",
       "      <td>0.7</td>\n",
       "      <td>1.3</td>\n",
       "      <td>1.16</td>\n",
       "      <td>17.7</td>\n",
       "      <td>37.8</td>\n",
       "      <td>55.51</td>\n",
       "      <td>9.5</td>\n",
       "      <td>15.4</td>\n",
       "      <td>24.83</td>\n",
       "      <td>0.0</td>\n",
       "      <td>0.0</td>\n",
       "      <td>0.00</td>\n",
       "      <td>276316</td>\n",
       "    </tr>\n",
       "  </tbody>\n",
       "</table>\n",
       "</div>"
      ],
      "text/plain": [
       "         state  candidatevotes_x code category  total exports  beef  pork  \\\n",
       "0      Arizona           1135200   AZ    state        1463.17  71.3  17.9   \n",
       "1  Connecticut            545717   CT    state         259.62   1.1   0.1   \n",
       "2     Delaware            137127   DE    state         282.19   0.4   0.6   \n",
       "3      Florida           4099505   FL    state        3764.09  42.6   0.9   \n",
       "4       Hawaii            112035   HI    state         401.84   4.0   0.7   \n",
       "\n",
       "   poultry   dairy  fruits fresh  fruits proc  total fruits  veggies fresh  \\\n",
       "0      0.0  105.48          19.3         41.0         60.27          147.5   \n",
       "1      6.9    9.49           4.2          8.9         13.10            4.3   \n",
       "2    114.7    2.30           0.5          1.0          1.53            7.6   \n",
       "3     56.9   66.31         438.2        933.1       1371.36          171.9   \n",
       "4      1.3    1.16          17.7         37.8         55.51            9.5   \n",
       "\n",
       "   veggies proc  total veggies  corn  wheat  cotton  candidatevotes_y  \n",
       "0         239.4         386.91   7.3   48.7  423.95           1191100  \n",
       "1           6.9          11.16   0.0    0.0    0.00            787685  \n",
       "2          12.4          20.03  26.9   22.9    0.00            217385  \n",
       "3         279.0         450.86   3.5    1.8   78.24           4089472  \n",
       "4          15.4          24.83   0.0    0.0    0.00            276316  "
      ]
     },
     "execution_count": 301,
     "metadata": {},
     "output_type": "execute_result"
    }
   ],
   "source": [
    "merged = pd.merge(r, df, on='state')\n",
    "merged = pd.merge(merged, d, on='state')\n",
    "merged.head() #candidates_x: republican"
   ]
  },
  {
   "cell_type": "code",
   "execution_count": 315,
   "metadata": {},
   "outputs": [],
   "source": [
    "d = [list(merged['candidatevotes_x'])[i]- list(merged['candidatevotes_y'])[i] for i in range(merged.shape[0])]"
   ]
  },
  {
   "cell_type": "code",
   "execution_count": 319,
   "metadata": {},
   "outputs": [
    {
     "data": {
      "application/vnd.plotly.v1+json": {
       "config": {
        "plotlyServerURL": "https://plot.ly"
       },
       "data": [
        {
         "colorbar": {
          "title": {
           "text": "Millions"
          }
         },
         "colorscale": [
          [
           0,
           "rgb(0,0,255)"
          ],
          [
           1,
           "rgb(255,0,0)"
          ]
         ],
         "locationmode": "USA-states",
         "locations": [
          "AL",
          "AK",
          "AZ",
          "AR",
          "CA",
          "CO",
          "CT",
          "DE",
          "FL",
          "GA",
          "HI",
          "ID",
          "IL",
          "IN",
          "IA",
          "KS",
          "KY",
          "LA",
          "ME",
          "MD",
          "MA",
          "MI",
          "MN",
          "MS",
          "MO",
          "MT",
          "NE",
          "NV",
          "NH",
          "NJ",
          "NM",
          "NY",
          "NC",
          "ND",
          "OH",
          "OK",
          "OR",
          "PA",
          "RI",
          "SC",
          "SD",
          "TN",
          "TX",
          "UT",
          "VT",
          "VA",
          "WA",
          "WV",
          "WI",
          "WY"
         ],
         "type": "choropleth",
         "z": [
          1001622,
          15286,
          186474,
          341484,
          1879048,
          143382,
          301320,
          151988,
          270502,
          2319560,
          2322532,
          12332,
          5144,
          1485810,
          445730,
          55118,
          119376,
          251986,
          1110088,
          7932,
          1402030,
          385644,
          1094410,
          178386,
          839226,
          535758,
          1802,
          57124,
          165234,
          9460,
          1016440,
          31326,
          2769128,
          1659918,
          3968,
          1087758,
          204982,
          47188,
          1097224,
          53912,
          1030616,
          4722,
          826464,
          2299650,
          17008,
          3462,
          1245878,
          164608,
          44778,
          251818,
          2784
         ]
        }
       ],
       "layout": {
        "geo": {
         "scope": "usa"
        },
        "template": {
         "data": {
          "bar": [
           {
            "error_x": {
             "color": "#2a3f5f"
            },
            "error_y": {
             "color": "#2a3f5f"
            },
            "marker": {
             "line": {
              "color": "#E5ECF6",
              "width": 0.5
             }
            },
            "type": "bar"
           }
          ],
          "barpolar": [
           {
            "marker": {
             "line": {
              "color": "#E5ECF6",
              "width": 0.5
             }
            },
            "type": "barpolar"
           }
          ],
          "carpet": [
           {
            "aaxis": {
             "endlinecolor": "#2a3f5f",
             "gridcolor": "white",
             "linecolor": "white",
             "minorgridcolor": "white",
             "startlinecolor": "#2a3f5f"
            },
            "baxis": {
             "endlinecolor": "#2a3f5f",
             "gridcolor": "white",
             "linecolor": "white",
             "minorgridcolor": "white",
             "startlinecolor": "#2a3f5f"
            },
            "type": "carpet"
           }
          ],
          "choropleth": [
           {
            "colorbar": {
             "outlinewidth": 0,
             "ticks": ""
            },
            "type": "choropleth"
           }
          ],
          "contour": [
           {
            "colorbar": {
             "outlinewidth": 0,
             "ticks": ""
            },
            "colorscale": [
             [
              0,
              "#0d0887"
             ],
             [
              0.1111111111111111,
              "#46039f"
             ],
             [
              0.2222222222222222,
              "#7201a8"
             ],
             [
              0.3333333333333333,
              "#9c179e"
             ],
             [
              0.4444444444444444,
              "#bd3786"
             ],
             [
              0.5555555555555556,
              "#d8576b"
             ],
             [
              0.6666666666666666,
              "#ed7953"
             ],
             [
              0.7777777777777778,
              "#fb9f3a"
             ],
             [
              0.8888888888888888,
              "#fdca26"
             ],
             [
              1,
              "#f0f921"
             ]
            ],
            "type": "contour"
           }
          ],
          "contourcarpet": [
           {
            "colorbar": {
             "outlinewidth": 0,
             "ticks": ""
            },
            "type": "contourcarpet"
           }
          ],
          "heatmap": [
           {
            "colorbar": {
             "outlinewidth": 0,
             "ticks": ""
            },
            "colorscale": [
             [
              0,
              "#0d0887"
             ],
             [
              0.1111111111111111,
              "#46039f"
             ],
             [
              0.2222222222222222,
              "#7201a8"
             ],
             [
              0.3333333333333333,
              "#9c179e"
             ],
             [
              0.4444444444444444,
              "#bd3786"
             ],
             [
              0.5555555555555556,
              "#d8576b"
             ],
             [
              0.6666666666666666,
              "#ed7953"
             ],
             [
              0.7777777777777778,
              "#fb9f3a"
             ],
             [
              0.8888888888888888,
              "#fdca26"
             ],
             [
              1,
              "#f0f921"
             ]
            ],
            "type": "heatmap"
           }
          ],
          "heatmapgl": [
           {
            "colorbar": {
             "outlinewidth": 0,
             "ticks": ""
            },
            "colorscale": [
             [
              0,
              "#0d0887"
             ],
             [
              0.1111111111111111,
              "#46039f"
             ],
             [
              0.2222222222222222,
              "#7201a8"
             ],
             [
              0.3333333333333333,
              "#9c179e"
             ],
             [
              0.4444444444444444,
              "#bd3786"
             ],
             [
              0.5555555555555556,
              "#d8576b"
             ],
             [
              0.6666666666666666,
              "#ed7953"
             ],
             [
              0.7777777777777778,
              "#fb9f3a"
             ],
             [
              0.8888888888888888,
              "#fdca26"
             ],
             [
              1,
              "#f0f921"
             ]
            ],
            "type": "heatmapgl"
           }
          ],
          "histogram": [
           {
            "marker": {
             "colorbar": {
              "outlinewidth": 0,
              "ticks": ""
             }
            },
            "type": "histogram"
           }
          ],
          "histogram2d": [
           {
            "colorbar": {
             "outlinewidth": 0,
             "ticks": ""
            },
            "colorscale": [
             [
              0,
              "#0d0887"
             ],
             [
              0.1111111111111111,
              "#46039f"
             ],
             [
              0.2222222222222222,
              "#7201a8"
             ],
             [
              0.3333333333333333,
              "#9c179e"
             ],
             [
              0.4444444444444444,
              "#bd3786"
             ],
             [
              0.5555555555555556,
              "#d8576b"
             ],
             [
              0.6666666666666666,
              "#ed7953"
             ],
             [
              0.7777777777777778,
              "#fb9f3a"
             ],
             [
              0.8888888888888888,
              "#fdca26"
             ],
             [
              1,
              "#f0f921"
             ]
            ],
            "type": "histogram2d"
           }
          ],
          "histogram2dcontour": [
           {
            "colorbar": {
             "outlinewidth": 0,
             "ticks": ""
            },
            "colorscale": [
             [
              0,
              "#0d0887"
             ],
             [
              0.1111111111111111,
              "#46039f"
             ],
             [
              0.2222222222222222,
              "#7201a8"
             ],
             [
              0.3333333333333333,
              "#9c179e"
             ],
             [
              0.4444444444444444,
              "#bd3786"
             ],
             [
              0.5555555555555556,
              "#d8576b"
             ],
             [
              0.6666666666666666,
              "#ed7953"
             ],
             [
              0.7777777777777778,
              "#fb9f3a"
             ],
             [
              0.8888888888888888,
              "#fdca26"
             ],
             [
              1,
              "#f0f921"
             ]
            ],
            "type": "histogram2dcontour"
           }
          ],
          "mesh3d": [
           {
            "colorbar": {
             "outlinewidth": 0,
             "ticks": ""
            },
            "type": "mesh3d"
           }
          ],
          "parcoords": [
           {
            "line": {
             "colorbar": {
              "outlinewidth": 0,
              "ticks": ""
             }
            },
            "type": "parcoords"
           }
          ],
          "pie": [
           {
            "automargin": true,
            "type": "pie"
           }
          ],
          "scatter": [
           {
            "marker": {
             "colorbar": {
              "outlinewidth": 0,
              "ticks": ""
             }
            },
            "type": "scatter"
           }
          ],
          "scatter3d": [
           {
            "line": {
             "colorbar": {
              "outlinewidth": 0,
              "ticks": ""
             }
            },
            "marker": {
             "colorbar": {
              "outlinewidth": 0,
              "ticks": ""
             }
            },
            "type": "scatter3d"
           }
          ],
          "scattercarpet": [
           {
            "marker": {
             "colorbar": {
              "outlinewidth": 0,
              "ticks": ""
             }
            },
            "type": "scattercarpet"
           }
          ],
          "scattergeo": [
           {
            "marker": {
             "colorbar": {
              "outlinewidth": 0,
              "ticks": ""
             }
            },
            "type": "scattergeo"
           }
          ],
          "scattergl": [
           {
            "marker": {
             "colorbar": {
              "outlinewidth": 0,
              "ticks": ""
             }
            },
            "type": "scattergl"
           }
          ],
          "scattermapbox": [
           {
            "marker": {
             "colorbar": {
              "outlinewidth": 0,
              "ticks": ""
             }
            },
            "type": "scattermapbox"
           }
          ],
          "scatterpolar": [
           {
            "marker": {
             "colorbar": {
              "outlinewidth": 0,
              "ticks": ""
             }
            },
            "type": "scatterpolar"
           }
          ],
          "scatterpolargl": [
           {
            "marker": {
             "colorbar": {
              "outlinewidth": 0,
              "ticks": ""
             }
            },
            "type": "scatterpolargl"
           }
          ],
          "scatterternary": [
           {
            "marker": {
             "colorbar": {
              "outlinewidth": 0,
              "ticks": ""
             }
            },
            "type": "scatterternary"
           }
          ],
          "surface": [
           {
            "colorbar": {
             "outlinewidth": 0,
             "ticks": ""
            },
            "colorscale": [
             [
              0,
              "#0d0887"
             ],
             [
              0.1111111111111111,
              "#46039f"
             ],
             [
              0.2222222222222222,
              "#7201a8"
             ],
             [
              0.3333333333333333,
              "#9c179e"
             ],
             [
              0.4444444444444444,
              "#bd3786"
             ],
             [
              0.5555555555555556,
              "#d8576b"
             ],
             [
              0.6666666666666666,
              "#ed7953"
             ],
             [
              0.7777777777777778,
              "#fb9f3a"
             ],
             [
              0.8888888888888888,
              "#fdca26"
             ],
             [
              1,
              "#f0f921"
             ]
            ],
            "type": "surface"
           }
          ],
          "table": [
           {
            "cells": {
             "fill": {
              "color": "#EBF0F8"
             },
             "line": {
              "color": "white"
             }
            },
            "header": {
             "fill": {
              "color": "#C8D4E3"
             },
             "line": {
              "color": "white"
             }
            },
            "type": "table"
           }
          ]
         },
         "layout": {
          "annotationdefaults": {
           "arrowcolor": "#2a3f5f",
           "arrowhead": 0,
           "arrowwidth": 1
          },
          "coloraxis": {
           "colorbar": {
            "outlinewidth": 0,
            "ticks": ""
           }
          },
          "colorscale": {
           "diverging": [
            [
             0,
             "#8e0152"
            ],
            [
             0.1,
             "#c51b7d"
            ],
            [
             0.2,
             "#de77ae"
            ],
            [
             0.3,
             "#f1b6da"
            ],
            [
             0.4,
             "#fde0ef"
            ],
            [
             0.5,
             "#f7f7f7"
            ],
            [
             0.6,
             "#e6f5d0"
            ],
            [
             0.7,
             "#b8e186"
            ],
            [
             0.8,
             "#7fbc41"
            ],
            [
             0.9,
             "#4d9221"
            ],
            [
             1,
             "#276419"
            ]
           ],
           "sequential": [
            [
             0,
             "#0d0887"
            ],
            [
             0.1111111111111111,
             "#46039f"
            ],
            [
             0.2222222222222222,
             "#7201a8"
            ],
            [
             0.3333333333333333,
             "#9c179e"
            ],
            [
             0.4444444444444444,
             "#bd3786"
            ],
            [
             0.5555555555555556,
             "#d8576b"
            ],
            [
             0.6666666666666666,
             "#ed7953"
            ],
            [
             0.7777777777777778,
             "#fb9f3a"
            ],
            [
             0.8888888888888888,
             "#fdca26"
            ],
            [
             1,
             "#f0f921"
            ]
           ],
           "sequentialminus": [
            [
             0,
             "#0d0887"
            ],
            [
             0.1111111111111111,
             "#46039f"
            ],
            [
             0.2222222222222222,
             "#7201a8"
            ],
            [
             0.3333333333333333,
             "#9c179e"
            ],
            [
             0.4444444444444444,
             "#bd3786"
            ],
            [
             0.5555555555555556,
             "#d8576b"
            ],
            [
             0.6666666666666666,
             "#ed7953"
            ],
            [
             0.7777777777777778,
             "#fb9f3a"
            ],
            [
             0.8888888888888888,
             "#fdca26"
            ],
            [
             1,
             "#f0f921"
            ]
           ]
          },
          "colorway": [
           "#636efa",
           "#EF553B",
           "#00cc96",
           "#ab63fa",
           "#FFA15A",
           "#19d3f3",
           "#FF6692",
           "#B6E880",
           "#FF97FF",
           "#FECB52"
          ],
          "font": {
           "color": "#2a3f5f"
          },
          "geo": {
           "bgcolor": "white",
           "lakecolor": "white",
           "landcolor": "#E5ECF6",
           "showlakes": true,
           "showland": true,
           "subunitcolor": "white"
          },
          "hoverlabel": {
           "align": "left"
          },
          "hovermode": "closest",
          "mapbox": {
           "style": "light"
          },
          "paper_bgcolor": "white",
          "plot_bgcolor": "#E5ECF6",
          "polar": {
           "angularaxis": {
            "gridcolor": "white",
            "linecolor": "white",
            "ticks": ""
           },
           "bgcolor": "#E5ECF6",
           "radialaxis": {
            "gridcolor": "white",
            "linecolor": "white",
            "ticks": ""
           }
          },
          "scene": {
           "xaxis": {
            "backgroundcolor": "#E5ECF6",
            "gridcolor": "white",
            "gridwidth": 2,
            "linecolor": "white",
            "showbackground": true,
            "ticks": "",
            "zerolinecolor": "white"
           },
           "yaxis": {
            "backgroundcolor": "#E5ECF6",
            "gridcolor": "white",
            "gridwidth": 2,
            "linecolor": "white",
            "showbackground": true,
            "ticks": "",
            "zerolinecolor": "white"
           },
           "zaxis": {
            "backgroundcolor": "#E5ECF6",
            "gridcolor": "white",
            "gridwidth": 2,
            "linecolor": "white",
            "showbackground": true,
            "ticks": "",
            "zerolinecolor": "white"
           }
          },
          "shapedefaults": {
           "line": {
            "color": "#2a3f5f"
           }
          },
          "ternary": {
           "aaxis": {
            "gridcolor": "white",
            "linecolor": "white",
            "ticks": ""
           },
           "baxis": {
            "gridcolor": "white",
            "linecolor": "white",
            "ticks": ""
           },
           "bgcolor": "#E5ECF6",
           "caxis": {
            "gridcolor": "white",
            "linecolor": "white",
            "ticks": ""
           }
          },
          "title": {
           "x": 0.05
          },
          "xaxis": {
           "automargin": true,
           "gridcolor": "white",
           "linecolor": "white",
           "ticks": "",
           "title": {
            "standoff": 15
           },
           "zerolinecolor": "white",
           "zerolinewidth": 2
          },
          "yaxis": {
           "automargin": true,
           "gridcolor": "white",
           "linecolor": "white",
           "ticks": "",
           "title": {
            "standoff": 15
           },
           "zerolinecolor": "white",
           "zerolinewidth": 2
          }
         }
        },
        "title": {
         "text": "Distribution of Female Black or African American Alone in 2010"
        }
       }
      },
      "text/html": [
       "<div>                            <div id=\"ef445963-6439-4d88-aaa1-ff7ee14b5178\" class=\"plotly-graph-div\" style=\"height:525px; width:100%;\"></div>            <script type=\"text/javascript\">                require([\"plotly\"], function(Plotly) {                    window.PLOTLYENV=window.PLOTLYENV || {};                                    if (document.getElementById(\"ef445963-6439-4d88-aaa1-ff7ee14b5178\")) {                    Plotly.newPlot(                        \"ef445963-6439-4d88-aaa1-ff7ee14b5178\",                        [{\"colorbar\": {\"title\": {\"text\": \"Millions\"}}, \"colorscale\": [[0.0, \"rgb(0,0,255)\"], [1.0, \"rgb(255,0,0)\"]], \"locationmode\": \"USA-states\", \"locations\": [\"AL\", \"AK\", \"AZ\", \"AR\", \"CA\", \"CO\", \"CT\", \"DE\", \"FL\", \"GA\", \"HI\", \"ID\", \"IL\", \"IN\", \"IA\", \"KS\", \"KY\", \"LA\", \"ME\", \"MD\", \"MA\", \"MI\", \"MN\", \"MS\", \"MO\", \"MT\", \"NE\", \"NV\", \"NH\", \"NJ\", \"NM\", \"NY\", \"NC\", \"ND\", \"OH\", \"OK\", \"OR\", \"PA\", \"RI\", \"SC\", \"SD\", \"TN\", \"TX\", \"UT\", \"VT\", \"VA\", \"WA\", \"WV\", \"WI\", \"WY\"], \"type\": \"choropleth\", \"z\": [1001622, 15286, 186474, 341484, 1879048, 143382, 301320, 151988, 270502, 2319560, 2322532, 12332, 5144, 1485810, 445730, 55118, 119376, 251986, 1110088, 7932, 1402030, 385644, 1094410, 178386, 839226, 535758, 1802, 57124, 165234, 9460, 1016440, 31326, 2769128, 1659918, 3968, 1087758, 204982, 47188, 1097224, 53912, 1030616, 4722, 826464, 2299650, 17008, 3462, 1245878, 164608, 44778, 251818, 2784]}],                        {\"geo\": {\"scope\": \"usa\"}, \"template\": {\"data\": {\"bar\": [{\"error_x\": {\"color\": \"#2a3f5f\"}, \"error_y\": {\"color\": \"#2a3f5f\"}, \"marker\": {\"line\": {\"color\": \"#E5ECF6\", \"width\": 0.5}}, \"type\": \"bar\"}], \"barpolar\": [{\"marker\": {\"line\": {\"color\": \"#E5ECF6\", \"width\": 0.5}}, \"type\": \"barpolar\"}], \"carpet\": [{\"aaxis\": {\"endlinecolor\": \"#2a3f5f\", \"gridcolor\": \"white\", \"linecolor\": \"white\", \"minorgridcolor\": \"white\", \"startlinecolor\": \"#2a3f5f\"}, \"baxis\": {\"endlinecolor\": \"#2a3f5f\", \"gridcolor\": \"white\", \"linecolor\": \"white\", \"minorgridcolor\": \"white\", \"startlinecolor\": \"#2a3f5f\"}, \"type\": \"carpet\"}], \"choropleth\": [{\"colorbar\": {\"outlinewidth\": 0, \"ticks\": \"\"}, \"type\": \"choropleth\"}], \"contour\": [{\"colorbar\": {\"outlinewidth\": 0, \"ticks\": \"\"}, \"colorscale\": [[0.0, \"#0d0887\"], [0.1111111111111111, \"#46039f\"], [0.2222222222222222, \"#7201a8\"], [0.3333333333333333, \"#9c179e\"], [0.4444444444444444, \"#bd3786\"], [0.5555555555555556, \"#d8576b\"], [0.6666666666666666, \"#ed7953\"], [0.7777777777777778, \"#fb9f3a\"], [0.8888888888888888, \"#fdca26\"], [1.0, \"#f0f921\"]], \"type\": \"contour\"}], \"contourcarpet\": [{\"colorbar\": {\"outlinewidth\": 0, \"ticks\": \"\"}, \"type\": \"contourcarpet\"}], \"heatmap\": [{\"colorbar\": {\"outlinewidth\": 0, \"ticks\": \"\"}, \"colorscale\": [[0.0, \"#0d0887\"], [0.1111111111111111, \"#46039f\"], [0.2222222222222222, \"#7201a8\"], [0.3333333333333333, \"#9c179e\"], [0.4444444444444444, \"#bd3786\"], [0.5555555555555556, \"#d8576b\"], [0.6666666666666666, \"#ed7953\"], [0.7777777777777778, \"#fb9f3a\"], [0.8888888888888888, \"#fdca26\"], [1.0, \"#f0f921\"]], \"type\": \"heatmap\"}], \"heatmapgl\": [{\"colorbar\": {\"outlinewidth\": 0, \"ticks\": \"\"}, \"colorscale\": [[0.0, \"#0d0887\"], [0.1111111111111111, \"#46039f\"], [0.2222222222222222, \"#7201a8\"], [0.3333333333333333, \"#9c179e\"], [0.4444444444444444, \"#bd3786\"], [0.5555555555555556, \"#d8576b\"], [0.6666666666666666, \"#ed7953\"], [0.7777777777777778, \"#fb9f3a\"], [0.8888888888888888, \"#fdca26\"], [1.0, \"#f0f921\"]], \"type\": \"heatmapgl\"}], \"histogram\": [{\"marker\": {\"colorbar\": {\"outlinewidth\": 0, \"ticks\": \"\"}}, \"type\": \"histogram\"}], \"histogram2d\": [{\"colorbar\": {\"outlinewidth\": 0, \"ticks\": \"\"}, \"colorscale\": [[0.0, \"#0d0887\"], [0.1111111111111111, \"#46039f\"], [0.2222222222222222, \"#7201a8\"], [0.3333333333333333, \"#9c179e\"], [0.4444444444444444, \"#bd3786\"], [0.5555555555555556, \"#d8576b\"], [0.6666666666666666, \"#ed7953\"], [0.7777777777777778, \"#fb9f3a\"], [0.8888888888888888, \"#fdca26\"], [1.0, \"#f0f921\"]], \"type\": \"histogram2d\"}], \"histogram2dcontour\": [{\"colorbar\": {\"outlinewidth\": 0, \"ticks\": \"\"}, \"colorscale\": [[0.0, \"#0d0887\"], [0.1111111111111111, \"#46039f\"], [0.2222222222222222, \"#7201a8\"], [0.3333333333333333, \"#9c179e\"], [0.4444444444444444, \"#bd3786\"], [0.5555555555555556, \"#d8576b\"], [0.6666666666666666, \"#ed7953\"], [0.7777777777777778, \"#fb9f3a\"], [0.8888888888888888, \"#fdca26\"], [1.0, \"#f0f921\"]], \"type\": \"histogram2dcontour\"}], \"mesh3d\": [{\"colorbar\": {\"outlinewidth\": 0, \"ticks\": \"\"}, \"type\": \"mesh3d\"}], \"parcoords\": [{\"line\": {\"colorbar\": {\"outlinewidth\": 0, \"ticks\": \"\"}}, \"type\": \"parcoords\"}], \"pie\": [{\"automargin\": true, \"type\": \"pie\"}], \"scatter\": [{\"marker\": {\"colorbar\": {\"outlinewidth\": 0, \"ticks\": \"\"}}, \"type\": \"scatter\"}], \"scatter3d\": [{\"line\": {\"colorbar\": {\"outlinewidth\": 0, \"ticks\": \"\"}}, \"marker\": {\"colorbar\": {\"outlinewidth\": 0, \"ticks\": \"\"}}, \"type\": \"scatter3d\"}], \"scattercarpet\": [{\"marker\": {\"colorbar\": {\"outlinewidth\": 0, \"ticks\": \"\"}}, \"type\": \"scattercarpet\"}], \"scattergeo\": [{\"marker\": {\"colorbar\": {\"outlinewidth\": 0, \"ticks\": \"\"}}, \"type\": \"scattergeo\"}], \"scattergl\": [{\"marker\": {\"colorbar\": {\"outlinewidth\": 0, \"ticks\": \"\"}}, \"type\": \"scattergl\"}], \"scattermapbox\": [{\"marker\": {\"colorbar\": {\"outlinewidth\": 0, \"ticks\": \"\"}}, \"type\": \"scattermapbox\"}], \"scatterpolar\": [{\"marker\": {\"colorbar\": {\"outlinewidth\": 0, \"ticks\": \"\"}}, \"type\": \"scatterpolar\"}], \"scatterpolargl\": [{\"marker\": {\"colorbar\": {\"outlinewidth\": 0, \"ticks\": \"\"}}, \"type\": \"scatterpolargl\"}], \"scatterternary\": [{\"marker\": {\"colorbar\": {\"outlinewidth\": 0, \"ticks\": \"\"}}, \"type\": \"scatterternary\"}], \"surface\": [{\"colorbar\": {\"outlinewidth\": 0, \"ticks\": \"\"}, \"colorscale\": [[0.0, \"#0d0887\"], [0.1111111111111111, \"#46039f\"], [0.2222222222222222, \"#7201a8\"], [0.3333333333333333, \"#9c179e\"], [0.4444444444444444, \"#bd3786\"], [0.5555555555555556, \"#d8576b\"], [0.6666666666666666, \"#ed7953\"], [0.7777777777777778, \"#fb9f3a\"], [0.8888888888888888, \"#fdca26\"], [1.0, \"#f0f921\"]], \"type\": \"surface\"}], \"table\": [{\"cells\": {\"fill\": {\"color\": \"#EBF0F8\"}, \"line\": {\"color\": \"white\"}}, \"header\": {\"fill\": {\"color\": \"#C8D4E3\"}, \"line\": {\"color\": \"white\"}}, \"type\": \"table\"}]}, \"layout\": {\"annotationdefaults\": {\"arrowcolor\": \"#2a3f5f\", \"arrowhead\": 0, \"arrowwidth\": 1}, \"coloraxis\": {\"colorbar\": {\"outlinewidth\": 0, \"ticks\": \"\"}}, \"colorscale\": {\"diverging\": [[0, \"#8e0152\"], [0.1, \"#c51b7d\"], [0.2, \"#de77ae\"], [0.3, \"#f1b6da\"], [0.4, \"#fde0ef\"], [0.5, \"#f7f7f7\"], [0.6, \"#e6f5d0\"], [0.7, \"#b8e186\"], [0.8, \"#7fbc41\"], [0.9, \"#4d9221\"], [1, \"#276419\"]], \"sequential\": [[0.0, \"#0d0887\"], [0.1111111111111111, \"#46039f\"], [0.2222222222222222, \"#7201a8\"], [0.3333333333333333, \"#9c179e\"], [0.4444444444444444, \"#bd3786\"], [0.5555555555555556, \"#d8576b\"], [0.6666666666666666, \"#ed7953\"], [0.7777777777777778, \"#fb9f3a\"], [0.8888888888888888, \"#fdca26\"], [1.0, \"#f0f921\"]], \"sequentialminus\": [[0.0, \"#0d0887\"], [0.1111111111111111, \"#46039f\"], [0.2222222222222222, \"#7201a8\"], [0.3333333333333333, \"#9c179e\"], [0.4444444444444444, \"#bd3786\"], [0.5555555555555556, \"#d8576b\"], [0.6666666666666666, \"#ed7953\"], [0.7777777777777778, \"#fb9f3a\"], [0.8888888888888888, \"#fdca26\"], [1.0, \"#f0f921\"]]}, \"colorway\": [\"#636efa\", \"#EF553B\", \"#00cc96\", \"#ab63fa\", \"#FFA15A\", \"#19d3f3\", \"#FF6692\", \"#B6E880\", \"#FF97FF\", \"#FECB52\"], \"font\": {\"color\": \"#2a3f5f\"}, \"geo\": {\"bgcolor\": \"white\", \"lakecolor\": \"white\", \"landcolor\": \"#E5ECF6\", \"showlakes\": true, \"showland\": true, \"subunitcolor\": \"white\"}, \"hoverlabel\": {\"align\": \"left\"}, \"hovermode\": \"closest\", \"mapbox\": {\"style\": \"light\"}, \"paper_bgcolor\": \"white\", \"plot_bgcolor\": \"#E5ECF6\", \"polar\": {\"angularaxis\": {\"gridcolor\": \"white\", \"linecolor\": \"white\", \"ticks\": \"\"}, \"bgcolor\": \"#E5ECF6\", \"radialaxis\": {\"gridcolor\": \"white\", \"linecolor\": \"white\", \"ticks\": \"\"}}, \"scene\": {\"xaxis\": {\"backgroundcolor\": \"#E5ECF6\", \"gridcolor\": \"white\", \"gridwidth\": 2, \"linecolor\": \"white\", \"showbackground\": true, \"ticks\": \"\", \"zerolinecolor\": \"white\"}, \"yaxis\": {\"backgroundcolor\": \"#E5ECF6\", \"gridcolor\": \"white\", \"gridwidth\": 2, \"linecolor\": \"white\", \"showbackground\": true, \"ticks\": \"\", \"zerolinecolor\": \"white\"}, \"zaxis\": {\"backgroundcolor\": \"#E5ECF6\", \"gridcolor\": \"white\", \"gridwidth\": 2, \"linecolor\": \"white\", \"showbackground\": true, \"ticks\": \"\", \"zerolinecolor\": \"white\"}}, \"shapedefaults\": {\"line\": {\"color\": \"#2a3f5f\"}}, \"ternary\": {\"aaxis\": {\"gridcolor\": \"white\", \"linecolor\": \"white\", \"ticks\": \"\"}, \"baxis\": {\"gridcolor\": \"white\", \"linecolor\": \"white\", \"ticks\": \"\"}, \"bgcolor\": \"#E5ECF6\", \"caxis\": {\"gridcolor\": \"white\", \"linecolor\": \"white\", \"ticks\": \"\"}}, \"title\": {\"x\": 0.05}, \"xaxis\": {\"automargin\": true, \"gridcolor\": \"white\", \"linecolor\": \"white\", \"ticks\": \"\", \"title\": {\"standoff\": 15}, \"zerolinecolor\": \"white\", \"zerolinewidth\": 2}, \"yaxis\": {\"automargin\": true, \"gridcolor\": \"white\", \"linecolor\": \"white\", \"ticks\": \"\", \"title\": {\"standoff\": 15}, \"zerolinecolor\": \"white\", \"zerolinewidth\": 2}}}, \"title\": {\"text\": \"Distribution of Female Black or African American Alone in 2010\"}},                        {\"responsive\": true}                    ).then(function(){\n",
       "                            \n",
       "var gd = document.getElementById('ef445963-6439-4d88-aaa1-ff7ee14b5178');\n",
       "var x = new MutationObserver(function (mutations, observer) {{\n",
       "        var display = window.getComputedStyle(gd).display;\n",
       "        if (!display || display === 'none') {{\n",
       "            console.log([gd, 'removed!']);\n",
       "            Plotly.purge(gd);\n",
       "            observer.disconnect();\n",
       "        }}\n",
       "}});\n",
       "\n",
       "// Listen for the removal of the full notebook cells\n",
       "var notebookContainer = gd.closest('#notebook-container');\n",
       "if (notebookContainer) {{\n",
       "    x.observe(notebookContainer, {childList: true});\n",
       "}}\n",
       "\n",
       "// Listen for the clearing of the current output cell\n",
       "var outputEl = gd.closest('.output');\n",
       "if (outputEl) {{\n",
       "    x.observe(outputEl, {childList: true});\n",
       "}}\n",
       "\n",
       "                        })                };                });            </script>        </div>"
      ]
     },
     "metadata": {},
     "output_type": "display_data"
    }
   ],
   "source": [
    "fig = go.Figure(data=go.Choropleth(\n",
    "    locations=df['code'], # Spatial coordinates\n",
    "    z = two, # Data to be color-coded\n",
    "    locationmode = 'USA-states', # set of locations match entries in `locations`\n",
    "    colorscale = 'Bluered',\n",
    "    colorbar_title = \"Millions\",\n",
    "))\n",
    "\n",
    "fig.update_layout(\n",
    "    title_text = 'Distribution of Female Black or African American Alone in 2010',\n",
    "    geo_scope='usa', # limite map scope to USA\n",
    ")\n",
    "\n",
    "fig.show()"
   ]
  },
  {
   "cell_type": "markdown",
   "metadata": {},
   "source": [
    "<br><br><br><br><br><br><div style=\"background-color:crimson; color: lightsalmon; font-weight:bold; font-size:15px;\">Annual State Resident Population Estimates for 6 Race Groups (5 Race Alone Groups and Two or More Races) by Age, Sex, and Hispanic Origin: April 1, 2010</div>"
   ]
  },
  {
   "cell_type": "markdown",
   "metadata": {},
   "source": [
    "<span style=\"color:#747678; font-size:14px;\">Although people can pre-register to vote varying from 16 to 18 in different states, based on <a href=\"usa.gov/voter-registration-age-requirements\">USA government website</a>, for any given state, a citizen should be 18 or above to be allowed to vote in an official election. </span><br>\n",
    "\n",
    "<span style=\"color:#747678; font-size:14px;\">The <a href=\"https://www2.census.gov/programs-surveys/popest/tables/2010-2019/state/asrh/sc-est2019-alldata6.csv\">dataset</a> I'm using is from US government website. I've also attached its description <a href=\"https://www2.census.gov/programs-surveys/popest/technical-documentation/file-layouts/2010-2019/sc-est2019-alldata6.pdf\">pdf</a>.</span><br>\n",
    "<span style=\"color:#747678; font-size:14px;\">This data contains information about population of age 1 to 85+ and we filter out the population with age 18 and above as the population eligible to vote.<br>\n",
    "This dataset contains the actual population of year 2010 and an estimate of population diversity from 2011 to 2019. I couldn't find any other dataset of the actual population diversity except for years 2011 to 2018 for each singular state. Hence, I'm doing this study for year 2010 and then will use another dataset which contains population diversity of 2019 roughly as information of year 2018 as this was the only other dataset I could find.<br>\n",
    "\n",
    "Based on the <a href=\"https://www2.census.gov/programs-surveys/popest/technical-documentation/file-layouts/2010-2019/sc-est2019-alldata6.pdf\">description file</a> the following is some information of  columns content<br>\n",
    "    The key for <span style=\"color:#FF7F50\">SUMLEV</span> is as follows:<br>\n",
    "040 = State and/or Statistical Equivalent<br>\n",
    "The key for Region is as follows:<br>\n",
    "1 = Northeast<br>\n",
    "2 = Midwest<br>\n",
    "3 = South<br>\n",
    "4 = West<br>\n",
    "The key for <span style=\"color:#FF7F50\">DIVISION</span> code is as follows:<br>\n",
    "1 = New England<br>\n",
    "2 = Middle Atlantic<br>\n",
    "3 = East North Central<br>\n",
    "4 = West North Central<br>\n",
    "5 = South Atlantic<br>\n",
    "6 = East South Central<br>\n",
    "7 = West South Central<br>\n",
    "8 = Mountain<br>\n",
    "9 = Pacific<br>\n",
    "    The key for <span style=\"color:#FF7F50\">SEX</span> is as follows:<br>\n",
    "0 = Total<br>\n",
    "1 = Male<br>\n",
    "2 = Female<br>\n",
    "    The key for <span style=\"color:#FF7F50\">ORIGIN</span> is as follows:<br>\n",
    "0 = Total<br>\n",
    "1 = Not Hispanic<br>\n",
    "2 = Hispanic<br>\n",
    "   The key for <span style=\"color:#FF7F50\">RACE</span> is as follows:<br>\n",
    "1 = White Alone<br>\n",
    "2 = Black or African American Alone<br>\n",
    "3 = American Indian or Alaska Native Alone<br>\n",
    "4 = Asian Alone<br>\n",
    "5 = Native Hawaiian and Other Pacific Islander Alone<br>\n",
    "6 = Two or more races<br>\n",
    "AGE is single-year of age (0, 1, 2,… 84, 85+ years).<br>\n",
    "</span><br>\n",
    "<span style=\"color:#747678; font-size:14px;\">\n",
    " The dataset has already changed the categorical data to numerical. \n",
    "</span>"
   ]
  },
  {
   "cell_type": "markdown",
   "metadata": {},
   "source": [
    "<div style=\"background-color:#FFCD00;\"><span style=\"color:#182B49;\">Loading Dataset</span></div>"
   ]
  },
  {
   "cell_type": "code",
   "execution_count": 58,
   "metadata": {},
   "outputs": [],
   "source": [
    "import pandas as pd\n",
    "pop_diversity = pd.read_csv(\"sc-est2019-alldata6.csv\", encoding = 'unicode_escape')"
   ]
  },
  {
   "cell_type": "code",
   "execution_count": 59,
   "metadata": {},
   "outputs": [
    {
     "data": {
      "text/html": [
       "<div>\n",
       "<style scoped>\n",
       "    .dataframe tbody tr th:only-of-type {\n",
       "        vertical-align: middle;\n",
       "    }\n",
       "\n",
       "    .dataframe tbody tr th {\n",
       "        vertical-align: top;\n",
       "    }\n",
       "\n",
       "    .dataframe thead th {\n",
       "        text-align: right;\n",
       "    }\n",
       "</style>\n",
       "<table border=\"1\" class=\"dataframe\">\n",
       "  <thead>\n",
       "    <tr style=\"text-align: right;\">\n",
       "      <th></th>\n",
       "      <th>SUMLEV</th>\n",
       "      <th>REGION</th>\n",
       "      <th>DIVISION</th>\n",
       "      <th>STATE</th>\n",
       "      <th>NAME</th>\n",
       "      <th>SEX</th>\n",
       "      <th>ORIGIN</th>\n",
       "      <th>RACE</th>\n",
       "      <th>AGE</th>\n",
       "      <th>CENSUS2010POP</th>\n",
       "      <th>...</th>\n",
       "      <th>POPESTIMATE2010</th>\n",
       "      <th>POPESTIMATE2011</th>\n",
       "      <th>POPESTIMATE2012</th>\n",
       "      <th>POPESTIMATE2013</th>\n",
       "      <th>POPESTIMATE2014</th>\n",
       "      <th>POPESTIMATE2015</th>\n",
       "      <th>POPESTIMATE2016</th>\n",
       "      <th>POPESTIMATE2017</th>\n",
       "      <th>POPESTIMATE2018</th>\n",
       "      <th>POPESTIMATE2019</th>\n",
       "    </tr>\n",
       "  </thead>\n",
       "  <tbody>\n",
       "    <tr>\n",
       "      <th>0</th>\n",
       "      <td>40</td>\n",
       "      <td>3</td>\n",
       "      <td>6</td>\n",
       "      <td>1</td>\n",
       "      <td>Alabama</td>\n",
       "      <td>0</td>\n",
       "      <td>0</td>\n",
       "      <td>1</td>\n",
       "      <td>0</td>\n",
       "      <td>37991</td>\n",
       "      <td>...</td>\n",
       "      <td>37818</td>\n",
       "      <td>38678</td>\n",
       "      <td>37824</td>\n",
       "      <td>36812</td>\n",
       "      <td>37575</td>\n",
       "      <td>37698</td>\n",
       "      <td>37629</td>\n",
       "      <td>37526</td>\n",
       "      <td>36370</td>\n",
       "      <td>35594</td>\n",
       "    </tr>\n",
       "    <tr>\n",
       "      <th>1</th>\n",
       "      <td>40</td>\n",
       "      <td>3</td>\n",
       "      <td>6</td>\n",
       "      <td>1</td>\n",
       "      <td>Alabama</td>\n",
       "      <td>0</td>\n",
       "      <td>0</td>\n",
       "      <td>1</td>\n",
       "      <td>1</td>\n",
       "      <td>38150</td>\n",
       "      <td>...</td>\n",
       "      <td>38036</td>\n",
       "      <td>37719</td>\n",
       "      <td>38597</td>\n",
       "      <td>37854</td>\n",
       "      <td>36968</td>\n",
       "      <td>37882</td>\n",
       "      <td>37732</td>\n",
       "      <td>37904</td>\n",
       "      <td>37641</td>\n",
       "      <td>36679</td>\n",
       "    </tr>\n",
       "    <tr>\n",
       "      <th>2</th>\n",
       "      <td>40</td>\n",
       "      <td>3</td>\n",
       "      <td>6</td>\n",
       "      <td>1</td>\n",
       "      <td>Alabama</td>\n",
       "      <td>0</td>\n",
       "      <td>0</td>\n",
       "      <td>1</td>\n",
       "      <td>2</td>\n",
       "      <td>39738</td>\n",
       "      <td>...</td>\n",
       "      <td>39570</td>\n",
       "      <td>38202</td>\n",
       "      <td>37653</td>\n",
       "      <td>38528</td>\n",
       "      <td>37769</td>\n",
       "      <td>37123</td>\n",
       "      <td>38048</td>\n",
       "      <td>37975</td>\n",
       "      <td>38172</td>\n",
       "      <td>37904</td>\n",
       "    </tr>\n",
       "    <tr>\n",
       "      <th>3</th>\n",
       "      <td>40</td>\n",
       "      <td>3</td>\n",
       "      <td>6</td>\n",
       "      <td>1</td>\n",
       "      <td>Alabama</td>\n",
       "      <td>0</td>\n",
       "      <td>0</td>\n",
       "      <td>1</td>\n",
       "      <td>3</td>\n",
       "      <td>39827</td>\n",
       "      <td>...</td>\n",
       "      <td>39805</td>\n",
       "      <td>39690</td>\n",
       "      <td>38113</td>\n",
       "      <td>37716</td>\n",
       "      <td>38605</td>\n",
       "      <td>37896</td>\n",
       "      <td>37266</td>\n",
       "      <td>38170</td>\n",
       "      <td>38197</td>\n",
       "      <td>38510</td>\n",
       "    </tr>\n",
       "    <tr>\n",
       "      <th>4</th>\n",
       "      <td>40</td>\n",
       "      <td>3</td>\n",
       "      <td>6</td>\n",
       "      <td>1</td>\n",
       "      <td>Alabama</td>\n",
       "      <td>0</td>\n",
       "      <td>0</td>\n",
       "      <td>1</td>\n",
       "      <td>4</td>\n",
       "      <td>39353</td>\n",
       "      <td>...</td>\n",
       "      <td>39493</td>\n",
       "      <td>39872</td>\n",
       "      <td>39628</td>\n",
       "      <td>38122</td>\n",
       "      <td>37751</td>\n",
       "      <td>38625</td>\n",
       "      <td>37954</td>\n",
       "      <td>37322</td>\n",
       "      <td>38312</td>\n",
       "      <td>38476</td>\n",
       "    </tr>\n",
       "  </tbody>\n",
       "</table>\n",
       "<p>5 rows × 21 columns</p>\n",
       "</div>"
      ],
      "text/plain": [
       "   SUMLEV  REGION  DIVISION  STATE     NAME  SEX  ORIGIN  RACE  AGE  \\\n",
       "0      40       3         6      1  Alabama    0       0     1    0   \n",
       "1      40       3         6      1  Alabama    0       0     1    1   \n",
       "2      40       3         6      1  Alabama    0       0     1    2   \n",
       "3      40       3         6      1  Alabama    0       0     1    3   \n",
       "4      40       3         6      1  Alabama    0       0     1    4   \n",
       "\n",
       "   CENSUS2010POP  ...  POPESTIMATE2010  POPESTIMATE2011  POPESTIMATE2012  \\\n",
       "0          37991  ...            37818            38678            37824   \n",
       "1          38150  ...            38036            37719            38597   \n",
       "2          39738  ...            39570            38202            37653   \n",
       "3          39827  ...            39805            39690            38113   \n",
       "4          39353  ...            39493            39872            39628   \n",
       "\n",
       "   POPESTIMATE2013  POPESTIMATE2014  POPESTIMATE2015  POPESTIMATE2016  \\\n",
       "0            36812            37575            37698            37629   \n",
       "1            37854            36968            37882            37732   \n",
       "2            38528            37769            37123            38048   \n",
       "3            37716            38605            37896            37266   \n",
       "4            38122            37751            38625            37954   \n",
       "\n",
       "   POPESTIMATE2017  POPESTIMATE2018  POPESTIMATE2019  \n",
       "0            37526            36370            35594  \n",
       "1            37904            37641            36679  \n",
       "2            37975            38172            37904  \n",
       "3            38170            38197            38510  \n",
       "4            37322            38312            38476  \n",
       "\n",
       "[5 rows x 21 columns]"
      ]
     },
     "execution_count": 59,
     "metadata": {},
     "output_type": "execute_result"
    }
   ],
   "source": [
    "pop_diversity.head()"
   ]
  },
  {
   "cell_type": "markdown",
   "metadata": {},
   "source": [
    "<div style=\"background-color:#FFCD00;\"><span style=\"color:#182B49;\">Exploring the dataset content</span></div>"
   ]
  },
  {
   "cell_type": "code",
   "execution_count": 60,
   "metadata": {
    "scrolled": true
   },
   "outputs": [
    {
     "data": {
      "text/plain": [
       "(236844, 21)"
      ]
     },
     "execution_count": 60,
     "metadata": {},
     "output_type": "execute_result"
    }
   ],
   "source": [
    "pop_diversity.shape"
   ]
  },
  {
   "cell_type": "markdown",
   "metadata": {},
   "source": [
    "<span style=\"color:#747678; font-size:14px;\">Population diversity dataset contains 236844 rows and 21 columns</span>"
   ]
  },
  {
   "cell_type": "code",
   "execution_count": 61,
   "metadata": {},
   "outputs": [
    {
     "data": {
      "text/plain": [
       "array(['SUMLEV', 'REGION', 'DIVISION', 'STATE', 'NAME', 'SEX', 'ORIGIN',\n",
       "       'RACE', 'AGE', 'CENSUS2010POP', 'ESTIMATESBASE2010',\n",
       "       'POPESTIMATE2010', 'POPESTIMATE2011', 'POPESTIMATE2012',\n",
       "       'POPESTIMATE2013', 'POPESTIMATE2014', 'POPESTIMATE2015',\n",
       "       'POPESTIMATE2016', 'POPESTIMATE2017', 'POPESTIMATE2018',\n",
       "       'POPESTIMATE2019'], dtype=object)"
      ]
     },
     "execution_count": 61,
     "metadata": {},
     "output_type": "execute_result"
    }
   ],
   "source": [
    "#columns\n",
    "np.array(pop_diversity.columns)"
   ]
  },
  {
   "cell_type": "code",
   "execution_count": 62,
   "metadata": {},
   "outputs": [],
   "source": [
    "pop_diversity.drop(['POPESTIMATE2010', 'POPESTIMATE2011', 'POPESTIMATE2012',\n",
    "       'POPESTIMATE2013', 'POPESTIMATE2014', 'POPESTIMATE2015',\n",
    "       'POPESTIMATE2016', 'POPESTIMATE2017', 'POPESTIMATE2018',\n",
    "       'POPESTIMATE2019'], axis=1, inplace=True)"
   ]
  },
  {
   "cell_type": "code",
   "execution_count": 63,
   "metadata": {},
   "outputs": [
    {
     "data": {
      "text/html": [
       "<div>\n",
       "<style scoped>\n",
       "    .dataframe tbody tr th:only-of-type {\n",
       "        vertical-align: middle;\n",
       "    }\n",
       "\n",
       "    .dataframe tbody tr th {\n",
       "        vertical-align: top;\n",
       "    }\n",
       "\n",
       "    .dataframe thead th {\n",
       "        text-align: right;\n",
       "    }\n",
       "</style>\n",
       "<table border=\"1\" class=\"dataframe\">\n",
       "  <thead>\n",
       "    <tr style=\"text-align: right;\">\n",
       "      <th></th>\n",
       "      <th>SUMLEV</th>\n",
       "      <th>REGION</th>\n",
       "      <th>DIVISION</th>\n",
       "      <th>STATE</th>\n",
       "      <th>NAME</th>\n",
       "      <th>SEX</th>\n",
       "      <th>ORIGIN</th>\n",
       "      <th>RACE</th>\n",
       "      <th>AGE</th>\n",
       "      <th>CENSUS2010POP</th>\n",
       "      <th>ESTIMATESBASE2010</th>\n",
       "    </tr>\n",
       "  </thead>\n",
       "  <tbody>\n",
       "    <tr>\n",
       "      <th>0</th>\n",
       "      <td>40</td>\n",
       "      <td>3</td>\n",
       "      <td>6</td>\n",
       "      <td>1</td>\n",
       "      <td>Alabama</td>\n",
       "      <td>0</td>\n",
       "      <td>0</td>\n",
       "      <td>1</td>\n",
       "      <td>0</td>\n",
       "      <td>37991</td>\n",
       "      <td>37991</td>\n",
       "    </tr>\n",
       "    <tr>\n",
       "      <th>1</th>\n",
       "      <td>40</td>\n",
       "      <td>3</td>\n",
       "      <td>6</td>\n",
       "      <td>1</td>\n",
       "      <td>Alabama</td>\n",
       "      <td>0</td>\n",
       "      <td>0</td>\n",
       "      <td>1</td>\n",
       "      <td>1</td>\n",
       "      <td>38150</td>\n",
       "      <td>38150</td>\n",
       "    </tr>\n",
       "    <tr>\n",
       "      <th>2</th>\n",
       "      <td>40</td>\n",
       "      <td>3</td>\n",
       "      <td>6</td>\n",
       "      <td>1</td>\n",
       "      <td>Alabama</td>\n",
       "      <td>0</td>\n",
       "      <td>0</td>\n",
       "      <td>1</td>\n",
       "      <td>2</td>\n",
       "      <td>39738</td>\n",
       "      <td>39738</td>\n",
       "    </tr>\n",
       "    <tr>\n",
       "      <th>3</th>\n",
       "      <td>40</td>\n",
       "      <td>3</td>\n",
       "      <td>6</td>\n",
       "      <td>1</td>\n",
       "      <td>Alabama</td>\n",
       "      <td>0</td>\n",
       "      <td>0</td>\n",
       "      <td>1</td>\n",
       "      <td>3</td>\n",
       "      <td>39827</td>\n",
       "      <td>39828</td>\n",
       "    </tr>\n",
       "    <tr>\n",
       "      <th>4</th>\n",
       "      <td>40</td>\n",
       "      <td>3</td>\n",
       "      <td>6</td>\n",
       "      <td>1</td>\n",
       "      <td>Alabama</td>\n",
       "      <td>0</td>\n",
       "      <td>0</td>\n",
       "      <td>1</td>\n",
       "      <td>4</td>\n",
       "      <td>39353</td>\n",
       "      <td>39353</td>\n",
       "    </tr>\n",
       "  </tbody>\n",
       "</table>\n",
       "</div>"
      ],
      "text/plain": [
       "   SUMLEV  REGION  DIVISION  STATE     NAME  SEX  ORIGIN  RACE  AGE  \\\n",
       "0      40       3         6      1  Alabama    0       0     1    0   \n",
       "1      40       3         6      1  Alabama    0       0     1    1   \n",
       "2      40       3         6      1  Alabama    0       0     1    2   \n",
       "3      40       3         6      1  Alabama    0       0     1    3   \n",
       "4      40       3         6      1  Alabama    0       0     1    4   \n",
       "\n",
       "   CENSUS2010POP  ESTIMATESBASE2010  \n",
       "0          37991              37991  \n",
       "1          38150              38150  \n",
       "2          39738              39738  \n",
       "3          39827              39828  \n",
       "4          39353              39353  "
      ]
     },
     "execution_count": 63,
     "metadata": {},
     "output_type": "execute_result"
    }
   ],
   "source": [
    "pop_diversity.head() #five first rows"
   ]
  },
  {
   "cell_type": "markdown",
   "metadata": {},
   "source": [
    "<span style=\"color:#747678; font-size:14px;\">Columns are <strong>'SUMLEV', 'region', 'division', 'state', 'name', 'sex', 'origin',\n",
    "       'race', 'age', 'CENSUS2010POP', 'ESTIMATESBASE2010'</strong>.</span>"
   ]
  },
  {
   "cell_type": "markdown",
   "metadata": {},
   "source": [
    "<div style=\"background-color:#FFCD00;\"><span style=\"color:#182B49;\">Checking for null cells in the dataset </span></div>"
   ]
  },
  {
   "cell_type": "markdown",
   "metadata": {},
   "source": [
    "<span style=\"color:#747678; font-size:14px;\">Though in many cases one can substitute null cells within a dataset with the most common (frequent) value, mean, mode, etc of the corresponding column, here as we are dealing with the actual votes, if the number of null values are small and hence negligible, we won't substitute these null values and will delete the corresponding rows of the null elements.</span>"
   ]
  },
  {
   "cell_type": "code",
   "execution_count": 64,
   "metadata": {},
   "outputs": [
    {
     "data": {
      "text/plain": [
       "Series([], dtype: int64)"
      ]
     },
     "execution_count": 64,
     "metadata": {},
     "output_type": "execute_result"
    }
   ],
   "source": [
    "#columns which contain null values and the number of null elements\n",
    "null_counts = pop_diversity.isnull().sum()\n",
    "null_counts[null_counts > 0].sort_values(ascending=False) "
   ]
  },
  {
   "cell_type": "markdown",
   "metadata": {},
   "source": [
    "<span style=\"color:#747678; font-size:14px;\">Happily, there's no null element in the dataset :)</span>"
   ]
  },
  {
   "cell_type": "markdown",
   "metadata": {},
   "source": [
    "<div style=\"background-color:#FFCD00;\"><span style=\"color:#182B49;\">Filterring out ages of $<18$</span></div>"
   ]
  },
  {
   "cell_type": "code",
   "execution_count": 65,
   "metadata": {},
   "outputs": [
    {
     "name": "stdout",
     "output_type": "stream",
     "text": [
      "There are 187272 rows and 11 columns after filtering out ages lower than 18.\n"
     ]
    }
   ],
   "source": [
    "pop_diversity = pop_diversity[pop_diversity['AGE']>=18]\n",
    "print(\"There are {} rows and {} columns after filtering out ages lower than 18.\".format(pop_diversity.shape[0], pop_diversity.shape[1]))\n",
    "#pop_diversity.head()"
   ]
  },
  {
   "cell_type": "code",
   "execution_count": 66,
   "metadata": {},
   "outputs": [],
   "source": [
    "#ommiting  other not-useful columns\n",
    "pop_diversity.drop(['SUMLEV', 'REGION', 'ORIGIN', 'DIVISION', 'STATE', 'AGE', 'ESTIMATESBASE2010'], axis=1, inplace=True)"
   ]
  },
  {
   "cell_type": "code",
   "execution_count": 67,
   "metadata": {},
   "outputs": [],
   "source": [
    "#pop_diversity.head()"
   ]
  },
  {
   "cell_type": "code",
   "execution_count": 68,
   "metadata": {},
   "outputs": [
    {
     "name": "stdout",
     "output_type": "stream",
     "text": [
      "There are 187272 rows and 4 columns.\n"
     ]
    }
   ],
   "source": [
    "print(\"There are {} rows and {} columns.\".format(pop_diversity.shape[0], pop_diversity.shape[1]))"
   ]
  },
  {
   "cell_type": "code",
   "execution_count": 69,
   "metadata": {},
   "outputs": [],
   "source": [
    "#changing the name of columns\n",
    "pop_diversity.columns = ['state', 'sex', 'race', 'population']"
   ]
  },
  {
   "cell_type": "markdown",
   "metadata": {},
   "source": [
    "<div style=\"background-color:#FFCD00;\"><span style=\"color:#182B49;\">Filterring out sex=0 as it is the total and sum of 1 and 2.<br>\n",
    "</span>\n",
    "</div>\n",
    "*There's no information about specefic sexual groups."
   ]
  },
  {
   "cell_type": "code",
   "execution_count": 70,
   "metadata": {},
   "outputs": [
    {
     "name": "stdout",
     "output_type": "stream",
     "text": [
      "There are 124848 rows and 4 columns.\n"
     ]
    }
   ],
   "source": [
    "pop_diversity = pop_diversity[pop_diversity['sex'] != 0]\n",
    "print(\"There are {} rows and {} columns.\".format(pop_diversity.shape[0], pop_diversity.shape[1]))"
   ]
  },
  {
   "cell_type": "code",
   "execution_count": 71,
   "metadata": {},
   "outputs": [
    {
     "data": {
      "text/html": [
       "<div>\n",
       "<style scoped>\n",
       "    .dataframe tbody tr th:only-of-type {\n",
       "        vertical-align: middle;\n",
       "    }\n",
       "\n",
       "    .dataframe tbody tr th {\n",
       "        vertical-align: top;\n",
       "    }\n",
       "\n",
       "    .dataframe thead th {\n",
       "        text-align: right;\n",
       "    }\n",
       "</style>\n",
       "<table border=\"1\" class=\"dataframe\">\n",
       "  <thead>\n",
       "    <tr style=\"text-align: right;\">\n",
       "      <th></th>\n",
       "      <th>state</th>\n",
       "      <th>sex</th>\n",
       "      <th>race</th>\n",
       "      <th>population</th>\n",
       "    </tr>\n",
       "  </thead>\n",
       "  <tbody>\n",
       "    <tr>\n",
       "      <th>1566</th>\n",
       "      <td>Alabama</td>\n",
       "      <td>1</td>\n",
       "      <td>1</td>\n",
       "      <td>22939</td>\n",
       "    </tr>\n",
       "    <tr>\n",
       "      <th>1567</th>\n",
       "      <td>Alabama</td>\n",
       "      <td>1</td>\n",
       "      <td>1</td>\n",
       "      <td>23818</td>\n",
       "    </tr>\n",
       "    <tr>\n",
       "      <th>1568</th>\n",
       "      <td>Alabama</td>\n",
       "      <td>1</td>\n",
       "      <td>1</td>\n",
       "      <td>23637</td>\n",
       "    </tr>\n",
       "    <tr>\n",
       "      <th>1569</th>\n",
       "      <td>Alabama</td>\n",
       "      <td>1</td>\n",
       "      <td>1</td>\n",
       "      <td>22637</td>\n",
       "    </tr>\n",
       "    <tr>\n",
       "      <th>1570</th>\n",
       "      <td>Alabama</td>\n",
       "      <td>1</td>\n",
       "      <td>1</td>\n",
       "      <td>22028</td>\n",
       "    </tr>\n",
       "  </tbody>\n",
       "</table>\n",
       "</div>"
      ],
      "text/plain": [
       "        state  sex  race  population\n",
       "1566  Alabama    1     1       22939\n",
       "1567  Alabama    1     1       23818\n",
       "1568  Alabama    1     1       23637\n",
       "1569  Alabama    1     1       22637\n",
       "1570  Alabama    1     1       22028"
      ]
     },
     "execution_count": 71,
     "metadata": {},
     "output_type": "execute_result"
    }
   ],
   "source": [
    "pop_diversity.head()"
   ]
  },
  {
   "cell_type": "code",
   "execution_count": 72,
   "metadata": {},
   "outputs": [],
   "source": [
    "pop_diversity = pop_diversity.groupby(['state', 'sex', 'race']).sum().reset_index()"
   ]
  },
  {
   "cell_type": "code",
   "execution_count": 73,
   "metadata": {},
   "outputs": [
    {
     "data": {
      "text/html": [
       "<div>\n",
       "<style scoped>\n",
       "    .dataframe tbody tr th:only-of-type {\n",
       "        vertical-align: middle;\n",
       "    }\n",
       "\n",
       "    .dataframe tbody tr th {\n",
       "        vertical-align: top;\n",
       "    }\n",
       "\n",
       "    .dataframe thead th {\n",
       "        text-align: right;\n",
       "    }\n",
       "</style>\n",
       "<table border=\"1\" class=\"dataframe\">\n",
       "  <thead>\n",
       "    <tr style=\"text-align: right;\">\n",
       "      <th></th>\n",
       "      <th>state</th>\n",
       "      <th>sex</th>\n",
       "      <th>race</th>\n",
       "      <th>population</th>\n",
       "    </tr>\n",
       "  </thead>\n",
       "  <tbody>\n",
       "    <tr>\n",
       "      <th>0</th>\n",
       "      <td>Alabama</td>\n",
       "      <td>1</td>\n",
       "      <td>1</td>\n",
       "      <td>2560692</td>\n",
       "    </tr>\n",
       "    <tr>\n",
       "      <th>1</th>\n",
       "      <td>Alabama</td>\n",
       "      <td>1</td>\n",
       "      <td>2</td>\n",
       "      <td>821494</td>\n",
       "    </tr>\n",
       "    <tr>\n",
       "      <th>2</th>\n",
       "      <td>Alabama</td>\n",
       "      <td>1</td>\n",
       "      <td>3</td>\n",
       "      <td>24462</td>\n",
       "    </tr>\n",
       "    <tr>\n",
       "      <th>3</th>\n",
       "      <td>Alabama</td>\n",
       "      <td>1</td>\n",
       "      <td>4</td>\n",
       "      <td>39122</td>\n",
       "    </tr>\n",
       "    <tr>\n",
       "      <th>4</th>\n",
       "      <td>Alabama</td>\n",
       "      <td>1</td>\n",
       "      <td>5</td>\n",
       "      <td>4182</td>\n",
       "    </tr>\n",
       "  </tbody>\n",
       "</table>\n",
       "</div>"
      ],
      "text/plain": [
       "     state  sex  race  population\n",
       "0  Alabama    1     1     2560692\n",
       "1  Alabama    1     2      821494\n",
       "2  Alabama    1     3       24462\n",
       "3  Alabama    1     4       39122\n",
       "4  Alabama    1     5        4182"
      ]
     },
     "execution_count": 73,
     "metadata": {},
     "output_type": "execute_result"
    }
   ],
   "source": [
    "pop_diversity.head()"
   ]
  },
  {
   "cell_type": "markdown",
   "metadata": {},
   "source": [
    "<div style=\"background-color:#FFCD00;\"><span style=\"color:#182B49;\">Merging columns sex and race. </span></div>\n",
    "<span style=\"color:#747678; font-size:14px;\">\n",
    "So (sex=1 and race=1) would be converted to White alone men. And preserving the corresponding population in a single column. Hence the first column above would beccome<br>\n",
    "<br>\n",
    "'state',    'white only men',  .....  'Two or more races women'<br>\n",
    "Alabama, 22939, ...\n",
    "<br>\n",
    "The key for <span style=\"color:#FF7F50\">SEX</span> is as follows:<br>\n",
    "1 = Male<br>\n",
    "2 = Female<br>\n",
    "   The key for <span style=\"color:#FF7F50\">RACE</span> is as follows:<br>\n",
    "1 = White Alone<br>\n",
    "2 = Black or African American Alone<br>\n",
    "3 = American Indian or Alaska Native Alone<br>\n",
    "4 = Asian Alone<br>\n",
    "5 = Native Hawaiian and Other Pacific Islander Alone<br>\n",
    "6 = Two or more races<br>\n",
    "</span><br>\n",
    "<span style=\"color:#747678; font-size:14px;\">\n",
    "So, we'll have $2 * 6 = 12$ combinations (columns):<br>\n",
    "<span style=\"color:#FF7F50\">1) </span>Female White Alone<br>\n",
    "<span style=\"color:#FF7F50\">2) </span>Female Black or African American Alone<br>\n",
    "<span style=\"color:#FF7F50\">3) </span>Female American Indian or Alaska Native Alone<br>\n",
    "<span style=\"color:#FF7F50\">4) </span>Female Asian Alone<br>\n",
    "<span style=\"color:#FF7F50\">5) </span>Female Native Hawaiian and Other Pacific Islander Alone<br>\n",
    "<span style=\"color:#FF7F50\">6) </span>Two or more races<br>\n",
    "<span style=\"color:#FF7F50\">7) </span>Male White Alone<br>\n",
    "<span style=\"color:#FF7F50\">8) </span>Male Black or African American Alone<br>\n",
    "<span style=\"color:#FF7F50\">9) </span>Male American Indian or Alaska Native Alone<br>\n",
    "<span style=\"color:#FF7F50\">10) </span>Male Asian Alone<br>\n",
    "<span style=\"color:#FF7F50\">11) </span>Male Native Hawaiian and Other Pacific Islander Alone<br>\n",
    "<span style=\"color:#FF7F50\">12) </span>Male Two or more races<br>"
   ]
  },
  {
   "cell_type": "code",
   "execution_count": 74,
   "metadata": {},
   "outputs": [],
   "source": [
    "women = pop_diversity[pop_diversity['sex']==2]\n",
    "men = pop_diversity[pop_diversity['sex']==1]"
   ]
  },
  {
   "cell_type": "code",
   "execution_count": 75,
   "metadata": {},
   "outputs": [],
   "source": [
    "#future: racial diversity not immigraation as I couldnt find useful dataset for immigration"
   ]
  },
  {
   "cell_type": "code",
   "execution_count": 76,
   "metadata": {},
   "outputs": [],
   "source": [
    "#creating a single dataframe for each of the above 12 groups, then merging them\n",
    "one = women.groupby(['state']).sum().reset_index() #Female White Alone\n",
    "one.drop(['sex', 'race'], axis=1, inplace=True)"
   ]
  },
  {
   "cell_type": "code",
   "execution_count": 77,
   "metadata": {},
   "outputs": [],
   "source": [
    "one.columns = ['state', 'Female White Alone']"
   ]
  },
  {
   "cell_type": "code",
   "execution_count": 78,
   "metadata": {},
   "outputs": [
    {
     "data": {
      "text/html": [
       "<div>\n",
       "<style scoped>\n",
       "    .dataframe tbody tr th:only-of-type {\n",
       "        vertical-align: middle;\n",
       "    }\n",
       "\n",
       "    .dataframe tbody tr th {\n",
       "        vertical-align: top;\n",
       "    }\n",
       "\n",
       "    .dataframe thead th {\n",
       "        text-align: right;\n",
       "    }\n",
       "</style>\n",
       "<table border=\"1\" class=\"dataframe\">\n",
       "  <thead>\n",
       "    <tr style=\"text-align: right;\">\n",
       "      <th></th>\n",
       "      <th>state</th>\n",
       "      <th>sex</th>\n",
       "      <th>race</th>\n",
       "      <th>population</th>\n",
       "    </tr>\n",
       "  </thead>\n",
       "  <tbody>\n",
       "    <tr>\n",
       "      <th>6</th>\n",
       "      <td>Alabama</td>\n",
       "      <td>2</td>\n",
       "      <td>1</td>\n",
       "      <td>2702622</td>\n",
       "    </tr>\n",
       "    <tr>\n",
       "      <th>18</th>\n",
       "      <td>Alaska</td>\n",
       "      <td>2</td>\n",
       "      <td>1</td>\n",
       "      <td>351856</td>\n",
       "    </tr>\n",
       "    <tr>\n",
       "      <th>30</th>\n",
       "      <td>Arizona</td>\n",
       "      <td>2</td>\n",
       "      <td>1</td>\n",
       "      <td>4178640</td>\n",
       "    </tr>\n",
       "    <tr>\n",
       "      <th>42</th>\n",
       "      <td>Arkansas</td>\n",
       "      <td>2</td>\n",
       "      <td>1</td>\n",
       "      <td>1852828</td>\n",
       "    </tr>\n",
       "    <tr>\n",
       "      <th>54</th>\n",
       "      <td>California</td>\n",
       "      <td>2</td>\n",
       "      <td>1</td>\n",
       "      <td>20945732</td>\n",
       "    </tr>\n",
       "  </tbody>\n",
       "</table>\n",
       "</div>"
      ],
      "text/plain": [
       "         state  sex  race  population\n",
       "6      Alabama    2     1     2702622\n",
       "18      Alaska    2     1      351856\n",
       "30     Arizona    2     1     4178640\n",
       "42    Arkansas    2     1     1852828\n",
       "54  California    2     1    20945732"
      ]
     },
     "execution_count": 78,
     "metadata": {},
     "output_type": "execute_result"
    }
   ],
   "source": [
    "women[women['race']==1].head()"
   ]
  },
  {
   "cell_type": "code",
   "execution_count": 79,
   "metadata": {},
   "outputs": [
    {
     "name": "stderr",
     "output_type": "stream",
     "text": [
      "/Users/fatemeh/opt/anaconda3/lib/python3.8/site-packages/pandas/core/frame.py:3990: SettingWithCopyWarning: \n",
      "A value is trying to be set on a copy of a slice from a DataFrame\n",
      "\n",
      "See the caveats in the documentation: https://pandas.pydata.org/pandas-docs/stable/user_guide/indexing.html#returning-a-view-versus-a-copy\n",
      "  return super().drop(\n"
     ]
    }
   ],
   "source": [
    "one = women[women['race']==1]\n",
    "one.drop(['sex', 'race'], axis=1, inplace=True)\n",
    "one.columns = ['state', 'one']\n",
    "\n",
    "two = women[women['race']==2]\n",
    "two.drop(['sex', 'race'], axis=1, inplace=True)\n",
    "two.columns = ['state', 'two']\n",
    "\n",
    "three = women[women['race']==3]\n",
    "three.drop(['sex', 'race'], axis=1, inplace=True)\n",
    "three.columns = ['state', 'three']\n",
    "\n",
    "four = women[women['race']==4]\n",
    "four.drop(['sex', 'race'], axis=1, inplace=True)\n",
    "four.columns = ['state', 'four']\n",
    "\n",
    "five = women[women['race']==5]\n",
    "five.drop(['sex', 'race'], axis=1, inplace=True)\n",
    "five.columns = ['state', 'five']\n",
    "\n",
    "six = women[women['race']==6]\n",
    "six.drop(['sex', 'race'], axis=1, inplace=True)\n",
    "six.columns = ['state', 'six']"
   ]
  },
  {
   "cell_type": "code",
   "execution_count": 80,
   "metadata": {},
   "outputs": [],
   "source": [
    "seven = men[men['race']==1]\n",
    "seven.drop(['sex', 'race'], axis=1, inplace=True)\n",
    "seven.columns = ['state', 'seven']\n",
    "\n",
    "eight = men[men['race']==2]\n",
    "eight.drop(['sex', 'race'], axis=1, inplace=True)\n",
    "eight.columns = ['state', 'eight']\n",
    "\n",
    "nine = men[men['race']==3]\n",
    "nine.drop(['sex', 'race'], axis=1, inplace=True)\n",
    "nine.columns = ['state', 'nine']\n",
    "\n",
    "ten = men[men['race']==4]\n",
    "ten.drop(['sex', 'race'], axis=1, inplace=True)\n",
    "ten.columns = ['state', 'ten']\n",
    "\n",
    "eleven = men[men['race']==5]\n",
    "eleven.drop(['sex', 'race'], axis=1, inplace=True)\n",
    "eleven.columns = ['state', 'eleven']\n",
    "\n",
    "twelve = men[men['race']==6]\n",
    "twelve.drop(['sex', 'race'], axis=1, inplace=True)\n",
    "twelve.columns = ['state', 'twelve']"
   ]
  },
  {
   "cell_type": "code",
   "execution_count": 81,
   "metadata": {},
   "outputs": [],
   "source": [
    "#merging all dataset to create a general one called \"race_pop\"\n",
    "race_pop = one.copy()\n",
    "race_pop['two'] = list(two['two'])\n",
    "race_pop['three'] = list(three['three'])\n",
    "race_pop['four'] = list(four['four'])\n",
    "race_pop['five'] = list(five['five'])\n",
    "race_pop['six'] = list(six['six'])\n",
    "race_pop['seven'] = list(seven['seven'])\n",
    "race_pop['eight'] = list(eight['eight'])\n",
    "race_pop['nine'] = list(nine['nine'])\n",
    "race_pop['ten'] = list(ten['ten'])\n",
    "race_pop['eleven'] = list(eleven['eleven'])\n",
    "race_pop['twelve'] = list(twelve['twelve'])"
   ]
  },
  {
   "cell_type": "code",
   "execution_count": 82,
   "metadata": {},
   "outputs": [
    {
     "data": {
      "text/html": [
       "<div>\n",
       "<style scoped>\n",
       "    .dataframe tbody tr th:only-of-type {\n",
       "        vertical-align: middle;\n",
       "    }\n",
       "\n",
       "    .dataframe tbody tr th {\n",
       "        vertical-align: top;\n",
       "    }\n",
       "\n",
       "    .dataframe thead th {\n",
       "        text-align: right;\n",
       "    }\n",
       "</style>\n",
       "<table border=\"1\" class=\"dataframe\">\n",
       "  <thead>\n",
       "    <tr style=\"text-align: right;\">\n",
       "      <th></th>\n",
       "      <th>state</th>\n",
       "      <th>one</th>\n",
       "      <th>two</th>\n",
       "      <th>three</th>\n",
       "      <th>four</th>\n",
       "      <th>five</th>\n",
       "      <th>six</th>\n",
       "      <th>seven</th>\n",
       "      <th>eight</th>\n",
       "      <th>nine</th>\n",
       "      <th>ten</th>\n",
       "      <th>eleven</th>\n",
       "      <th>twelve</th>\n",
       "    </tr>\n",
       "  </thead>\n",
       "  <tbody>\n",
       "    <tr>\n",
       "      <th>6</th>\n",
       "      <td>Alabama</td>\n",
       "      <td>2702622</td>\n",
       "      <td>1001622</td>\n",
       "      <td>23550</td>\n",
       "      <td>44474</td>\n",
       "      <td>2856</td>\n",
       "      <td>36352</td>\n",
       "      <td>2560692</td>\n",
       "      <td>821494</td>\n",
       "      <td>24462</td>\n",
       "      <td>39122</td>\n",
       "      <td>4182</td>\n",
       "      <td>33126</td>\n",
       "    </tr>\n",
       "    <tr>\n",
       "      <th>18</th>\n",
       "      <td>Alaska</td>\n",
       "      <td>351856</td>\n",
       "      <td>15286</td>\n",
       "      <td>71536</td>\n",
       "      <td>31348</td>\n",
       "      <td>4650</td>\n",
       "      <td>24586</td>\n",
       "      <td>400014</td>\n",
       "      <td>20000</td>\n",
       "      <td>71604</td>\n",
       "      <td>26296</td>\n",
       "      <td>4858</td>\n",
       "      <td>23672</td>\n",
       "    </tr>\n",
       "    <tr>\n",
       "      <th>30</th>\n",
       "      <td>Arizona</td>\n",
       "      <td>4178640</td>\n",
       "      <td>186474</td>\n",
       "      <td>227162</td>\n",
       "      <td>155778</td>\n",
       "      <td>10218</td>\n",
       "      <td>79896</td>\n",
       "      <td>4046060</td>\n",
       "      <td>204838</td>\n",
       "      <td>217594</td>\n",
       "      <td>131234</td>\n",
       "      <td>12524</td>\n",
       "      <td>75588</td>\n",
       "    </tr>\n",
       "    <tr>\n",
       "      <th>42</th>\n",
       "      <td>Arkansas</td>\n",
       "      <td>1852828</td>\n",
       "      <td>341484</td>\n",
       "      <td>18516</td>\n",
       "      <td>29894</td>\n",
       "      <td>3750</td>\n",
       "      <td>27014</td>\n",
       "      <td>1767470</td>\n",
       "      <td>294146</td>\n",
       "      <td>18606</td>\n",
       "      <td>26040</td>\n",
       "      <td>4136</td>\n",
       "      <td>25002</td>\n",
       "    </tr>\n",
       "    <tr>\n",
       "      <th>54</th>\n",
       "      <td>California</td>\n",
       "      <td>20945732</td>\n",
       "      <td>1879048</td>\n",
       "      <td>423972</td>\n",
       "      <td>4264134</td>\n",
       "      <td>132114</td>\n",
       "      <td>750356</td>\n",
       "      <td>20779794</td>\n",
       "      <td>1787846</td>\n",
       "      <td>441038</td>\n",
       "      <td>3691194</td>\n",
       "      <td>127982</td>\n",
       "      <td>694622</td>\n",
       "    </tr>\n",
       "  </tbody>\n",
       "</table>\n",
       "</div>"
      ],
      "text/plain": [
       "         state       one      two   three     four    five     six     seven  \\\n",
       "6      Alabama   2702622  1001622   23550    44474    2856   36352   2560692   \n",
       "18      Alaska    351856    15286   71536    31348    4650   24586    400014   \n",
       "30     Arizona   4178640   186474  227162   155778   10218   79896   4046060   \n",
       "42    Arkansas   1852828   341484   18516    29894    3750   27014   1767470   \n",
       "54  California  20945732  1879048  423972  4264134  132114  750356  20779794   \n",
       "\n",
       "      eight    nine      ten  eleven  twelve  \n",
       "6    821494   24462    39122    4182   33126  \n",
       "18    20000   71604    26296    4858   23672  \n",
       "30   204838  217594   131234   12524   75588  \n",
       "42   294146   18606    26040    4136   25002  \n",
       "54  1787846  441038  3691194  127982  694622  "
      ]
     },
     "execution_count": 82,
     "metadata": {},
     "output_type": "execute_result"
    }
   ],
   "source": [
    "race_pop.head()"
   ]
  },
  {
   "cell_type": "markdown",
   "metadata": {},
   "source": [
    "<span style=\"color:#747678; font-size:14px;\">\n",
    "As stated before, each of the columns stand for a racial group\n",
    "</span>"
   ]
  },
  {
   "cell_type": "code",
   "execution_count": 83,
   "metadata": {},
   "outputs": [
    {
     "name": "stdout",
     "output_type": "stream",
     "text": [
      "Total votes of Alabama in 2010:  7294554\n"
     ]
    }
   ],
   "source": [
    "print(\"Total votes of Alabama in 2010: \", sum(list(race_pop.iloc[0])[1:]))"
   ]
  },
  {
   "cell_type": "code",
   "execution_count": 84,
   "metadata": {},
   "outputs": [
    {
     "name": "stdout",
     "output_type": "stream",
     "text": [
      "Total votes of Alabama in 2010:  7294554\n"
     ]
    }
   ],
   "source": [
    "print(\"Total votes of Alabama in 2010: \", sum(list(pop_diversity[pop_diversity['state']=='Alabama']['population'])))"
   ]
  },
  {
   "cell_type": "markdown",
   "metadata": {},
   "source": [
    "<span style=\"color:#747678; font-size:14px;\">\n",
    "Hence, our calculation are right</span>"
   ]
  },
  {
   "cell_type": "markdown",
   "metadata": {},
   "source": [
    "<span style=\"color:#747678; font-size:14px;\">\n",
    "Race_pop is the dataset containing number of votes for different racial/sexual groups (one, ...., twelve) for year 2010</span>"
   ]
  },
  {
   "cell_type": "code",
   "execution_count": 85,
   "metadata": {},
   "outputs": [
    {
     "data": {
      "text/plain": [
       "(51, 13)"
      ]
     },
     "execution_count": 85,
     "metadata": {},
     "output_type": "execute_result"
    }
   ],
   "source": [
    "race_pop.shape #51 states"
   ]
  },
  {
   "cell_type": "code",
   "execution_count": 86,
   "metadata": {},
   "outputs": [
    {
     "data": {
      "text/html": [
       "<div>\n",
       "<style scoped>\n",
       "    .dataframe tbody tr th:only-of-type {\n",
       "        vertical-align: middle;\n",
       "    }\n",
       "\n",
       "    .dataframe tbody tr th {\n",
       "        vertical-align: top;\n",
       "    }\n",
       "\n",
       "    .dataframe thead th {\n",
       "        text-align: right;\n",
       "    }\n",
       "</style>\n",
       "<table border=\"1\" class=\"dataframe\">\n",
       "  <thead>\n",
       "    <tr style=\"text-align: right;\">\n",
       "      <th></th>\n",
       "      <th>state</th>\n",
       "      <th>one</th>\n",
       "      <th>two</th>\n",
       "      <th>three</th>\n",
       "      <th>four</th>\n",
       "      <th>five</th>\n",
       "      <th>six</th>\n",
       "      <th>seven</th>\n",
       "      <th>eight</th>\n",
       "      <th>nine</th>\n",
       "      <th>ten</th>\n",
       "      <th>eleven</th>\n",
       "      <th>twelve</th>\n",
       "    </tr>\n",
       "  </thead>\n",
       "  <tbody>\n",
       "    <tr>\n",
       "      <th>6</th>\n",
       "      <td>Alabama</td>\n",
       "      <td>2702622</td>\n",
       "      <td>1001622</td>\n",
       "      <td>23550</td>\n",
       "      <td>44474</td>\n",
       "      <td>2856</td>\n",
       "      <td>36352</td>\n",
       "      <td>2560692</td>\n",
       "      <td>821494</td>\n",
       "      <td>24462</td>\n",
       "      <td>39122</td>\n",
       "      <td>4182</td>\n",
       "      <td>33126</td>\n",
       "    </tr>\n",
       "    <tr>\n",
       "      <th>18</th>\n",
       "      <td>Alaska</td>\n",
       "      <td>351856</td>\n",
       "      <td>15286</td>\n",
       "      <td>71536</td>\n",
       "      <td>31348</td>\n",
       "      <td>4650</td>\n",
       "      <td>24586</td>\n",
       "      <td>400014</td>\n",
       "      <td>20000</td>\n",
       "      <td>71604</td>\n",
       "      <td>26296</td>\n",
       "      <td>4858</td>\n",
       "      <td>23672</td>\n",
       "    </tr>\n",
       "    <tr>\n",
       "      <th>30</th>\n",
       "      <td>Arizona</td>\n",
       "      <td>4178640</td>\n",
       "      <td>186474</td>\n",
       "      <td>227162</td>\n",
       "      <td>155778</td>\n",
       "      <td>10218</td>\n",
       "      <td>79896</td>\n",
       "      <td>4046060</td>\n",
       "      <td>204838</td>\n",
       "      <td>217594</td>\n",
       "      <td>131234</td>\n",
       "      <td>12524</td>\n",
       "      <td>75588</td>\n",
       "    </tr>\n",
       "    <tr>\n",
       "      <th>42</th>\n",
       "      <td>Arkansas</td>\n",
       "      <td>1852828</td>\n",
       "      <td>341484</td>\n",
       "      <td>18516</td>\n",
       "      <td>29894</td>\n",
       "      <td>3750</td>\n",
       "      <td>27014</td>\n",
       "      <td>1767470</td>\n",
       "      <td>294146</td>\n",
       "      <td>18606</td>\n",
       "      <td>26040</td>\n",
       "      <td>4136</td>\n",
       "      <td>25002</td>\n",
       "    </tr>\n",
       "    <tr>\n",
       "      <th>54</th>\n",
       "      <td>California</td>\n",
       "      <td>20945732</td>\n",
       "      <td>1879048</td>\n",
       "      <td>423972</td>\n",
       "      <td>4264134</td>\n",
       "      <td>132114</td>\n",
       "      <td>750356</td>\n",
       "      <td>20779794</td>\n",
       "      <td>1787846</td>\n",
       "      <td>441038</td>\n",
       "      <td>3691194</td>\n",
       "      <td>127982</td>\n",
       "      <td>694622</td>\n",
       "    </tr>\n",
       "  </tbody>\n",
       "</table>\n",
       "</div>"
      ],
      "text/plain": [
       "         state       one      two   three     four    five     six     seven  \\\n",
       "6      Alabama   2702622  1001622   23550    44474    2856   36352   2560692   \n",
       "18      Alaska    351856    15286   71536    31348    4650   24586    400014   \n",
       "30     Arizona   4178640   186474  227162   155778   10218   79896   4046060   \n",
       "42    Arkansas   1852828   341484   18516    29894    3750   27014   1767470   \n",
       "54  California  20945732  1879048  423972  4264134  132114  750356  20779794   \n",
       "\n",
       "      eight    nine      ten  eleven  twelve  \n",
       "6    821494   24462    39122    4182   33126  \n",
       "18    20000   71604    26296    4858   23672  \n",
       "30   204838  217594   131234   12524   75588  \n",
       "42   294146   18606    26040    4136   25002  \n",
       "54  1787846  441038  3691194  127982  694622  "
      ]
     },
     "execution_count": 86,
     "metadata": {},
     "output_type": "execute_result"
    }
   ],
   "source": [
    "race_pop.head()"
   ]
  },
  {
   "cell_type": "code",
   "execution_count": 87,
   "metadata": {},
   "outputs": [
    {
     "data": {
      "text/html": [
       "<div>\n",
       "<style scoped>\n",
       "    .dataframe tbody tr th:only-of-type {\n",
       "        vertical-align: middle;\n",
       "    }\n",
       "\n",
       "    .dataframe tbody tr th {\n",
       "        vertical-align: top;\n",
       "    }\n",
       "\n",
       "    .dataframe thead th {\n",
       "        text-align: right;\n",
       "    }\n",
       "</style>\n",
       "<table border=\"1\" class=\"dataframe\">\n",
       "  <thead>\n",
       "    <tr style=\"text-align: right;\">\n",
       "      <th></th>\n",
       "      <th>state</th>\n",
       "      <th>one</th>\n",
       "      <th>two</th>\n",
       "      <th>three</th>\n",
       "      <th>four</th>\n",
       "      <th>five</th>\n",
       "      <th>six</th>\n",
       "      <th>seven</th>\n",
       "      <th>eight</th>\n",
       "      <th>nine</th>\n",
       "      <th>ten</th>\n",
       "      <th>eleven</th>\n",
       "      <th>twelve</th>\n",
       "    </tr>\n",
       "  </thead>\n",
       "  <tbody>\n",
       "    <tr>\n",
       "      <th>54</th>\n",
       "      <td>California</td>\n",
       "      <td>20945732</td>\n",
       "      <td>1879048</td>\n",
       "      <td>423972</td>\n",
       "      <td>4264134</td>\n",
       "      <td>132114</td>\n",
       "      <td>750356</td>\n",
       "      <td>20779794</td>\n",
       "      <td>1787846</td>\n",
       "      <td>441038</td>\n",
       "      <td>3691194</td>\n",
       "      <td>127982</td>\n",
       "      <td>694622</td>\n",
       "    </tr>\n",
       "  </tbody>\n",
       "</table>\n",
       "</div>"
      ],
      "text/plain": [
       "         state       one      two   three     four    five     six     seven  \\\n",
       "54  California  20945732  1879048  423972  4264134  132114  750356  20779794   \n",
       "\n",
       "      eight    nine      ten  eleven  twelve  \n",
       "54  1787846  441038  3691194  127982  694622  "
      ]
     },
     "execution_count": 87,
     "metadata": {},
     "output_type": "execute_result"
    }
   ],
   "source": [
    "CA = race_pop[race_pop['state']==\"California\"]\n",
    "CA"
   ]
  },
  {
   "cell_type": "markdown",
   "metadata": {},
   "source": [
    "<div style=\"background-color:#E6E6FA;\"><span style=\"color:#8B008B; font-weight:bold; font-size:15px;\">Querry: race/gender based population in different states<br>\n",
    "</span>\n",
    "</div>"
   ]
  },
  {
   "cell_type": "code",
   "execution_count": 88,
   "metadata": {},
   "outputs": [],
   "source": [
    "#generating random colors\n",
    "import matplotlib.pyplot as plt\n",
    "import random\n",
    "\n",
    "number_of_colors = 12\n",
    "\n",
    "random_colors = [\"#\"+''.join([random.choice('0123456789ABCDEF') for j in range(6)])\n",
    "             for i in range(number_of_colors)]"
   ]
  },
  {
   "cell_type": "code",
   "execution_count": 89,
   "metadata": {},
   "outputs": [],
   "source": [
    "result = {}\n",
    "for i in range(race_pop.shape[0]):\n",
    "    key = race_pop.iloc[i]['state']\n",
    "    values = list(race_pop.iloc[i][1:])\n",
    "    result[key] = values"
   ]
  },
  {
   "cell_type": "code",
   "execution_count": 90,
   "metadata": {},
   "outputs": [
    {
     "data": {
      "image/png": "[encoded data removed]",
      "text/plain": [
       "<Figure size 576x720 with 1 Axes>"
      ]
     },
     "metadata": {
      "needs_background": "light"
     },
     "output_type": "display_data"
    }
   ],
   "source": [
    "import numpy as np\n",
    "import matplotlib.pyplot as plt\n",
    "\n",
    "\n",
    "category_names = ['Female White Alone',\n",
    "'Female Black or African American Alone',\n",
    "'Female American Indian or Alaska Native Alone',\n",
    "'Female Asian Alone',\n",
    "'Female Native Hawaiian and Other Pacific Islander Alone',\n",
    "'Female Two or more races',\n",
    "'Male White Alone',\n",
    "'Male Black or African American Alone',\n",
    "'Male American Indian or Alaska Native Alone',\n",
    "'Male Asian Alone',\n",
    "'Male Native Hawaiian and Other Pacific Islander Alone',\n",
    "'Male Two or more races']\n",
    "\n",
    "#results = sliced_counties\n",
    "results = result\n",
    "ncols = 12\n",
    "\n",
    "def survey(results, category_names, ncols):\n",
    "    \"\"\"\n",
    "    Parameters\n",
    "    ----------\n",
    "    results : dict\n",
    "        A mapping from question labels to a list of answers per category.\n",
    "        It is assumed all lists contain the same number of entries and that\n",
    "        it matches the length of *category_names*.\n",
    "    category_names : list of str\n",
    "        The category labels.\n",
    "    \"\"\"\n",
    "    labels = list(results.keys())\n",
    "    data = np.array(list(results.values()))\n",
    "    data_cum = data.cumsum(axis=1)\n",
    "    category_colors = plt.get_cmap('rainbow')(\n",
    "        np.linspace(0.001, 1.1, data.shape[1]))\n",
    "\n",
    "    fig, ax = plt.subplots(figsize=(8, 10))\n",
    "    ax.invert_yaxis()\n",
    "    ax.xaxis.set_visible(False)\n",
    "    ax.set_xlim(0, np.sum(data, axis=1).max())\n",
    "\n",
    "    for i, (colname, color) in enumerate(zip(category_names, category_colors)):\n",
    "        widths = data[:, i]\n",
    "        starts = data_cum[:, i] - widths\n",
    "        ax.barh(labels, widths, left=starts, height=0.8,\n",
    "                label=colname, color=color)\n",
    "    ax.legend(ncol=1, bbox_to_anchor=(0.35,0.4),\n",
    "              loc='lower left', fontsize='small')\n",
    "    plt.title(\"Race/gender based population of states in 2010\")\n",
    "\n",
    "    return fig, ax\n",
    "\n",
    "survey(results, category_names, ncols)\n",
    "plt.savefig(\"race.png\")\n",
    "plt.show()"
   ]
  },
  {
   "cell_type": "markdown",
   "metadata": {},
   "source": [
    "<div style=\"background-color:#E6E6FA;\"><span style=\"color:#8B008B; font-weight:bold; font-size:15px;\">Querry: mean and variance of each race in the whole country<br>\n",
    "</span>\n",
    "</div>"
   ]
  },
  {
   "cell_type": "markdown",
   "metadata": {},
   "source": [
    "<span style=\"color:#747678; font-size:14px;\">\n",
    "What are the mean and variance population of people of all states?\n",
    "</span>"
   ]
  },
  {
   "cell_type": "code",
   "execution_count": 91,
   "metadata": {},
   "outputs": [],
   "source": [
    "minimum = []\n",
    "maximum = []\n",
    "mean = []\n",
    "std = []\n",
    "one = one['one']\n",
    "two = two['two']\n",
    "three = three['three']\n",
    "four = four['four']\n",
    "five = five['five']\n",
    "six = six['six']\n",
    "seven = seven['seven']\n",
    "eight = eight['eight']\n",
    "nine = nine['nine']\n",
    "ten = ten['ten']\n",
    "eleven = eleven['eleven']\n",
    "twelve = twelve['twelve']\n",
    "\n",
    "lists = [list(one), list(two), list(three), list(four), list(five), list(six), list(seven), list(eight), list(nine), list(ten), list(eleven), list(twelve)]\n",
    "for l in lists:\n",
    "    minimum.append(np.min(l))\n",
    "    maximum.append(np.max(l))\n",
    "    mean.append(np.mean(l))\n",
    "    std.append(np.std(l))"
   ]
  },
  {
   "cell_type": "code",
   "execution_count": 92,
   "metadata": {},
   "outputs": [],
   "source": [
    "categories = ['Female White Alone',\n",
    "'Female Black or African American Alone',\n",
    "'Female American Indian or Alaska Native Alone',\n",
    "'Female Asian Alone',\n",
    "'Female Native Hawaiian and Other Pacific Islander Alone',\n",
    "'Female Two or more races',\n",
    "'Male White Alone',\n",
    "'Male Black or African American Alone',\n",
    "'Male American Indian or Alaska Native Alone',\n",
    "'Male Asian Alone',\n",
    "'Male Native Hawaiian and Other Pacific Islander Alone',\n",
    "'Male Two or more races']"
   ]
  },
  {
   "cell_type": "code",
   "execution_count": 93,
   "metadata": {},
   "outputs": [
    {
     "data": {
      "image/png": "[encoded data removed]",
      "text/plain": [
       "<Figure size 576x288 with 1 Axes>"
      ]
     },
     "metadata": {
      "needs_background": "light"
     },
     "output_type": "display_data"
    }
   ],
   "source": [
    "plt.figure(figsize=(8,4))\n",
    "plt.scatter(minimum, categories, color=\"#7FFFD4\", marker=\"*\", label=\"Min\", s=40)\n",
    "plt.scatter(maximum, categories, color=\"#8A2BE2\", marker=\"*\",  label=\"Max\", s=40)\n",
    "plt.scatter(std, categories, color=\"#DC143C\", marker=\"*\", label=\"$\\sigma$\", s=40)\n",
    "plt.scatter(mean, categories, color=\"#FFD700\", marker=\"*\",  label=\"$E(x)=\\mu$\", s=40)\n",
    "plt.xticks(rotation=90)\n",
    "plt.xlabel(\"# people\")\n",
    "plt.title(\"Min, Max, Standard deviation and average of each race over all states\")\n",
    "plt.legend(loc=1, prop={'size': 12})\n",
    "plt.savefig(\"statistics.png\")"
   ]
  },
  {
   "cell_type": "markdown",
   "metadata": {},
   "source": [
    "<div style=\"background-color:#E6E6FA;\"><span style=\"color:#8B008B; font-weight:bold; font-size:15px;\">Querry: number of women and men in each state<br>\n",
    "</span>\n",
    "</div>"
   ]
  },
  {
   "cell_type": "code",
   "execution_count": 94,
   "metadata": {},
   "outputs": [],
   "source": [
    "race_pop['women'] = race_pop['one']+race_pop['two']+race_pop['three']+race_pop['four']+race_pop['five']+race_pop['six']\n",
    "race_pop['men'] = race_pop['seven']+race_pop['eight']+race_pop['nine']+race_pop['ten']+race_pop['eleven']+race_pop['twelve']"
   ]
  },
  {
   "cell_type": "code",
   "execution_count": 95,
   "metadata": {},
   "outputs": [],
   "source": [
    "diff = [list(race_pop['women'])[i]-list(race_pop['men'])[i] for i in range(len(list(race_pop['women'])))]"
   ]
  },
  {
   "cell_type": "code",
   "execution_count": 97,
   "metadata": {},
   "outputs": [],
   "source": [
    "states = list(race_pop['state'])"
   ]
  },
  {
   "cell_type": "code",
   "execution_count": 98,
   "metadata": {},
   "outputs": [
    {
     "data": {
      "image/png": "[encoded data removed]",
      "text/plain": [
       "<Figure size 864x288 with 1 Axes>"
      ]
     },
     "metadata": {
      "needs_background": "light"
     },
     "output_type": "display_data"
    }
   ],
   "source": [
    "plt.figure(figsize=(12,4))\n",
    "plt.scatter(states, race_pop['women'], color=\"salmon\", label=\"Women\", s=40)\n",
    "plt.bar(states, race_pop['men'], color=\"#7FFFD4\",  label=\"Men\")\n",
    "plt.bar(states, diff, color=\"navy\",  label=\"Differrence\")\n",
    "\n",
    "plt.xticks(rotation=90)\n",
    "plt.ylabel(\"Population\")\n",
    "plt.title(\"Distribution of men and women in different states in 2010\")\n",
    "plt.legend(loc=1, prop={'size': 12})\n",
    "plt.savefig(\"men_women.png\")"
   ]
  },
  {
   "cell_type": "markdown",
   "metadata": {},
   "source": [
    "<span style=\"color:#747678; font-size:14px;\">\n",
    "It seems like number of women is higher than men in all states in 2010</span>"
   ]
  },
  {
   "cell_type": "markdown",
   "metadata": {},
   "source": [
    "<br><br><br><br><br><br><div style=\"background-color:crimson; color: lightsalmon; font-weight:bold; font-size:15px;\">Adding vote data to race/gender based population and doing prediction</div>"
   ]
  },
  {
   "cell_type": "code",
   "execution_count": 99,
   "metadata": {},
   "outputs": [
    {
     "data": {
      "text/html": [
       "<div>\n",
       "<style scoped>\n",
       "    .dataframe tbody tr th:only-of-type {\n",
       "        vertical-align: middle;\n",
       "    }\n",
       "\n",
       "    .dataframe tbody tr th {\n",
       "        vertical-align: top;\n",
       "    }\n",
       "\n",
       "    .dataframe thead th {\n",
       "        text-align: right;\n",
       "    }\n",
       "</style>\n",
       "<table border=\"1\" class=\"dataframe\">\n",
       "  <thead>\n",
       "    <tr style=\"text-align: right;\">\n",
       "      <th></th>\n",
       "      <th>state</th>\n",
       "      <th>one</th>\n",
       "      <th>two</th>\n",
       "      <th>three</th>\n",
       "      <th>four</th>\n",
       "      <th>five</th>\n",
       "      <th>six</th>\n",
       "      <th>seven</th>\n",
       "      <th>eight</th>\n",
       "      <th>nine</th>\n",
       "      <th>ten</th>\n",
       "      <th>eleven</th>\n",
       "      <th>twelve</th>\n",
       "      <th>women</th>\n",
       "      <th>men</th>\n",
       "    </tr>\n",
       "  </thead>\n",
       "  <tbody>\n",
       "    <tr>\n",
       "      <th>6</th>\n",
       "      <td>Alabama</td>\n",
       "      <td>2702622</td>\n",
       "      <td>1001622</td>\n",
       "      <td>23550</td>\n",
       "      <td>44474</td>\n",
       "      <td>2856</td>\n",
       "      <td>36352</td>\n",
       "      <td>2560692</td>\n",
       "      <td>821494</td>\n",
       "      <td>24462</td>\n",
       "      <td>39122</td>\n",
       "      <td>4182</td>\n",
       "      <td>33126</td>\n",
       "      <td>3811476</td>\n",
       "      <td>3483078</td>\n",
       "    </tr>\n",
       "    <tr>\n",
       "      <th>18</th>\n",
       "      <td>Alaska</td>\n",
       "      <td>351856</td>\n",
       "      <td>15286</td>\n",
       "      <td>71536</td>\n",
       "      <td>31348</td>\n",
       "      <td>4650</td>\n",
       "      <td>24586</td>\n",
       "      <td>400014</td>\n",
       "      <td>20000</td>\n",
       "      <td>71604</td>\n",
       "      <td>26296</td>\n",
       "      <td>4858</td>\n",
       "      <td>23672</td>\n",
       "      <td>499262</td>\n",
       "      <td>546444</td>\n",
       "    </tr>\n",
       "    <tr>\n",
       "      <th>30</th>\n",
       "      <td>Arizona</td>\n",
       "      <td>4178640</td>\n",
       "      <td>186474</td>\n",
       "      <td>227162</td>\n",
       "      <td>155778</td>\n",
       "      <td>10218</td>\n",
       "      <td>79896</td>\n",
       "      <td>4046060</td>\n",
       "      <td>204838</td>\n",
       "      <td>217594</td>\n",
       "      <td>131234</td>\n",
       "      <td>12524</td>\n",
       "      <td>75588</td>\n",
       "      <td>4838168</td>\n",
       "      <td>4687838</td>\n",
       "    </tr>\n",
       "    <tr>\n",
       "      <th>42</th>\n",
       "      <td>Arkansas</td>\n",
       "      <td>1852828</td>\n",
       "      <td>341484</td>\n",
       "      <td>18516</td>\n",
       "      <td>29894</td>\n",
       "      <td>3750</td>\n",
       "      <td>27014</td>\n",
       "      <td>1767470</td>\n",
       "      <td>294146</td>\n",
       "      <td>18606</td>\n",
       "      <td>26040</td>\n",
       "      <td>4136</td>\n",
       "      <td>25002</td>\n",
       "      <td>2273486</td>\n",
       "      <td>2135400</td>\n",
       "    </tr>\n",
       "    <tr>\n",
       "      <th>54</th>\n",
       "      <td>California</td>\n",
       "      <td>20945732</td>\n",
       "      <td>1879048</td>\n",
       "      <td>423972</td>\n",
       "      <td>4264134</td>\n",
       "      <td>132114</td>\n",
       "      <td>750356</td>\n",
       "      <td>20779794</td>\n",
       "      <td>1787846</td>\n",
       "      <td>441038</td>\n",
       "      <td>3691194</td>\n",
       "      <td>127982</td>\n",
       "      <td>694622</td>\n",
       "      <td>28395356</td>\n",
       "      <td>27522476</td>\n",
       "    </tr>\n",
       "  </tbody>\n",
       "</table>\n",
       "</div>"
      ],
      "text/plain": [
       "         state       one      two   three     four    five     six     seven  \\\n",
       "6      Alabama   2702622  1001622   23550    44474    2856   36352   2560692   \n",
       "18      Alaska    351856    15286   71536    31348    4650   24586    400014   \n",
       "30     Arizona   4178640   186474  227162   155778   10218   79896   4046060   \n",
       "42    Arkansas   1852828   341484   18516    29894    3750   27014   1767470   \n",
       "54  California  20945732  1879048  423972  4264134  132114  750356  20779794   \n",
       "\n",
       "      eight    nine      ten  eleven  twelve     women       men  \n",
       "6    821494   24462    39122    4182   33126   3811476   3483078  \n",
       "18    20000   71604    26296    4858   23672    499262    546444  \n",
       "30   204838  217594   131234   12524   75588   4838168   4687838  \n",
       "42   294146   18606    26040    4136   25002   2273486   2135400  \n",
       "54  1787846  441038  3691194  127982  694622  28395356  27522476  "
      ]
     },
     "execution_count": 99,
     "metadata": {},
     "output_type": "execute_result"
    }
   ],
   "source": [
    "race_pop.head()"
   ]
  },
  {
   "cell_type": "code",
   "execution_count": 100,
   "metadata": {},
   "outputs": [
    {
     "data": {
      "text/html": [
       "<div>\n",
       "<style scoped>\n",
       "    .dataframe tbody tr th:only-of-type {\n",
       "        vertical-align: middle;\n",
       "    }\n",
       "\n",
       "    .dataframe tbody tr th {\n",
       "        vertical-align: top;\n",
       "    }\n",
       "\n",
       "    .dataframe thead th {\n",
       "        text-align: right;\n",
       "    }\n",
       "</style>\n",
       "<table border=\"1\" class=\"dataframe\">\n",
       "  <thead>\n",
       "    <tr style=\"text-align: right;\">\n",
       "      <th></th>\n",
       "      <th>year</th>\n",
       "      <th>state</th>\n",
       "      <th>state_po</th>\n",
       "      <th>candidate</th>\n",
       "      <th>party</th>\n",
       "      <th>candidatevotes</th>\n",
       "      <th>totalvotes</th>\n",
       "    </tr>\n",
       "  </thead>\n",
       "  <tbody>\n",
       "    <tr>\n",
       "      <th>2429</th>\n",
       "      <td>2010</td>\n",
       "      <td>Alabama</td>\n",
       "      <td>AL</td>\n",
       "      <td>William G. Barnes</td>\n",
       "      <td>democrat</td>\n",
       "      <td>515619</td>\n",
       "      <td>1485499</td>\n",
       "    </tr>\n",
       "    <tr>\n",
       "      <th>2430</th>\n",
       "      <td>2010</td>\n",
       "      <td>Alabama</td>\n",
       "      <td>AL</td>\n",
       "      <td>not recorded</td>\n",
       "      <td>not recorded</td>\n",
       "      <td>1699</td>\n",
       "      <td>1485499</td>\n",
       "    </tr>\n",
       "    <tr>\n",
       "      <th>2431</th>\n",
       "      <td>2010</td>\n",
       "      <td>Alabama</td>\n",
       "      <td>AL</td>\n",
       "      <td>Richard C. Shelby</td>\n",
       "      <td>republican</td>\n",
       "      <td>968181</td>\n",
       "      <td>1485499</td>\n",
       "    </tr>\n",
       "    <tr>\n",
       "      <th>2432</th>\n",
       "      <td>2010</td>\n",
       "      <td>Alaska</td>\n",
       "      <td>AK</td>\n",
       "      <td>Tim Carter</td>\n",
       "      <td>nonaffiliated</td>\n",
       "      <td>927</td>\n",
       "      <td>255503</td>\n",
       "    </tr>\n",
       "    <tr>\n",
       "      <th>2433</th>\n",
       "      <td>2010</td>\n",
       "      <td>Alaska</td>\n",
       "      <td>AK</td>\n",
       "      <td>Ted Gianoutsos</td>\n",
       "      <td>nonaffiliated</td>\n",
       "      <td>458</td>\n",
       "      <td>255503</td>\n",
       "    </tr>\n",
       "  </tbody>\n",
       "</table>\n",
       "</div>"
      ],
      "text/plain": [
       "      year    state state_po          candidate          party  \\\n",
       "2429  2010  Alabama       AL  William G. Barnes       democrat   \n",
       "2430  2010  Alabama       AL       not recorded   not recorded   \n",
       "2431  2010  Alabama       AL  Richard C. Shelby     republican   \n",
       "2432  2010   Alaska       AK         Tim Carter  nonaffiliated   \n",
       "2433  2010   Alaska       AK     Ted Gianoutsos  nonaffiliated   \n",
       "\n",
       "      candidatevotes  totalvotes  \n",
       "2429          515619     1485499  \n",
       "2430            1699     1485499  \n",
       "2431          968181     1485499  \n",
       "2432             927      255503  \n",
       "2433             458      255503  "
      ]
     },
     "execution_count": 100,
     "metadata": {},
     "output_type": "execute_result"
    }
   ],
   "source": [
    "senate_2010 = senate_1976_2018[senate_1976_2018['year']==2010]\n",
    "senate_2010.head()"
   ]
  },
  {
   "cell_type": "code",
   "execution_count": 101,
   "metadata": {},
   "outputs": [
    {
     "name": "stderr",
     "output_type": "stream",
     "text": [
      "/Users/fatemeh/opt/anaconda3/lib/python3.8/site-packages/pandas/core/frame.py:3990: SettingWithCopyWarning: \n",
      "A value is trying to be set on a copy of a slice from a DataFrame\n",
      "\n",
      "See the caveats in the documentation: https://pandas.pydata.org/pandas-docs/stable/user_guide/indexing.html#returning-a-view-versus-a-copy\n",
      "  return super().drop(\n"
     ]
    }
   ],
   "source": [
    "senate_2010.drop(['totalvotes', 'state_po', 'candidate', 'year'], axis=1, inplace=True)"
   ]
  },
  {
   "cell_type": "code",
   "execution_count": 102,
   "metadata": {},
   "outputs": [
    {
     "data": {
      "text/html": [
       "<div>\n",
       "<style scoped>\n",
       "    .dataframe tbody tr th:only-of-type {\n",
       "        vertical-align: middle;\n",
       "    }\n",
       "\n",
       "    .dataframe tbody tr th {\n",
       "        vertical-align: top;\n",
       "    }\n",
       "\n",
       "    .dataframe thead th {\n",
       "        text-align: right;\n",
       "    }\n",
       "</style>\n",
       "<table border=\"1\" class=\"dataframe\">\n",
       "  <thead>\n",
       "    <tr style=\"text-align: right;\">\n",
       "      <th></th>\n",
       "      <th>state</th>\n",
       "      <th>party</th>\n",
       "      <th>candidatevotes</th>\n",
       "    </tr>\n",
       "  </thead>\n",
       "  <tbody>\n",
       "    <tr>\n",
       "      <th>0</th>\n",
       "      <td>Alabama</td>\n",
       "      <td>democrat</td>\n",
       "      <td>515619</td>\n",
       "    </tr>\n",
       "    <tr>\n",
       "      <th>1</th>\n",
       "      <td>Alabama</td>\n",
       "      <td>not recorded</td>\n",
       "      <td>1699</td>\n",
       "    </tr>\n",
       "    <tr>\n",
       "      <th>2</th>\n",
       "      <td>Alabama</td>\n",
       "      <td>republican</td>\n",
       "      <td>968181</td>\n",
       "    </tr>\n",
       "    <tr>\n",
       "      <th>3</th>\n",
       "      <td>Alaska</td>\n",
       "      <td>democrat</td>\n",
       "      <td>60045</td>\n",
       "    </tr>\n",
       "    <tr>\n",
       "      <th>4</th>\n",
       "      <td>Alaska</td>\n",
       "      <td>libertarian</td>\n",
       "      <td>1459</td>\n",
       "    </tr>\n",
       "  </tbody>\n",
       "</table>\n",
       "</div>"
      ],
      "text/plain": [
       "     state         party  candidatevotes\n",
       "0  Alabama      democrat          515619\n",
       "1  Alabama  not recorded            1699\n",
       "2  Alabama    republican          968181\n",
       "3   Alaska      democrat           60045\n",
       "4   Alaska   libertarian            1459"
      ]
     },
     "execution_count": 102,
     "metadata": {},
     "output_type": "execute_result"
    }
   ],
   "source": [
    " senate_2010.groupby(['state', 'party']).sum().reset_index().head()"
   ]
  },
  {
   "cell_type": "code",
   "execution_count": 103,
   "metadata": {},
   "outputs": [],
   "source": [
    "dem = senate_2010[senate_2010['party']=='democrat']\n",
    "rep = senate_2010[senate_2010['party']=='republican']"
   ]
  },
  {
   "cell_type": "code",
   "execution_count": 104,
   "metadata": {},
   "outputs": [
    {
     "name": "stderr",
     "output_type": "stream",
     "text": [
      "/Users/fatemeh/opt/anaconda3/lib/python3.8/site-packages/pandas/core/frame.py:3990: SettingWithCopyWarning: \n",
      "A value is trying to be set on a copy of a slice from a DataFrame\n",
      "\n",
      "See the caveats in the documentation: https://pandas.pydata.org/pandas-docs/stable/user_guide/indexing.html#returning-a-view-versus-a-copy\n",
      "  return super().drop(\n"
     ]
    },
    {
     "data": {
      "text/plain": [
       "(36, 38)"
      ]
     },
     "execution_count": 104,
     "metadata": {},
     "output_type": "execute_result"
    }
   ],
   "source": [
    "dem.drop(['party'], axis=1, inplace=True)\n",
    "rep.drop(['party'], axis=1, inplace=True)\n",
    "len(dem), len(rep)"
   ]
  },
  {
   "cell_type": "code",
   "execution_count": 105,
   "metadata": {},
   "outputs": [
    {
     "data": {
      "text/plain": [
       "array(['District of Columbia', 'Maine', 'Massachusetts', 'Michigan',\n",
       "       'Minnesota', 'Mississippi', 'Montana', 'Nebraska', 'New Jersey',\n",
       "       'New Mexico', 'North Dakota', 'Rhode Island', 'South Dakota',\n",
       "       'Tennessee', 'Texas', 'Virginia', 'Wyoming'], dtype='<U20')"
      ]
     },
     "execution_count": 105,
     "metadata": {},
     "output_type": "execute_result"
    }
   ],
   "source": [
    "diff = []\n",
    "for state in list(race_pop['state']) :\n",
    "    if (state not in list(dem['state'])) or (state not in list(rep['state'])):\n",
    "        diff.append(state)\n",
    "np.array(diff) #states not in dem or rep (votes of the following is not preserved in dataset)"
   ]
  },
  {
   "cell_type": "code",
   "execution_count": 106,
   "metadata": {},
   "outputs": [],
   "source": [
    "#merging two datasets"
   ]
  },
  {
   "cell_type": "code",
   "execution_count": 107,
   "metadata": {},
   "outputs": [
    {
     "data": {
      "text/html": [
       "<div>\n",
       "<style scoped>\n",
       "    .dataframe tbody tr th:only-of-type {\n",
       "        vertical-align: middle;\n",
       "    }\n",
       "\n",
       "    .dataframe tbody tr th {\n",
       "        vertical-align: top;\n",
       "    }\n",
       "\n",
       "    .dataframe thead th {\n",
       "        text-align: right;\n",
       "    }\n",
       "</style>\n",
       "<table border=\"1\" class=\"dataframe\">\n",
       "  <thead>\n",
       "    <tr style=\"text-align: right;\">\n",
       "      <th></th>\n",
       "      <th>state</th>\n",
       "      <th>one</th>\n",
       "      <th>two</th>\n",
       "      <th>three</th>\n",
       "      <th>four</th>\n",
       "      <th>five</th>\n",
       "      <th>six</th>\n",
       "      <th>seven</th>\n",
       "      <th>eight</th>\n",
       "      <th>nine</th>\n",
       "      <th>ten</th>\n",
       "      <th>eleven</th>\n",
       "      <th>twelve</th>\n",
       "      <th>women</th>\n",
       "      <th>men</th>\n",
       "      <th>candidatevotes</th>\n",
       "    </tr>\n",
       "  </thead>\n",
       "  <tbody>\n",
       "    <tr>\n",
       "      <th>0</th>\n",
       "      <td>Alabama</td>\n",
       "      <td>2702622</td>\n",
       "      <td>1001622</td>\n",
       "      <td>23550</td>\n",
       "      <td>44474</td>\n",
       "      <td>2856</td>\n",
       "      <td>36352</td>\n",
       "      <td>2560692</td>\n",
       "      <td>821494</td>\n",
       "      <td>24462</td>\n",
       "      <td>39122</td>\n",
       "      <td>4182</td>\n",
       "      <td>33126</td>\n",
       "      <td>3811476</td>\n",
       "      <td>3483078</td>\n",
       "      <td>515619</td>\n",
       "    </tr>\n",
       "    <tr>\n",
       "      <th>1</th>\n",
       "      <td>Alaska</td>\n",
       "      <td>351856</td>\n",
       "      <td>15286</td>\n",
       "      <td>71536</td>\n",
       "      <td>31348</td>\n",
       "      <td>4650</td>\n",
       "      <td>24586</td>\n",
       "      <td>400014</td>\n",
       "      <td>20000</td>\n",
       "      <td>71604</td>\n",
       "      <td>26296</td>\n",
       "      <td>4858</td>\n",
       "      <td>23672</td>\n",
       "      <td>499262</td>\n",
       "      <td>546444</td>\n",
       "      <td>60045</td>\n",
       "    </tr>\n",
       "    <tr>\n",
       "      <th>2</th>\n",
       "      <td>Arizona</td>\n",
       "      <td>4178640</td>\n",
       "      <td>186474</td>\n",
       "      <td>227162</td>\n",
       "      <td>155778</td>\n",
       "      <td>10218</td>\n",
       "      <td>79896</td>\n",
       "      <td>4046060</td>\n",
       "      <td>204838</td>\n",
       "      <td>217594</td>\n",
       "      <td>131234</td>\n",
       "      <td>12524</td>\n",
       "      <td>75588</td>\n",
       "      <td>4838168</td>\n",
       "      <td>4687838</td>\n",
       "      <td>592011</td>\n",
       "    </tr>\n",
       "    <tr>\n",
       "      <th>3</th>\n",
       "      <td>Arkansas</td>\n",
       "      <td>1852828</td>\n",
       "      <td>341484</td>\n",
       "      <td>18516</td>\n",
       "      <td>29894</td>\n",
       "      <td>3750</td>\n",
       "      <td>27014</td>\n",
       "      <td>1767470</td>\n",
       "      <td>294146</td>\n",
       "      <td>18606</td>\n",
       "      <td>26040</td>\n",
       "      <td>4136</td>\n",
       "      <td>25002</td>\n",
       "      <td>2273486</td>\n",
       "      <td>2135400</td>\n",
       "      <td>288156</td>\n",
       "    </tr>\n",
       "    <tr>\n",
       "      <th>4</th>\n",
       "      <td>California</td>\n",
       "      <td>20945732</td>\n",
       "      <td>1879048</td>\n",
       "      <td>423972</td>\n",
       "      <td>4264134</td>\n",
       "      <td>132114</td>\n",
       "      <td>750356</td>\n",
       "      <td>20779794</td>\n",
       "      <td>1787846</td>\n",
       "      <td>441038</td>\n",
       "      <td>3691194</td>\n",
       "      <td>127982</td>\n",
       "      <td>694622</td>\n",
       "      <td>28395356</td>\n",
       "      <td>27522476</td>\n",
       "      <td>5218441</td>\n",
       "    </tr>\n",
       "  </tbody>\n",
       "</table>\n",
       "</div>"
      ],
      "text/plain": [
       "        state       one      two   three     four    five     six     seven  \\\n",
       "0     Alabama   2702622  1001622   23550    44474    2856   36352   2560692   \n",
       "1      Alaska    351856    15286   71536    31348    4650   24586    400014   \n",
       "2     Arizona   4178640   186474  227162   155778   10218   79896   4046060   \n",
       "3    Arkansas   1852828   341484   18516    29894    3750   27014   1767470   \n",
       "4  California  20945732  1879048  423972  4264134  132114  750356  20779794   \n",
       "\n",
       "     eight    nine      ten  eleven  twelve     women       men  \\\n",
       "0   821494   24462    39122    4182   33126   3811476   3483078   \n",
       "1    20000   71604    26296    4858   23672    499262    546444   \n",
       "2   204838  217594   131234   12524   75588   4838168   4687838   \n",
       "3   294146   18606    26040    4136   25002   2273486   2135400   \n",
       "4  1787846  441038  3691194  127982  694622  28395356  27522476   \n",
       "\n",
       "   candidatevotes  \n",
       "0          515619  \n",
       "1           60045  \n",
       "2          592011  \n",
       "3          288156  \n",
       "4         5218441  "
      ]
     },
     "execution_count": 107,
     "metadata": {},
     "output_type": "execute_result"
    }
   ],
   "source": [
    "merged = pd.merge(race_pop, dem, on='state')\n",
    "merged.head()"
   ]
  },
  {
   "cell_type": "code",
   "execution_count": 108,
   "metadata": {},
   "outputs": [],
   "source": [
    "merged.columns = merged.columns.str.replace('candidatevotes','Democrat')"
   ]
  },
  {
   "cell_type": "code",
   "execution_count": 109,
   "metadata": {},
   "outputs": [
    {
     "data": {
      "text/html": [
       "<div>\n",
       "<style scoped>\n",
       "    .dataframe tbody tr th:only-of-type {\n",
       "        vertical-align: middle;\n",
       "    }\n",
       "\n",
       "    .dataframe tbody tr th {\n",
       "        vertical-align: top;\n",
       "    }\n",
       "\n",
       "    .dataframe thead th {\n",
       "        text-align: right;\n",
       "    }\n",
       "</style>\n",
       "<table border=\"1\" class=\"dataframe\">\n",
       "  <thead>\n",
       "    <tr style=\"text-align: right;\">\n",
       "      <th></th>\n",
       "      <th>state</th>\n",
       "      <th>one</th>\n",
       "      <th>two</th>\n",
       "      <th>three</th>\n",
       "      <th>four</th>\n",
       "      <th>five</th>\n",
       "      <th>six</th>\n",
       "      <th>seven</th>\n",
       "      <th>eight</th>\n",
       "      <th>nine</th>\n",
       "      <th>ten</th>\n",
       "      <th>eleven</th>\n",
       "      <th>twelve</th>\n",
       "      <th>women</th>\n",
       "      <th>men</th>\n",
       "      <th>Democrat</th>\n",
       "      <th>Republican</th>\n",
       "    </tr>\n",
       "  </thead>\n",
       "  <tbody>\n",
       "    <tr>\n",
       "      <th>0</th>\n",
       "      <td>Alabama</td>\n",
       "      <td>2702622</td>\n",
       "      <td>1001622</td>\n",
       "      <td>23550</td>\n",
       "      <td>44474</td>\n",
       "      <td>2856</td>\n",
       "      <td>36352</td>\n",
       "      <td>2560692</td>\n",
       "      <td>821494</td>\n",
       "      <td>24462</td>\n",
       "      <td>39122</td>\n",
       "      <td>4182</td>\n",
       "      <td>33126</td>\n",
       "      <td>3811476</td>\n",
       "      <td>3483078</td>\n",
       "      <td>515619</td>\n",
       "      <td>968181</td>\n",
       "    </tr>\n",
       "    <tr>\n",
       "      <th>1</th>\n",
       "      <td>Alaska</td>\n",
       "      <td>351856</td>\n",
       "      <td>15286</td>\n",
       "      <td>71536</td>\n",
       "      <td>31348</td>\n",
       "      <td>4650</td>\n",
       "      <td>24586</td>\n",
       "      <td>400014</td>\n",
       "      <td>20000</td>\n",
       "      <td>71604</td>\n",
       "      <td>26296</td>\n",
       "      <td>4858</td>\n",
       "      <td>23672</td>\n",
       "      <td>499262</td>\n",
       "      <td>546444</td>\n",
       "      <td>60045</td>\n",
       "      <td>90839</td>\n",
       "    </tr>\n",
       "    <tr>\n",
       "      <th>2</th>\n",
       "      <td>Arizona</td>\n",
       "      <td>4178640</td>\n",
       "      <td>186474</td>\n",
       "      <td>227162</td>\n",
       "      <td>155778</td>\n",
       "      <td>10218</td>\n",
       "      <td>79896</td>\n",
       "      <td>4046060</td>\n",
       "      <td>204838</td>\n",
       "      <td>217594</td>\n",
       "      <td>131234</td>\n",
       "      <td>12524</td>\n",
       "      <td>75588</td>\n",
       "      <td>4838168</td>\n",
       "      <td>4687838</td>\n",
       "      <td>592011</td>\n",
       "      <td>1005615</td>\n",
       "    </tr>\n",
       "    <tr>\n",
       "      <th>3</th>\n",
       "      <td>Arkansas</td>\n",
       "      <td>1852828</td>\n",
       "      <td>341484</td>\n",
       "      <td>18516</td>\n",
       "      <td>29894</td>\n",
       "      <td>3750</td>\n",
       "      <td>27014</td>\n",
       "      <td>1767470</td>\n",
       "      <td>294146</td>\n",
       "      <td>18606</td>\n",
       "      <td>26040</td>\n",
       "      <td>4136</td>\n",
       "      <td>25002</td>\n",
       "      <td>2273486</td>\n",
       "      <td>2135400</td>\n",
       "      <td>288156</td>\n",
       "      <td>451618</td>\n",
       "    </tr>\n",
       "    <tr>\n",
       "      <th>4</th>\n",
       "      <td>California</td>\n",
       "      <td>20945732</td>\n",
       "      <td>1879048</td>\n",
       "      <td>423972</td>\n",
       "      <td>4264134</td>\n",
       "      <td>132114</td>\n",
       "      <td>750356</td>\n",
       "      <td>20779794</td>\n",
       "      <td>1787846</td>\n",
       "      <td>441038</td>\n",
       "      <td>3691194</td>\n",
       "      <td>127982</td>\n",
       "      <td>694622</td>\n",
       "      <td>28395356</td>\n",
       "      <td>27522476</td>\n",
       "      <td>5218441</td>\n",
       "      <td>4217366</td>\n",
       "    </tr>\n",
       "  </tbody>\n",
       "</table>\n",
       "</div>"
      ],
      "text/plain": [
       "        state       one      two   three     four    five     six     seven  \\\n",
       "0     Alabama   2702622  1001622   23550    44474    2856   36352   2560692   \n",
       "1      Alaska    351856    15286   71536    31348    4650   24586    400014   \n",
       "2     Arizona   4178640   186474  227162   155778   10218   79896   4046060   \n",
       "3    Arkansas   1852828   341484   18516    29894    3750   27014   1767470   \n",
       "4  California  20945732  1879048  423972  4264134  132114  750356  20779794   \n",
       "\n",
       "     eight    nine      ten  eleven  twelve     women       men  Democrat  \\\n",
       "0   821494   24462    39122    4182   33126   3811476   3483078    515619   \n",
       "1    20000   71604    26296    4858   23672    499262    546444     60045   \n",
       "2   204838  217594   131234   12524   75588   4838168   4687838    592011   \n",
       "3   294146   18606    26040    4136   25002   2273486   2135400    288156   \n",
       "4  1787846  441038  3691194  127982  694622  28395356  27522476   5218441   \n",
       "\n",
       "   Republican  \n",
       "0      968181  \n",
       "1       90839  \n",
       "2     1005615  \n",
       "3      451618  \n",
       "4     4217366  "
      ]
     },
     "execution_count": 109,
     "metadata": {},
     "output_type": "execute_result"
    }
   ],
   "source": [
    "merged = pd.merge(merged, rep, on='state')\n",
    "merged.columns = merged.columns.str.replace('candidatevotes','Republican')\n",
    "merged.head()"
   ]
  },
  {
   "cell_type": "code",
   "execution_count": 110,
   "metadata": {},
   "outputs": [],
   "source": [
    "merged['winner'] = np.sign(merged['Democrat']-merged['Republican'])"
   ]
  },
  {
   "cell_type": "markdown",
   "metadata": {},
   "source": [
    "<span style=\"color:#747678; font-size:14px;\">\n",
    "Merged column is -1 for when Republicans are chosen and +1 when Democrats are chosen.</span>"
   ]
  },
  {
   "cell_type": "markdown",
   "metadata": {},
   "source": [
    "<div style=\"background-color:#FFCD00;\"><span style=\"color:#182B49;\">Linear regression on above data. Race columns as independent variables $(X)$ abd Democrat, Republican and Winner as dependent variables.</span></div>"
   ]
  },
  {
   "cell_type": "code",
   "execution_count": 111,
   "metadata": {},
   "outputs": [
    {
     "data": {
      "text/plain": [
       "array([16.])"
      ]
     },
     "execution_count": 111,
     "metadata": {},
     "output_type": "execute_result"
    }
   ],
   "source": [
    "import numpy as np\n",
    "from sklearn.linear_model import LinearRegression\n",
    "X = np.array([[1, 1], [1, 2], [2, 2], [2, 3]])\n",
    "y = np.dot(X, np.array([1, 2])) + 3\n",
    "reg = LinearRegression().fit(X, y)\n",
    "reg.score(X, y)\n",
    "#reg.coef_accuracy_score(y_true, y_pred, normalize=False)\n",
    "#reg.intercept_\n",
    "reg.predict(np.array([[3, 5]]))"
   ]
  },
  {
   "cell_type": "code",
   "execution_count": 112,
   "metadata": {},
   "outputs": [
    {
     "data": {
      "text/html": [
       "<div>\n",
       "<style scoped>\n",
       "    .dataframe tbody tr th:only-of-type {\n",
       "        vertical-align: middle;\n",
       "    }\n",
       "\n",
       "    .dataframe tbody tr th {\n",
       "        vertical-align: top;\n",
       "    }\n",
       "\n",
       "    .dataframe thead th {\n",
       "        text-align: right;\n",
       "    }\n",
       "</style>\n",
       "<table border=\"1\" class=\"dataframe\">\n",
       "  <thead>\n",
       "    <tr style=\"text-align: right;\">\n",
       "      <th></th>\n",
       "      <th>state</th>\n",
       "      <th>one</th>\n",
       "      <th>two</th>\n",
       "      <th>three</th>\n",
       "      <th>four</th>\n",
       "      <th>five</th>\n",
       "      <th>six</th>\n",
       "      <th>seven</th>\n",
       "      <th>eight</th>\n",
       "      <th>nine</th>\n",
       "      <th>ten</th>\n",
       "      <th>eleven</th>\n",
       "      <th>twelve</th>\n",
       "      <th>women</th>\n",
       "      <th>men</th>\n",
       "      <th>Democrat</th>\n",
       "      <th>Republican</th>\n",
       "      <th>winner</th>\n",
       "    </tr>\n",
       "  </thead>\n",
       "  <tbody>\n",
       "    <tr>\n",
       "      <th>0</th>\n",
       "      <td>Alabama</td>\n",
       "      <td>2702622</td>\n",
       "      <td>1001622</td>\n",
       "      <td>23550</td>\n",
       "      <td>44474</td>\n",
       "      <td>2856</td>\n",
       "      <td>36352</td>\n",
       "      <td>2560692</td>\n",
       "      <td>821494</td>\n",
       "      <td>24462</td>\n",
       "      <td>39122</td>\n",
       "      <td>4182</td>\n",
       "      <td>33126</td>\n",
       "      <td>3811476</td>\n",
       "      <td>3483078</td>\n",
       "      <td>515619</td>\n",
       "      <td>968181</td>\n",
       "      <td>-1</td>\n",
       "    </tr>\n",
       "    <tr>\n",
       "      <th>1</th>\n",
       "      <td>Alaska</td>\n",
       "      <td>351856</td>\n",
       "      <td>15286</td>\n",
       "      <td>71536</td>\n",
       "      <td>31348</td>\n",
       "      <td>4650</td>\n",
       "      <td>24586</td>\n",
       "      <td>400014</td>\n",
       "      <td>20000</td>\n",
       "      <td>71604</td>\n",
       "      <td>26296</td>\n",
       "      <td>4858</td>\n",
       "      <td>23672</td>\n",
       "      <td>499262</td>\n",
       "      <td>546444</td>\n",
       "      <td>60045</td>\n",
       "      <td>90839</td>\n",
       "      <td>-1</td>\n",
       "    </tr>\n",
       "    <tr>\n",
       "      <th>2</th>\n",
       "      <td>Arizona</td>\n",
       "      <td>4178640</td>\n",
       "      <td>186474</td>\n",
       "      <td>227162</td>\n",
       "      <td>155778</td>\n",
       "      <td>10218</td>\n",
       "      <td>79896</td>\n",
       "      <td>4046060</td>\n",
       "      <td>204838</td>\n",
       "      <td>217594</td>\n",
       "      <td>131234</td>\n",
       "      <td>12524</td>\n",
       "      <td>75588</td>\n",
       "      <td>4838168</td>\n",
       "      <td>4687838</td>\n",
       "      <td>592011</td>\n",
       "      <td>1005615</td>\n",
       "      <td>-1</td>\n",
       "    </tr>\n",
       "    <tr>\n",
       "      <th>3</th>\n",
       "      <td>Arkansas</td>\n",
       "      <td>1852828</td>\n",
       "      <td>341484</td>\n",
       "      <td>18516</td>\n",
       "      <td>29894</td>\n",
       "      <td>3750</td>\n",
       "      <td>27014</td>\n",
       "      <td>1767470</td>\n",
       "      <td>294146</td>\n",
       "      <td>18606</td>\n",
       "      <td>26040</td>\n",
       "      <td>4136</td>\n",
       "      <td>25002</td>\n",
       "      <td>2273486</td>\n",
       "      <td>2135400</td>\n",
       "      <td>288156</td>\n",
       "      <td>451618</td>\n",
       "      <td>-1</td>\n",
       "    </tr>\n",
       "    <tr>\n",
       "      <th>4</th>\n",
       "      <td>California</td>\n",
       "      <td>20945732</td>\n",
       "      <td>1879048</td>\n",
       "      <td>423972</td>\n",
       "      <td>4264134</td>\n",
       "      <td>132114</td>\n",
       "      <td>750356</td>\n",
       "      <td>20779794</td>\n",
       "      <td>1787846</td>\n",
       "      <td>441038</td>\n",
       "      <td>3691194</td>\n",
       "      <td>127982</td>\n",
       "      <td>694622</td>\n",
       "      <td>28395356</td>\n",
       "      <td>27522476</td>\n",
       "      <td>5218441</td>\n",
       "      <td>4217366</td>\n",
       "      <td>1</td>\n",
       "    </tr>\n",
       "  </tbody>\n",
       "</table>\n",
       "</div>"
      ],
      "text/plain": [
       "        state       one      two   three     four    five     six     seven  \\\n",
       "0     Alabama   2702622  1001622   23550    44474    2856   36352   2560692   \n",
       "1      Alaska    351856    15286   71536    31348    4650   24586    400014   \n",
       "2     Arizona   4178640   186474  227162   155778   10218   79896   4046060   \n",
       "3    Arkansas   1852828   341484   18516    29894    3750   27014   1767470   \n",
       "4  California  20945732  1879048  423972  4264134  132114  750356  20779794   \n",
       "\n",
       "     eight    nine      ten  eleven  twelve     women       men  Democrat  \\\n",
       "0   821494   24462    39122    4182   33126   3811476   3483078    515619   \n",
       "1    20000   71604    26296    4858   23672    499262    546444     60045   \n",
       "2   204838  217594   131234   12524   75588   4838168   4687838    592011   \n",
       "3   294146   18606    26040    4136   25002   2273486   2135400    288156   \n",
       "4  1787846  441038  3691194  127982  694622  28395356  27522476   5218441   \n",
       "\n",
       "   Republican  winner  \n",
       "0      968181      -1  \n",
       "1       90839      -1  \n",
       "2     1005615      -1  \n",
       "3      451618      -1  \n",
       "4     4217366       1  "
      ]
     },
     "execution_count": 112,
     "metadata": {},
     "output_type": "execute_result"
    }
   ],
   "source": [
    "merged.head()"
   ]
  },
  {
   "cell_type": "code",
   "execution_count": 113,
   "metadata": {},
   "outputs": [],
   "source": [
    "x_ = ['one', 'two', 'three', 'four', 'five', 'six', 'seven', 'eight', 'nine', 'ten', 'eleven', 'twelve']"
   ]
  },
  {
   "cell_type": "markdown",
   "metadata": {},
   "source": [
    "<div style=\"background-color:#FFCD00;\"><span style=\"color:#182B49;\">SVM</span></div>"
   ]
  },
  {
   "cell_type": "code",
   "execution_count": 114,
   "metadata": {},
   "outputs": [
    {
     "data": {
      "text/plain": [
       "1.0"
      ]
     },
     "execution_count": 114,
     "metadata": {},
     "output_type": "execute_result"
    }
   ],
   "source": [
    "import numpy as np\n",
    "from sklearn.model_selection import train_test_split\n",
    "from sklearn import datasets\n",
    "from sklearn import svm\n",
    "X = merged[x_]\n",
    "y = merged['winner']\n",
    "X_train, X_test, y_train, y_test = train_test_split(X, y, test_size=0.1, random_state=0)\n",
    "#X_train.shape, y_train.shape\n",
    "#X_test.shape, y_test.shape\n",
    "clf = svm.SVC(kernel='linear', C=1).fit(X_train, y_train)\n",
    "clf.score(X_test, y_test)"
   ]
  },
  {
   "cell_type": "code",
   "execution_count": 115,
   "metadata": {},
   "outputs": [],
   "source": [
    "pred = {'SVM': [],\n",
    "       'KNN': [], \n",
    "       'Regression': [],a\n",
    "       'Random Forest': []}"
   ]
  },
  {
   "cell_type": "code",
   "execution_count": 130,
   "metadata": {},
   "outputs": [],
   "source": [
    "def SVM(ratio):\n",
    "    av = []\n",
    "    for i in range(5):\n",
    "        X_train, X_test, y_train, y_test = train_test_split(X, y, test_size=ratio, random_state=0)\n",
    "        clf = svm.SVC(kernel='linear', C=1).fit(X_train, y_train)\n",
    "        av.append(clf.score(X_test, y_test))\n",
    "    return np.mean(av)"
   ]
  },
  {
   "cell_type": "code",
   "execution_count": 131,
   "metadata": {},
   "outputs": [
    {
     "data": {
      "text/plain": [
       "1.0"
      ]
     },
     "execution_count": 131,
     "metadata": {},
     "output_type": "execute_result"
    }
   ],
   "source": [
    "SVM(0.1)"
   ]
  },
  {
   "cell_type": "code",
   "execution_count": 132,
   "metadata": {},
   "outputs": [
    {
     "data": {
      "text/plain": [
       "0.5"
      ]
     },
     "execution_count": 132,
     "metadata": {},
     "output_type": "execute_result"
    }
   ],
   "source": [
    "SVM(0.2)"
   ]
  },
  {
   "cell_type": "code",
   "execution_count": 137,
   "metadata": {},
   "outputs": [
    {
     "data": {
      "text/plain": [
       "Text(0.5, 1.0, 'Accuracy of Winner Prediction with different test sizes (SVM)')"
      ]
     },
     "execution_count": 137,
     "metadata": {},
     "output_type": "execute_result"
    },
    {
     "data": {
      "image/png": "[encoded data removed]",
      "text/plain": [
       "<Figure size 576x288 with 1 Axes>"
      ]
     },
     "metadata": {
      "needs_background": "light"
     },
     "output_type": "display_data"
    }
   ],
   "source": [
    "plt.figure(figsize=(8,4))\n",
    "plt.scatter([0.1, 0.2], [1, 0.5], color=\"salmon\")\n",
    "plt.plot([0.1, 0.2], [1, 0.5], color=\"navy\")\n",
    "plt.xlabel(\"test set ratio\")\n",
    "plt.xlabel(\"Accuracy\")\n",
    "plt.title(\"Accuracy of Winner Prediction with different test sizes (SVM)\")"
   ]
  },
  {
   "cell_type": "markdown",
   "metadata": {},
   "source": [
    "<div style=\"background-color:#FFCD00;\"><span style=\"color:#182B49;\">KNN</span></div>"
   ]
  },
  {
   "cell_type": "code",
   "execution_count": 142,
   "metadata": {},
   "outputs": [],
   "source": [
    "from sklearn.neighbors import KNeighborsClassifier\n",
    "from sklearn.metrics import accuracy_score\n",
    "def KNN(ratio, k):\n",
    "    av = []\n",
    "    for i in range(5):\n",
    "        X_train, X_test, y_train, y_test = train_test_split(X, y, test_size=ratio, random_state=0)\n",
    "        neigh = KNeighborsClassifier(n_neighbors=k)\n",
    "        neigh.fit(X_train, y_train)\n",
    "        predicted = neigh.predict(X_test)\n",
    "        av.append(accuracy_score(predicted, y_test))\n",
    "    return np.mean(av)"
   ]
  },
  {
   "cell_type": "code",
   "execution_count": 143,
   "metadata": {},
   "outputs": [
    {
     "data": {
      "text/plain": [
       "1.0"
      ]
     },
     "execution_count": 143,
     "metadata": {},
     "output_type": "execute_result"
    }
   ],
   "source": [
    "k =3\n",
    "KNN(0.1, k)"
   ]
  },
  {
   "cell_type": "code",
   "execution_count": 145,
   "metadata": {},
   "outputs": [
    {
     "data": {
      "text/plain": [
       "0.625"
      ]
     },
     "execution_count": 145,
     "metadata": {},
     "output_type": "execute_result"
    }
   ],
   "source": [
    "KNN(0.2, k)"
   ]
  },
  {
   "cell_type": "code",
   "execution_count": 146,
   "metadata": {},
   "outputs": [
    {
     "data": {
      "text/plain": [
       "0.75"
      ]
     },
     "execution_count": 146,
     "metadata": {},
     "output_type": "execute_result"
    }
   ],
   "source": [
    "KNN(0.3, k)"
   ]
  },
  {
   "cell_type": "code",
   "execution_count": 147,
   "metadata": {},
   "outputs": [
    {
     "data": {
      "text/plain": [
       "0.5833333333333334"
      ]
     },
     "execution_count": 147,
     "metadata": {},
     "output_type": "execute_result"
    }
   ],
   "source": [
    "KNN(0.3, 5)"
   ]
  },
  {
   "cell_type": "markdown",
   "metadata": {},
   "source": [
    "<div style=\"background-color:#FFCD00;\"><span style=\"color:#182B49;\">Random Forest</span></div>"
   ]
  },
  {
   "cell_type": "code",
   "execution_count": 155,
   "metadata": {},
   "outputs": [],
   "source": [
    "from sklearn.ensemble import RandomForestClassifier\n",
    "from sklearn.datasets import make_classification"
   ]
  },
  {
   "cell_type": "code",
   "execution_count": 156,
   "metadata": {},
   "outputs": [],
   "source": [
    "def rf(ratio):\n",
    "    av = []\n",
    "    for i in range(5):\n",
    "        X_train, X_test, y_train, y_test = train_test_split(X, y, test_size=ratio, random_state=0)\n",
    "        clf = RandomForestClassifier(max_depth=10, random_state=0)\n",
    "        clf.fit(X_train, y_train)\n",
    "        predicted = clf.predict(X_test)\n",
    "        av.append(accuracy_score(predicted, y_test))\n",
    "    return np.mean(av)"
   ]
  },
  {
   "cell_type": "code",
   "execution_count": 157,
   "metadata": {},
   "outputs": [
    {
     "data": {
      "text/plain": [
       "1.0"
      ]
     },
     "execution_count": 157,
     "metadata": {},
     "output_type": "execute_result"
    }
   ],
   "source": [
    "rf(0.1)"
   ]
  },
  {
   "cell_type": "code",
   "execution_count": 159,
   "metadata": {},
   "outputs": [
    {
     "data": {
      "text/plain": [
       "0.875"
      ]
     },
     "execution_count": 159,
     "metadata": {},
     "output_type": "execute_result"
    }
   ],
   "source": [
    "rf(0.2)"
   ]
  },
  {
   "cell_type": "code",
   "execution_count": 160,
   "metadata": {},
   "outputs": [
    {
     "data": {
      "text/plain": [
       "0.75"
      ]
     },
     "execution_count": 160,
     "metadata": {},
     "output_type": "execute_result"
    }
   ],
   "source": [
    "rf(0.3)"
   ]
  },
  {
   "cell_type": "code",
   "execution_count": 170,
   "metadata": {},
   "outputs": [],
   "source": [
    "pred = {'SVM': [1, 0.5, 0.5],\n",
    "       'KNN': [1, 0.675, 0.75], \n",
    "       'Regression': [0, 0, 0],\n",
    "       'Random Forest': [1, 0.875, 0.75]}"
   ]
  },
  {
   "cell_type": "code",
   "execution_count": 174,
   "metadata": {},
   "outputs": [
    {
     "data": {
      "text/plain": [
       "[1, 0.5, 0.5]"
      ]
     },
     "execution_count": 174,
     "metadata": {},
     "output_type": "execute_result"
    }
   ],
   "source": [
    "pred['SVM']"
   ]
  },
  {
   "cell_type": "code",
   "execution_count": 213,
   "metadata": {},
   "outputs": [
    {
     "data": {
      "text/plain": [
       "<matplotlib.legend.Legend at 0x7fb54369ea30>"
      ]
     },
     "execution_count": 213,
     "metadata": {},
     "output_type": "execute_result"
    },
    {
     "data": {
      "image/png": "[encoded data removed]",
      "text/plain": [
       "<Figure size 576x288 with 1 Axes>"
      ]
     },
     "metadata": {
      "needs_background": "light"
     },
     "output_type": "display_data"
    }
   ],
   "source": [
    "plt.figure(figsize=(8,4))\n",
    "plt.scatter(['SVM', 'KNN (k=3)',  'Random Forest'], [1, 1, 1], color=\"green\", label=\"ratio=0.1\", s= 100)\n",
    "plt.scatter(['SVM', 'KNN (k=3)',  'Random Forest'], [0.5, 0.675, 0.875], color=\"navy\", label=\"ratio=0.2\", s=50)\n",
    "plt.scatter(['SVM', 'KNN (k=3)', 'Random Forest'], [0.5, 0.75, 0.75], color=\"salmon\", label=\"ratio=0.3\", s= 20)\n",
    "\n",
    "#plt.plot(pred.keys(), pred.values() , color=\"navy\", label=\"SVM\", s=40)\n",
    "plt.xlabel(\"test set ratio\")\n",
    "plt.xlabel(\"Accuracy\")\n",
    "plt.title(\"Accuracy of Winner Prediction with different test sizes\")\n",
    "plt.legend(loc=(0.8,0.1))"
   ]
  }
 ],
 "metadata": {
  "kernelspec": {
   "display_name": "Python 3",
   "language": "python",
   "name": "python3"
  },
  "language_info": {
   "codemirror_mode": {
    "name": "ipython",
    "version": 3
   },
   "file_extension": ".py",
   "mimetype": "text/x-python",
   "name": "python",
   "nbconvert_exporter": "python",
   "pygments_lexer": "ipython3",
   "version": "3.8.3"
  }
 },
 "nbformat": 4,
 "nbformat_minor": 4
}
